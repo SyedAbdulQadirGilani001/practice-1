{
 "cells": [
  {
   "cell_type": "code",
   "execution_count": 5,
   "metadata": {},
   "outputs": [],
   "source": [
    "import pandas as pd\n",
    "import numpy as np\n",
    "import matplotlib.pyplot as plt\n",
    "from glob import glob\n",
    "\n"
   ]
  },
  {
   "cell_type": "code",
   "execution_count": 19,
   "metadata": {},
   "outputs": [],
   "source": [
    "# usar glob para expresiones regulares\n",
    "us_census = glob(\"states*\")\n",
    "us_census\n",
    "\n",
    "# iterar por todas las listas que se llamen states...\n",
    "list_1 = []\n",
    "for x in us_census:\n",
    "    data = pd.read_csv(x)\n",
    "    list_1.append(data)\n",
    "  "
   ]
  },
  {
   "cell_type": "code",
   "execution_count": 20,
   "metadata": {},
   "outputs": [
    {
     "name": "stdout",
     "output_type": "stream",
     "text": [
      "   Unnamed: 0       State  TotalPop             Hispanic                White  \\\n",
      "0           0     Alabama   4830620  3.7516156462584975%     61.878656462585%   \n",
      "1           1      Alaska    733375   5.909580838323351%  60.910179640718574%   \n",
      "2           2     Arizona   6641928  29.565921052631502%  57.120000000000026%   \n",
      "3           3    Arkansas   2958208   6.215474452554738%   71.13781021897813%   \n",
      "4           4  California  38421464  37.291874687968054%   40.21578881677474%   \n",
      "\n",
      "                 Black                Native                Asian  \\\n",
      "0   31.25297619047618%   0.4532312925170065%  1.0502551020408146%   \n",
      "1  2.8485029940119775%    16.39101796407186%   5.450299401197604%   \n",
      "2  3.8509868421052658%     4.35506578947368%   2.876578947368419%   \n",
      "3  18.968759124087573%   0.5229197080291965%  1.1423357664233578%   \n",
      "4   5.677396405391911%  0.40529206190713685%  13.052234148776776%   \n",
      "\n",
      "                Pacific              Income            GenderPop  \n",
      "0  0.03435374149659865%  $43296.35860306644    2341093M_2489527F  \n",
      "1   1.0586826347305378%  $70354.74390243902      384160M_349215F  \n",
      "2  0.16763157894736833%  $54207.82095490716    3299088M_3342840F  \n",
      "3  0.14686131386861315%  $41935.63396778917    1451913M_1506295F  \n",
      "4  0.35141038442336353%  $67264.78230266465  19087135M_19334329F  \n",
      "Unnamed: 0     int64\n",
      "State         object\n",
      "TotalPop       int64\n",
      "Hispanic      object\n",
      "White         object\n",
      "Black         object\n",
      "Native        object\n",
      "Asian         object\n",
      "Pacific       object\n",
      "Income        object\n",
      "GenderPop     object\n",
      "dtype: object\n"
     ]
    }
   ],
   "source": [
    "us_census = pd.concat(list_1)\n",
    "\n",
    "print(us_census.head())\n",
    "print(us_census.dtypes)"
   ]
  },
  {
   "cell_type": "code",
   "execution_count": 21,
   "metadata": {},
   "outputs": [
    {
     "name": "stdout",
     "output_type": "stream",
     "text": [
      "Unnamed: 0      int64\n",
      "State          object\n",
      "TotalPop        int64\n",
      "Hispanic       object\n",
      "White          object\n",
      "Black          object\n",
      "Native         object\n",
      "Asian          object\n",
      "Pacific        object\n",
      "Income        float64\n",
      "GenderPop      object\n",
      "dtype: object\n"
     ]
    }
   ],
   "source": [
    "# quitar el signo peso y transformar el objeto en float\n",
    "us_census.Income = us_census['Income'].replace('[\\$,]', '', regex=True)\n",
    "us_census.Income = pd.to_numeric(us_census.Income)\n",
    "print(us_census.dtypes)\n",
    "\n"
   ]
  },
  {
   "cell_type": "code",
   "execution_count": 24,
   "metadata": {},
   "outputs": [
    {
     "data": {
      "text/html": [
       "<div>\n",
       "<style scoped>\n",
       "    .dataframe tbody tr th:only-of-type {\n",
       "        vertical-align: middle;\n",
       "    }\n",
       "\n",
       "    .dataframe tbody tr th {\n",
       "        vertical-align: top;\n",
       "    }\n",
       "\n",
       "    .dataframe thead th {\n",
       "        text-align: right;\n",
       "    }\n",
       "</style>\n",
       "<table border=\"1\" class=\"dataframe\">\n",
       "  <thead>\n",
       "    <tr style=\"text-align: right;\">\n",
       "      <th></th>\n",
       "      <th>Unnamed: 0</th>\n",
       "      <th>State</th>\n",
       "      <th>TotalPop</th>\n",
       "      <th>Hispanic</th>\n",
       "      <th>White</th>\n",
       "      <th>Black</th>\n",
       "      <th>Native</th>\n",
       "      <th>Asian</th>\n",
       "      <th>Pacific</th>\n",
       "      <th>Income</th>\n",
       "      <th>GenderPop</th>\n",
       "      <th>male</th>\n",
       "      <th>female</th>\n",
       "    </tr>\n",
       "  </thead>\n",
       "  <tbody>\n",
       "    <tr>\n",
       "      <th>0</th>\n",
       "      <td>0</td>\n",
       "      <td>Alabama</td>\n",
       "      <td>4830620</td>\n",
       "      <td>3.7516156462584975%</td>\n",
       "      <td>61.878656462585%</td>\n",
       "      <td>31.25297619047618%</td>\n",
       "      <td>0.4532312925170065%</td>\n",
       "      <td>1.0502551020408146%</td>\n",
       "      <td>0.03435374149659865%</td>\n",
       "      <td>43296.358603</td>\n",
       "      <td>2341093M_2489527F</td>\n",
       "      <td>2341093</td>\n",
       "      <td>2489527</td>\n",
       "    </tr>\n",
       "    <tr>\n",
       "      <th>1</th>\n",
       "      <td>1</td>\n",
       "      <td>Alaska</td>\n",
       "      <td>733375</td>\n",
       "      <td>5.909580838323351%</td>\n",
       "      <td>60.910179640718574%</td>\n",
       "      <td>2.8485029940119775%</td>\n",
       "      <td>16.39101796407186%</td>\n",
       "      <td>5.450299401197604%</td>\n",
       "      <td>1.0586826347305378%</td>\n",
       "      <td>70354.743902</td>\n",
       "      <td>384160M_349215F</td>\n",
       "      <td>384160</td>\n",
       "      <td>349215</td>\n",
       "    </tr>\n",
       "  </tbody>\n",
       "</table>\n",
       "</div>"
      ],
      "text/plain": [
       "   Unnamed: 0    State  TotalPop             Hispanic                White  \\\n",
       "0           0  Alabama   4830620  3.7516156462584975%     61.878656462585%   \n",
       "1           1   Alaska    733375   5.909580838323351%  60.910179640718574%   \n",
       "\n",
       "                 Black               Native                Asian  \\\n",
       "0   31.25297619047618%  0.4532312925170065%  1.0502551020408146%   \n",
       "1  2.8485029940119775%   16.39101796407186%   5.450299401197604%   \n",
       "\n",
       "                Pacific        Income          GenderPop     male   female  \n",
       "0  0.03435374149659865%  43296.358603  2341093M_2489527F  2341093  2489527  \n",
       "1   1.0586826347305378%  70354.743902    384160M_349215F   384160   349215  "
      ]
     },
     "execution_count": 24,
     "metadata": {},
     "output_type": "execute_result"
    }
   ],
   "source": [
    "# dividir la columna GenderPop es masculino y femenino\n",
    "split_gender = us_census['GenderPop'].str.split('_', expand=True)\n",
    "us_census['male'] = split_gender[0].str.split('(\\d+)', expand=True)[1]\n",
    "us_census['female'] = split_gender[1].str.split('(\\d+)', expand=True)[1]\n",
    "\n",
    "us_census.head(2)\n",
    "\n"
   ]
  },
  {
   "cell_type": "code",
   "execution_count": 25,
   "metadata": {},
   "outputs": [
    {
     "name": "stdout",
     "output_type": "stream",
     "text": [
      "0   NaN\n",
      "1   NaN\n",
      "2   NaN\n",
      "3   NaN\n",
      "4   NaN\n",
      "5   NaN\n",
      "0   NaN\n",
      "1   NaN\n",
      "2   NaN\n",
      "3   NaN\n",
      "4   NaN\n",
      "5   NaN\n",
      "0   NaN\n",
      "1   NaN\n",
      "2   NaN\n",
      "3   NaN\n",
      "4   NaN\n",
      "5   NaN\n",
      "0   NaN\n",
      "1   NaN\n",
      "2   NaN\n",
      "3   NaN\n",
      "4   NaN\n",
      "5   NaN\n",
      "0   NaN\n",
      "1   NaN\n",
      "2   NaN\n",
      "3   NaN\n",
      "4   NaN\n",
      "5   NaN\n",
      "0   NaN\n",
      "1   NaN\n",
      "2   NaN\n",
      "3   NaN\n",
      "4   NaN\n",
      "5   NaN\n",
      "0   NaN\n",
      "1   NaN\n",
      "2   NaN\n",
      "3   NaN\n",
      "4   NaN\n",
      "5   NaN\n",
      "0   NaN\n",
      "1   NaN\n",
      "2   NaN\n",
      "3   NaN\n",
      "4   NaN\n",
      "5   NaN\n",
      "0   NaN\n",
      "1   NaN\n",
      "2   NaN\n",
      "3   NaN\n",
      "4   NaN\n",
      "5   NaN\n",
      "0   NaN\n",
      "1   NaN\n",
      "2   NaN\n",
      "3   NaN\n",
      "4   NaN\n",
      "5   NaN\n",
      "Name: female, dtype: float64\n",
      "Unnamed: 0      int64\n",
      "State          object\n",
      "TotalPop        int64\n",
      "Hispanic       object\n",
      "White          object\n",
      "Black          object\n",
      "Native         object\n",
      "Asian          object\n",
      "Pacific        object\n",
      "Income        float64\n",
      "GenderPop      object\n",
      "male          float64\n",
      "female        float64\n",
      "dtype: object\n",
      "   Unnamed: 0       State  TotalPop             Hispanic                White  \\\n",
      "0           0     Alabama   4830620  3.7516156462584975%     61.878656462585%   \n",
      "1           1      Alaska    733375   5.909580838323351%  60.910179640718574%   \n",
      "2           2     Arizona   6641928  29.565921052631502%  57.120000000000026%   \n",
      "3           3    Arkansas   2958208   6.215474452554738%   71.13781021897813%   \n",
      "4           4  California  38421464  37.291874687968054%   40.21578881677474%   \n",
      "\n",
      "                 Black                Native                Asian  \\\n",
      "0   31.25297619047618%   0.4532312925170065%  1.0502551020408146%   \n",
      "1  2.8485029940119775%    16.39101796407186%   5.450299401197604%   \n",
      "2  3.8509868421052658%     4.35506578947368%   2.876578947368419%   \n",
      "3  18.968759124087573%   0.5229197080291965%  1.1423357664233578%   \n",
      "4   5.677396405391911%  0.40529206190713685%  13.052234148776776%   \n",
      "\n",
      "                Pacific        Income            GenderPop  male  female  \n",
      "0  0.03435374149659865%  43296.358603    2341093M_2489527F   NaN     NaN  \n",
      "1   1.0586826347305378%  70354.743902      384160M_349215F   NaN     NaN  \n",
      "2  0.16763157894736833%  54207.820955    3299088M_3342840F   NaN     NaN  \n",
      "3  0.14686131386861315%  41935.633968    1451913M_1506295F   NaN     NaN  \n",
      "4  0.35141038442336353%  67264.782303  19087135M_19334329F   NaN     NaN  \n",
      "nan\n"
     ]
    }
   ],
   "source": [
    "# quitar la M y la F de la columna y transformarlo en float\n",
    "us_census.male = us_census['male'].replace('[\\w,]', '', regex=True)\n",
    "us_census.male = pd.to_numeric(us_census.male)\n",
    "\n",
    "us_census.female = us_census['female'].replace('[\\w,]', '', regex=True)\n",
    "us_census.female = pd.to_numeric(us_census.female)\n",
    "\n",
    "print(us_census.female)\n",
    "print(us_census.dtypes)\n",
    "print(us_census.head())\n",
    "print(us_census.female.mean())\n",
    "\n"
   ]
  },
  {
   "cell_type": "code",
   "execution_count": 26,
   "metadata": {},
   "outputs": [
    {
     "data": {
      "image/png": "[encoded data removed]",
      "text/plain": [
       "<Figure size 432x288 with 1 Axes>"
      ]
     },
     "metadata": {
      "needs_background": "light"
     },
     "output_type": "display_data"
    }
   ],
   "source": [
    "# mostrar el grafivo M v/s F ... pero todos los valores son Null\n",
    "plt.scatter(us_census.male, us_census.female)\n",
    "plt.show()\n",
    "\n"
   ]
  },
  {
   "cell_type": "code",
   "execution_count": 27,
   "metadata": {},
   "outputs": [
    {
     "data": {
      "image/png": "[encoded data removed]",
      "text/plain": [
       "<Figure size 432x288 with 1 Axes>"
      ]
     },
     "metadata": {
      "needs_background": "light"
     },
     "output_type": "display_data"
    }
   ],
   "source": [
    "valores = us_census['TotalPop'] - us_census['male']\n",
    "us_census['female'] = us_census['female'].fillna(value=valores)\n",
    "\n",
    "us_census['female'] = pd.to_numeric(us_census['female'])\n",
    "us_census['male'] = pd.to_numeric(us_census['male'])\n",
    "\n",
    "plt.scatter(us_census.male, us_census.Income)\n",
    "plt.show()\n"
   ]
  },
  {
   "cell_type": "code",
   "execution_count": null,
   "metadata": {},
   "outputs": [],
   "source": []
  }
 ],
 "metadata": {
  "kernelspec": {
   "display_name": "Python 3",
   "language": "python",
   "name": "python3"
  },
  "language_info": {
   "codemirror_mode": {
    "name": "ipython",
    "version": 3
   },
   "file_extension": ".py",
   "mimetype": "text/x-python",
   "name": "python",
   "nbconvert_exporter": "python",
   "pygments_lexer": "ipython3",
   "version": "3.7.6"
  }
 },
 "nbformat": 4,
 "nbformat_minor": 4
}
