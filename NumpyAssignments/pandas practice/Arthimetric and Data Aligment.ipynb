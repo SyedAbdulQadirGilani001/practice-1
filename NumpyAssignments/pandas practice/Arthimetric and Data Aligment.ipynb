{
 "cells": [
  {
   "cell_type": "code",
   "execution_count": 1,
   "metadata": {},
   "outputs": [],
   "source": [
    "import numpy as np\n",
    "import pandas as pd"
   ]
  },
  {
   "cell_type": "code",
   "execution_count": 2,
   "metadata": {},
   "outputs": [
    {
     "name": "stdout",
     "output_type": "stream",
     "text": [
      "          one  two  three  four\n",
      "Ohio        0    1      2     3\n",
      "Colerado    4    5      6     7\n",
      "utah        8    9     10    11\n",
      "NewYork    12   13     14    15 \n",
      "\n",
      "          two  three\n",
      "Colerado    5      6\n",
      "Ohio        1      2\n",
      "\n",
      "          two  three\n",
      "Colerado    5      6\n"
     ]
    }
   ],
   "source": [
    "data_df = pd.DataFrame(np.arange(16).reshape((4,4)),\n",
    "                      index=['Ohio','Colerado','utah','NewYork'],\n",
    "                      columns=['one','two','three','four'])\n",
    "print(data_df,\"\\n\")\n",
    "#in the loc method specify row label first\n",
    "#then column names\n",
    "#remember !multiples columns required notations\n",
    "print(data_df.loc[['Colerado','Ohio'],['two','three']])\n",
    "print()\n",
    "print(data_df.loc[['Colerado'],['two','three']])\n"
   ]
  },
  {
   "cell_type": "code",
   "execution_count": 3,
   "metadata": {},
   "outputs": [
    {
     "name": "stdout",
     "output_type": "stream",
     "text": [
      "four    11\n",
      "one      8\n",
      "two      9\n",
      "Name: utah, dtype: int32\n"
     ]
    }
   ],
   "source": [
    "print(data_df.iloc[2,[3,0,1]])"
   ]
  },
  {
   "cell_type": "code",
   "execution_count": 4,
   "metadata": {},
   "outputs": [
    {
     "name": "stdout",
     "output_type": "stream",
     "text": [
      "          one  two  three  four\n",
      "Ohio        0    1      2     3\n",
      "Colerado    4    5      6     7\n",
      "utah        8    9     10    11\n",
      "NewYork    12   13     14    15\n"
     ]
    }
   ],
   "source": [
    "print(data_df.iloc[:])"
   ]
  },
  {
   "cell_type": "code",
   "execution_count": 5,
   "metadata": {},
   "outputs": [
    {
     "name": "stdout",
     "output_type": "stream",
     "text": [
      "          one  two  three  four\n",
      "Ohio        0    1      2     3\n",
      "Colerado    4    5      6     7\n"
     ]
    }
   ],
   "source": [
    "print(data_df.iloc[:2,:])"
   ]
  },
  {
   "cell_type": "code",
   "execution_count": 6,
   "metadata": {},
   "outputs": [
    {
     "name": "stdout",
     "output_type": "stream",
     "text": [
      "          one  two\n",
      "Ohio        0    1\n",
      "Colerado    4    5\n",
      "utah        8    9\n",
      "NewYork    12   13\n"
     ]
    }
   ],
   "source": [
    "print(data_df.iloc[:,:2])"
   ]
  },
  {
   "cell_type": "code",
   "execution_count": 7,
   "metadata": {},
   "outputs": [
    {
     "name": "stdout",
     "output_type": "stream",
     "text": [
      "one      12\n",
      "two      13\n",
      "three    14\n",
      "four     15\n",
      "Name: NewYork, dtype: int32\n"
     ]
    }
   ],
   "source": [
    "print(data_df.iloc[3])"
   ]
  },
  {
   "cell_type": "code",
   "execution_count": 8,
   "metadata": {},
   "outputs": [
    {
     "name": "stdout",
     "output_type": "stream",
     "text": [
      "[Ohio        False\n",
      "Colerado    False\n",
      "utah        False\n",
      "NewYork      True\n",
      "Name: two, dtype: bool]\n"
     ]
    }
   ],
   "source": [
    "print([data_df.two >10])"
   ]
  },
  {
   "cell_type": "code",
   "execution_count": 9,
   "metadata": {},
   "outputs": [
    {
     "name": "stdout",
     "output_type": "stream",
     "text": [
      "          b  c  d\n",
      "Ohio      0  1  2\n",
      "Texas     3  4  5\n",
      "Colarido  6  7  8\n",
      "         b   d   e\n",
      "Utah     0   1   2\n",
      "Ohio     3   4   5\n",
      "Texas    6   7   8\n",
      "Oregeon  9  10  11\n"
     ]
    }
   ],
   "source": [
    "df1=pd.DataFrame(np.arange(9).reshape((3,3)),index=['Ohio','Texas','Colarido'],\n",
    "                 columns=list('bcd'))\n",
    "df2=pd.DataFrame(np.arange(12).reshape((4,3)),index=['Utah','Ohio','Texas','Oregeon']\n",
    "                 ,columns=list('bde'))\n",
    "print(df1)\n",
    "print(df2)"
   ]
  },
  {
   "cell_type": "code",
   "execution_count": 10,
   "metadata": {},
   "outputs": [
    {
     "name": "stdout",
     "output_type": "stream",
     "text": [
      "            b   c     d   e\n",
      "Colarido  NaN NaN   NaN NaN\n",
      "Ohio      3.0 NaN   6.0 NaN\n",
      "Oregeon   NaN NaN   NaN NaN\n",
      "Texas     9.0 NaN  12.0 NaN\n",
      "Utah      NaN NaN   NaN NaN\n"
     ]
    }
   ],
   "source": [
    "print(df1+df2)"
   ]
  },
  {
   "cell_type": "code",
   "execution_count": 27,
   "metadata": {},
   "outputs": [
    {
     "name": "stdout",
     "output_type": "stream",
     "text": [
      "          a   b   c   d   e\n",
      "Utah      0   1   2   3   4\n",
      "Ohio      5   6   7   8   9\n",
      "Texas    10  11  12  13  14\n",
      "Oregeon  15  16  17  18  19\n",
      "             a     b     c     d     e\n",
      "Colarido   8.0   9.0  10.0  11.0   NaN\n",
      "Ohio       5.0   7.0   9.0  11.0   9.0\n",
      "Oregeon   15.0  16.0  17.0  18.0  19.0\n",
      "Texas     14.0  16.0  18.0  20.0  14.0\n",
      "Utah       0.0   1.0   2.0   3.0   4.0\n"
     ]
    }
   ],
   "source": [
    "df1=pd.DataFrame(np.arange(12).reshape((3,4)),index=['Ohio','Texas','Colarido'],\n",
    "                 columns=list('abcd'))\n",
    "df2=pd.DataFrame(np.arange(20).reshape((4,5)),index=['Utah','Ohio','Texas','Oregeon']\n",
    "                 ,columns=list('abcde'))\n",
    "#df1.loc[1,'b']=np.nan\n",
    "#print(df1)\n",
    "print(df2)\n",
    "\n",
    "#df3 =df2+df1\n",
    "#print(df3)\n",
    "df3=df1.add(df2,fill_value=0)\n",
    "print(df3)"
   ]
  },
  {
   "cell_type": "code",
   "execution_count": null,
   "metadata": {},
   "outputs": [],
   "source": []
  },
  {
   "cell_type": "code",
   "execution_count": null,
   "metadata": {},
   "outputs": [],
   "source": []
  }
 ],
 "metadata": {
  "kernelspec": {
   "display_name": "Python 3",
   "language": "python",
   "name": "python3"
  },
  "language_info": {
   "codemirror_mode": {
    "name": "ipython",
    "version": 3
   },
   "file_extension": ".py",
   "mimetype": "text/x-python",
   "name": "python",
   "nbconvert_exporter": "python",
   "pygments_lexer": "ipython3",
   "version": "3.7.6"
  }
 },
 "nbformat": 4,
 "nbformat_minor": 4
}
