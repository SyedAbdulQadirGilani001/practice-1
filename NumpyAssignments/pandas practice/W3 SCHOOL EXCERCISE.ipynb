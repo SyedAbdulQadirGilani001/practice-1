{
 "cells": [
  {
   "cell_type": "markdown",
   "metadata": {},
   "source": [
    "**Write a Pandas program to create and display a one-dimensional array-like object containing an array of data using Pandas**"
   ]
  },
  {
   "cell_type": "code",
   "execution_count": 1,
   "metadata": {},
   "outputs": [],
   "source": [
    "import pandas as pd\n",
    "import numpy as np"
   ]
  },
  {
   "cell_type": "code",
   "execution_count": 2,
   "metadata": {},
   "outputs": [
    {
     "name": "stdout",
     "output_type": "stream",
     "text": [
      "0    0\n",
      "1    1\n",
      "2    2\n",
      "3    3\n",
      "4    4\n",
      "dtype: int32\n"
     ]
    }
   ],
   "source": [
    "ds =pd.Series(np.arange(5))\n",
    "print(ds)"
   ]
  },
  {
   "cell_type": "markdown",
   "metadata": {},
   "source": [
    "**Write a Pandas program to convert a Panda module Series to Python list and it's type**"
   ]
  },
  {
   "cell_type": "code",
   "execution_count": 3,
   "metadata": {},
   "outputs": [
    {
     "name": "stdout",
     "output_type": "stream",
     "text": [
      "0    1\n",
      "1    2\n",
      "2    3\n",
      "3    4\n",
      "4    5\n",
      "5    6\n",
      "dtype: int64\n",
      "<class 'pandas.core.series.Series'>\n",
      "After Convert a Panda module into python list\n",
      "Python list : [1, 2, 3, 4, 5, 6]\n",
      "<class 'list'>\n"
     ]
    }
   ],
   "source": [
    "ds=pd.Series([1,2,3,4,5,6])\n",
    "print(ds)\n",
    "print(type(ds))\n",
    "print(\"After Convert a Panda module into python list\")\n",
    "alist=ds.tolist()\n",
    "print(\"Python list :\",alist)\n",
    "print(type(alist))"
   ]
  },
  {
   "cell_type": "markdown",
   "metadata": {},
   "source": [
    "**Write a Pandas program to add, subtract, multiple and divide two Pandas Series**"
   ]
  },
  {
   "cell_type": "code",
   "execution_count": 4,
   "metadata": {},
   "outputs": [
    {
     "name": "stdout",
     "output_type": "stream",
     "text": [
      "After add :\n",
      " 0     3\n",
      "1     7\n",
      "2    11\n",
      "3    15\n",
      "4    19\n",
      "dtype: int64\n",
      "After subract :\n",
      " 0    1\n",
      "1    1\n",
      "2    1\n",
      "3    1\n",
      "4    1\n",
      "dtype: int64\n",
      "After mutiply :\n",
      " 0     2\n",
      "1    12\n",
      "2    30\n",
      "3    56\n",
      "4    90\n",
      "dtype: int64\n",
      "After divide :\n",
      " 0    2.000000\n",
      "1    1.333333\n",
      "2    1.200000\n",
      "3    1.142857\n",
      "4    1.111111\n",
      "dtype: float64\n"
     ]
    }
   ],
   "source": [
    "ds1=pd.Series([2, 4, 6, 8, 10])\n",
    "ds2=pd.Series( [1, 3, 5, 7, 9])\n",
    "print(\"After add :\\n\",ds1+ds2)\n",
    "print(\"After subract :\\n\",ds1-ds2)\n",
    "print(\"After mutiply :\\n\",ds1*ds2)\n",
    "print(\"After divide :\\n\",ds1/ds2)\n"
   ]
  },
  {
   "cell_type": "markdown",
   "metadata": {},
   "source": [
    "**Write a Pandas program to compare the elements of the two Pandas Series.\n",
    "Sample Series: [2, 4, 6, 8, 10], [1, 3, 5, 7, 10]**"
   ]
  },
  {
   "cell_type": "code",
   "execution_count": 5,
   "metadata": {},
   "outputs": [
    {
     "name": "stdout",
     "output_type": "stream",
     "text": [
      "after comparing \n",
      " 0    False\n",
      "1    False\n",
      "2    False\n",
      "3    False\n",
      "4     True\n",
      "dtype: bool\n",
      "Less than \n",
      " 0    False\n",
      "1    False\n",
      "2    False\n",
      "3    False\n",
      "4    False\n",
      "dtype: bool\n",
      "greater then \n",
      " 0     True\n",
      "1     True\n",
      "2     True\n",
      "3     True\n",
      "4    False\n",
      "dtype: bool\n"
     ]
    }
   ],
   "source": [
    "ds1=pd.Series([2,4,6,8,10])\n",
    "ds2=pd.Series([1,3,5,7,10])\n",
    "ds3=(ds1==ds2)\n",
    "print(\"after comparing \\n\",ds3)\n",
    "print(\"Less than \\n\",ds1<ds2)\n",
    "print(\"greater then \\n\",ds1>ds2)\n"
   ]
  },
  {
   "cell_type": "markdown",
   "metadata": {},
   "source": [
    "**Write a Pandas program to convert a dictionary to a Pandas series.\n",
    "Sample Series:\n",
    "Original dictionary:\n",
    "{'a': 100, 'b': 200, 'c': 300, 'd': 400, 'e': 800}\n",
    "Converted series:\n",
    "a 100\n",
    "b 200\n",
    "c 300\n",
    "d 400\n",
    "e 800**"
   ]
  },
  {
   "cell_type": "code",
   "execution_count": 6,
   "metadata": {},
   "outputs": [
    {
     "name": "stdout",
     "output_type": "stream",
     "text": [
      "a    100\n",
      "b    200\n",
      "c    300\n",
      "d    400\n",
      "e    800\n",
      "dtype: int64\n"
     ]
    }
   ],
   "source": [
    "Original_dictionary={'a': 100, 'b': 200, 'c': 300, 'd': 400, 'e': 800}\n",
    "converted_series=pd.Series(Original_dictionary)\n",
    "print(converted_series)"
   ]
  },
  {
   "cell_type": "markdown",
   "metadata": {},
   "source": [
    "**Write a Pandas program to convert a NumPy array to a Pandas series.\n",
    "Sample Series:\n",
    "NumPy array:\n",
    "[10 20 30 40 50]\n",
    "Converted Pandas series:\n",
    "0 10\n",
    "1 20\n",
    "2 30\n",
    "3 40\n",
    "4 50**"
   ]
  },
  {
   "cell_type": "code",
   "execution_count": 7,
   "metadata": {},
   "outputs": [
    {
     "name": "stdout",
     "output_type": "stream",
     "text": [
      "0    10\n",
      "1    20\n",
      "2    30\n",
      "3    40\n",
      "4    50\n",
      "dtype: int32\n"
     ]
    }
   ],
   "source": [
    "Numpy_array=np.array([10,20,30,40,50])\n",
    "Panda_series=pd.Series(Numpy_array)\n",
    "print(Panda_series)"
   ]
  },
  {
   "cell_type": "markdown",
   "metadata": {},
   "source": [
    "**Write a Pandas program to change the data type of given a column or a Series.\n",
    "<br>\n",
    "Sample Series:\n",
    "Original Data Series:\n",
    "0 100\n",
    "1 200\n",
    "2 python\n",
    "3 300.12\n",
    "4 400\n",
    "dtype: object\n",
    "</br>\n",
    "Change the said data type to numeric:\n",
    "<br>\n",
    "0 100.00\n",
    "1 200.00\n",
    "2 NaN\n",
    "3 300.12\n",
    "4 400.00\n",
    "</br>**"
   ]
  },
  {
   "cell_type": "code",
   "execution_count": 14,
   "metadata": {},
   "outputs": [
    {
     "name": "stdout",
     "output_type": "stream",
     "text": [
      "0       100\n",
      "1       200\n",
      "2         5\n",
      "3    300.12\n",
      "4       400\n",
      "dtype: object\n",
      "after change the Data type to numeric\n",
      "0    100.00\n",
      "1    200.00\n",
      "2      5.00\n",
      "3    300.12\n",
      "4    400.00\n",
      "dtype: float64\n"
     ]
    }
   ],
   "source": [
    "original_data=pd.Series(['100','200','5','300.12','400'])\n",
    "print(original_data)\n",
    "print(\"after change the Data type to numeric\")\n",
    "print(pd.to_numeric(original_data).astype(float))"
   ]
  },
  {
   "cell_type": "code",
   "execution_count": null,
   "metadata": {},
   "outputs": [],
   "source": []
  }
 ],
 "metadata": {
  "kernelspec": {
   "display_name": "Python 3",
   "language": "python",
   "name": "python3"
  },
  "language_info": {
   "codemirror_mode": {
    "name": "ipython",
    "version": 3
   },
   "file_extension": ".py",
   "mimetype": "text/x-python",
   "name": "python",
   "nbconvert_exporter": "python",
   "pygments_lexer": "ipython3",
   "version": "3.7.6"
  }
 },
 "nbformat": 4,
 "nbformat_minor": 4
}
