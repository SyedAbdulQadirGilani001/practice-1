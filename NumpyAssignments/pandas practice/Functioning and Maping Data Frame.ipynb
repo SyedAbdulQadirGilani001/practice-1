{
 "cells": [
  {
   "cell_type": "code",
   "execution_count": 1,
   "metadata": {},
   "outputs": [],
   "source": [
    "import numpy as np\n",
    "import pandas as pd"
   ]
  },
  {
   "cell_type": "code",
   "execution_count": 2,
   "metadata": {},
   "outputs": [
    {
     "data": {
      "text/html": [
       "<div>\n",
       "<style scoped>\n",
       "    .dataframe tbody tr th:only-of-type {\n",
       "        vertical-align: middle;\n",
       "    }\n",
       "\n",
       "    .dataframe tbody tr th {\n",
       "        vertical-align: top;\n",
       "    }\n",
       "\n",
       "    .dataframe thead th {\n",
       "        text-align: right;\n",
       "    }\n",
       "</style>\n",
       "<table border=\"1\" class=\"dataframe\">\n",
       "  <thead>\n",
       "    <tr style=\"text-align: right;\">\n",
       "      <th></th>\n",
       "      <th>b</th>\n",
       "      <th>d</th>\n",
       "      <th>e</th>\n",
       "    </tr>\n",
       "  </thead>\n",
       "  <tbody>\n",
       "    <tr>\n",
       "      <th>utah</th>\n",
       "      <td>-0.859919</td>\n",
       "      <td>0.921411</td>\n",
       "      <td>-3.236382</td>\n",
       "    </tr>\n",
       "    <tr>\n",
       "      <th>ohio</th>\n",
       "      <td>-0.482945</td>\n",
       "      <td>-0.376625</td>\n",
       "      <td>0.611189</td>\n",
       "    </tr>\n",
       "    <tr>\n",
       "      <th>texas</th>\n",
       "      <td>0.839733</td>\n",
       "      <td>0.697071</td>\n",
       "      <td>-0.614940</td>\n",
       "    </tr>\n",
       "    <tr>\n",
       "      <th>oregon</th>\n",
       "      <td>-0.717755</td>\n",
       "      <td>0.970173</td>\n",
       "      <td>0.156060</td>\n",
       "    </tr>\n",
       "  </tbody>\n",
       "</table>\n",
       "</div>"
      ],
      "text/plain": [
       "               b         d         e\n",
       "utah   -0.859919  0.921411 -3.236382\n",
       "ohio   -0.482945 -0.376625  0.611189\n",
       "texas   0.839733  0.697071 -0.614940\n",
       "oregon -0.717755  0.970173  0.156060"
      ]
     },
     "execution_count": 2,
     "metadata": {},
     "output_type": "execute_result"
    }
   ],
   "source": [
    "frame =frame= pd.DataFrame(np.random.randn(4,3),columns=list('bde'),index=['utah','ohio','texas','oregon'])\n",
    "frame"
   ]
  },
  {
   "cell_type": "code",
   "execution_count": 3,
   "metadata": {},
   "outputs": [],
   "source": [
    "#np.abs(frame)"
   ]
  },
  {
   "cell_type": "code",
   "execution_count": 4,
   "metadata": {},
   "outputs": [
    {
     "name": "stdout",
     "output_type": "stream",
     "text": [
      "-0.3766252121257412\n",
      "0.9701731371817645\n",
      "1.3467983493075057\n"
     ]
    }
   ],
   "source": [
    "print(frame['d'].min())\n",
    "print(frame['d'].max())\n",
    "print(frame['d'].max()-frame['d'].min())"
   ]
  },
  {
   "cell_type": "code",
   "execution_count": 5,
   "metadata": {},
   "outputs": [
    {
     "name": "stdout",
     "output_type": "stream",
     "text": [
      "utah      4.157792\n",
      "ohio      1.094134\n",
      "texas     1.454674\n",
      "oregon    1.687928\n",
      "dtype: float64\n"
     ]
    }
   ],
   "source": [
    "f = lambda x: x.max()-x.min()\n",
    "df= frame.apply(f,axis=1)\n",
    "print(df)"
   ]
  },
  {
   "cell_type": "code",
   "execution_count": 26,
   "metadata": {},
   "outputs": [],
   "source": [
    "def max_min(x):\n",
    "   # maximum= x.max()\n",
    "   # minimum= x.min()\n",
    "    return pd.Series([x.max(),x.min()],index=['max','min'])"
   ]
  },
  {
   "cell_type": "code",
   "execution_count": 27,
   "metadata": {},
   "outputs": [
    {
     "name": "stdout",
     "output_type": "stream",
     "text": [
      "            b         d         e\n",
      "max  0.839733  0.970173  0.611189\n",
      "min -0.859919 -0.376625 -3.236382 <class 'pandas.core.frame.DataFrame'>\n"
     ]
    }
   ],
   "source": [
    "df= frame.apply(max_min)\n",
    "print(df,type(df))"
   ]
  },
  {
   "cell_type": "code",
   "execution_count": 42,
   "metadata": {},
   "outputs": [
    {
     "name": "stdout",
     "output_type": "stream",
     "text": [
      "       d  a  b  c\n",
      "three  0  1  2  3\n",
      "one    4  5  6  7\n",
      "\n",
      "       d  c  b  a\n",
      "three  0  3  2  1\n",
      "one    4  7  6  5\n",
      "\n",
      "       d  a  b  c\n",
      "one    4  5  6  7\n",
      "three  0  1  2  3\n",
      "\n",
      "       a  b  c  d\n",
      "three  1  2  3  0\n",
      "one    5  6  7  4\n"
     ]
    }
   ],
   "source": [
    "# sorting & ranking\n",
    "frame = pd.DataFrame(np.arange(8).reshape((2,4)),\n",
    "                     columns=['d','a','b','c'],\n",
    "                     index=['three','one'])\n",
    "print(frame)\n",
    "print()\n",
    "print(frame.sort_index(axis=1,ascending=False))\n",
    "print()\n",
    "print(frame.sort_index())\n",
    "#default sort(axis=0,ascending=True)\n",
    "print()\n",
    "print(frame.sort_index(axis=1,ascending=True))"
   ]
  },
  {
   "cell_type": "code",
   "execution_count": 46,
   "metadata": {},
   "outputs": [
    {
     "name": "stdout",
     "output_type": "stream",
     "text": [
      "       d  a  b  c\n",
      "three  0  1  2  3\n",
      "one    4  5  6  7\n",
      "       d  a  b  c\n",
      "three  0  1  2  3\n",
      "one    4  5  6  7\n",
      "         d    a    b    c\n",
      "three  2.0  2.0  2.0  2.0\n",
      "one    1.0  1.0  1.0  1.0\n",
      "         d    a    b    c\n",
      "three  1.0  1.0  1.0  1.0\n",
      "one    2.0  2.0  2.0  2.0\n",
      "         d    a    b    c\n",
      "three  1.0  2.0  3.0  4.0\n",
      "one    1.0  2.0  3.0  4.0\n"
     ]
    }
   ],
   "source": [
    "# sort by values\n",
    "print(frame)\n",
    "print(frame.sort_values(by='b'))\n",
    "print(frame.rank(ascending=False,method='max'))\n",
    "print(frame.rank(ascending=True,method='min'))\n",
    "print(frame.rank(axis='columns'))"
   ]
  },
  {
   "cell_type": "code",
   "execution_count": 58,
   "metadata": {},
   "outputs": [
    {
     "name": "stdout",
     "output_type": "stream",
     "text": [
      "   two  three\n",
      "a  2.0    NaN\n",
      "b  NaN    NaN\n",
      "c -6.0    8.0\n",
      "d  4.0    NaN\n",
      "\n",
      "two      0.0\n",
      "three    8.0\n",
      "dtype: float64\n",
      "\n",
      "a    2.0\n",
      "b    0.0\n",
      "c    2.0\n",
      "d    4.0\n",
      "dtype: float64\n"
     ]
    }
   ],
   "source": [
    "#summarizing and computer descriptive\n",
    "df= pd.DataFrame([[2,np.nan],[np.nan,np.nan],[-6,8],[4.0,np.nan]],columns=['two','three'],index=['a','b','c','d'])\n",
    "print(df)\n",
    "print()\n",
    "print(df.sum())\n",
    "print()\n",
    "print(df.sum(axis='columns'))"
   ]
  },
  {
   "cell_type": "code",
   "execution_count": 63,
   "metadata": {},
   "outputs": [
    {
     "name": "stdout",
     "output_type": "stream",
     "text": [
      "   two  three\n",
      "a  2.0    NaN\n",
      "b  NaN    NaN\n",
      "c -6.0    8.0\n",
      "d  4.0    NaN\n",
      "a    NaN\n",
      "b    NaN\n",
      "c    1.0\n",
      "d    NaN\n",
      "dtype: float64\n",
      "\n",
      "two      0.0\n",
      "three    8.0\n",
      "dtype: float64\n"
     ]
    }
   ],
   "source": [
    "print(df)\n",
    "x= df.mean(axis='columns',skipna=False)\n",
    "print(x)\n",
    "print()\n",
    "print(df.mean(axis=0,skipna=True))"
   ]
  },
  {
   "cell_type": "code",
   "execution_count": 72,
   "metadata": {},
   "outputs": [
    {
     "name": "stdout",
     "output_type": "stream",
     "text": [
      "    one   two  three  four\n",
      "a   1.4   1.4    NaN   1.5\n",
      "b   1.4  -9.0    NaN  -8.0\n",
      "c  20.0  45.0   78.0  55.0\n",
      "d   NaN   NaN    NaN   NaN\n"
     ]
    }
   ],
   "source": [
    "#unique values\n",
    "df = pd.DataFrame([\n",
    "    [1.4,1.4,np.nan,1.5],[1.4,-9,np.nan,-8],[20,45,78,55],[np.nan]\n",
    "],index=['a','b','c','d'],columns=['one','two','three','four'])\n",
    "print(df)"
   ]
  },
  {
   "cell_type": "code",
   "execution_count": 74,
   "metadata": {},
   "outputs": [
    {
     "name": "stdout",
     "output_type": "stream",
     "text": [
      "[ 1.4 20.   nan] [ 1.4 -9.  45.   nan]\n"
     ]
    },
    {
     "data": {
      "text/plain": [
       "1.4     2\n",
       "20.0    1\n",
       "Name: one, dtype: int64"
      ]
     },
     "execution_count": 74,
     "metadata": {},
     "output_type": "execute_result"
    }
   ],
   "source": [
    "print(df[\"one\"].unique(),df['two'].unique())\n",
    "df['one'].value_counts()"
   ]
  },
  {
   "cell_type": "code",
   "execution_count": null,
   "metadata": {},
   "outputs": [],
   "source": []
  }
 ],
 "metadata": {
  "kernelspec": {
   "display_name": "Python 3",
   "language": "python",
   "name": "python3"
  },
  "language_info": {
   "codemirror_mode": {
    "name": "ipython",
    "version": 3
   },
   "file_extension": ".py",
   "mimetype": "text/x-python",
   "name": "python",
   "nbconvert_exporter": "python",
   "pygments_lexer": "ipython3",
   "version": "3.7.6"
  }
 },
 "nbformat": 4,
 "nbformat_minor": 4
}
