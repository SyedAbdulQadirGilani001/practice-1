{
 "cells": [
  {
   "cell_type": "code",
   "execution_count": 2,
   "metadata": {},
   "outputs": [],
   "source": [
    "import numpy as np\n",
    "import pandas as pd\n",
    "import pickle\n",
    "filename=\"heart.csv\""
   ]
  },
  {
   "cell_type": "code",
   "execution_count": 3,
   "metadata": {},
   "outputs": [
    {
     "data": {
      "text/html": [
       "<div>\n",
       "<style scoped>\n",
       "    .dataframe tbody tr th:only-of-type {\n",
       "        vertical-align: middle;\n",
       "    }\n",
       "\n",
       "    .dataframe tbody tr th {\n",
       "        vertical-align: top;\n",
       "    }\n",
       "\n",
       "    .dataframe thead th {\n",
       "        text-align: right;\n",
       "    }\n",
       "</style>\n",
       "<table border=\"1\" class=\"dataframe\">\n",
       "  <thead>\n",
       "    <tr style=\"text-align: right;\">\n",
       "      <th></th>\n",
       "      <th>Unnamed: 0</th>\n",
       "      <th>Age</th>\n",
       "      <th>Sex</th>\n",
       "      <th>ChestPain</th>\n",
       "      <th>RestBP</th>\n",
       "      <th>Chol</th>\n",
       "      <th>Fbs</th>\n",
       "      <th>RestECG</th>\n",
       "      <th>MaxHR</th>\n",
       "      <th>ExAng</th>\n",
       "      <th>Oldpeak</th>\n",
       "      <th>Slope</th>\n",
       "      <th>Ca</th>\n",
       "      <th>Thal</th>\n",
       "      <th>AHD</th>\n",
       "    </tr>\n",
       "  </thead>\n",
       "  <tbody>\n",
       "    <tr>\n",
       "      <th>0</th>\n",
       "      <td>1</td>\n",
       "      <td>63</td>\n",
       "      <td>1</td>\n",
       "      <td>typical</td>\n",
       "      <td>145</td>\n",
       "      <td>233</td>\n",
       "      <td>1</td>\n",
       "      <td>2</td>\n",
       "      <td>150</td>\n",
       "      <td>0</td>\n",
       "      <td>2.3</td>\n",
       "      <td>3</td>\n",
       "      <td>0.0</td>\n",
       "      <td>fixed</td>\n",
       "      <td>No</td>\n",
       "    </tr>\n",
       "    <tr>\n",
       "      <th>1</th>\n",
       "      <td>2</td>\n",
       "      <td>67</td>\n",
       "      <td>1</td>\n",
       "      <td>asymptomatic</td>\n",
       "      <td>160</td>\n",
       "      <td>286</td>\n",
       "      <td>0</td>\n",
       "      <td>2</td>\n",
       "      <td>108</td>\n",
       "      <td>1</td>\n",
       "      <td>1.5</td>\n",
       "      <td>2</td>\n",
       "      <td>3.0</td>\n",
       "      <td>normal</td>\n",
       "      <td>Yes</td>\n",
       "    </tr>\n",
       "    <tr>\n",
       "      <th>2</th>\n",
       "      <td>3</td>\n",
       "      <td>67</td>\n",
       "      <td>1</td>\n",
       "      <td>asymptomatic</td>\n",
       "      <td>120</td>\n",
       "      <td>229</td>\n",
       "      <td>0</td>\n",
       "      <td>2</td>\n",
       "      <td>129</td>\n",
       "      <td>1</td>\n",
       "      <td>2.6</td>\n",
       "      <td>2</td>\n",
       "      <td>2.0</td>\n",
       "      <td>reversable</td>\n",
       "      <td>Yes</td>\n",
       "    </tr>\n",
       "    <tr>\n",
       "      <th>3</th>\n",
       "      <td>4</td>\n",
       "      <td>37</td>\n",
       "      <td>1</td>\n",
       "      <td>nonanginal</td>\n",
       "      <td>130</td>\n",
       "      <td>250</td>\n",
       "      <td>0</td>\n",
       "      <td>0</td>\n",
       "      <td>187</td>\n",
       "      <td>0</td>\n",
       "      <td>3.5</td>\n",
       "      <td>3</td>\n",
       "      <td>0.0</td>\n",
       "      <td>normal</td>\n",
       "      <td>No</td>\n",
       "    </tr>\n",
       "    <tr>\n",
       "      <th>4</th>\n",
       "      <td>5</td>\n",
       "      <td>41</td>\n",
       "      <td>0</td>\n",
       "      <td>nontypical</td>\n",
       "      <td>130</td>\n",
       "      <td>204</td>\n",
       "      <td>0</td>\n",
       "      <td>2</td>\n",
       "      <td>172</td>\n",
       "      <td>0</td>\n",
       "      <td>1.4</td>\n",
       "      <td>1</td>\n",
       "      <td>0.0</td>\n",
       "      <td>normal</td>\n",
       "      <td>No</td>\n",
       "    </tr>\n",
       "  </tbody>\n",
       "</table>\n",
       "</div>"
      ],
      "text/plain": [
       "   Unnamed: 0  Age  Sex     ChestPain  RestBP  Chol  Fbs  RestECG  MaxHR  \\\n",
       "0           1   63    1       typical     145   233    1        2    150   \n",
       "1           2   67    1  asymptomatic     160   286    0        2    108   \n",
       "2           3   67    1  asymptomatic     120   229    0        2    129   \n",
       "3           4   37    1    nonanginal     130   250    0        0    187   \n",
       "4           5   41    0    nontypical     130   204    0        2    172   \n",
       "\n",
       "   ExAng  Oldpeak  Slope   Ca        Thal  AHD  \n",
       "0      0      2.3      3  0.0       fixed   No  \n",
       "1      1      1.5      2  3.0      normal  Yes  \n",
       "2      1      2.6      2  2.0  reversable  Yes  \n",
       "3      0      3.5      3  0.0      normal   No  \n",
       "4      0      1.4      1  0.0      normal   No  "
      ]
     },
     "execution_count": 3,
     "metadata": {},
     "output_type": "execute_result"
    }
   ],
   "source": [
    "df = pd.read_csv(filename)\n",
    "df.head()"
   ]
  },
  {
   "cell_type": "code",
   "execution_count": 10,
   "metadata": {},
   "outputs": [
    {
     "ename": "ValueError",
     "evalue": "could not convert string to float: 'typical'",
     "output_type": "error",
     "traceback": [
      "\u001b[1;31m---------------------------------------------------------------------------\u001b[0m",
      "\u001b[1;31mValueError\u001b[0m                                Traceback (most recent call last)",
      "\u001b[1;32m<ipython-input-10-4dbb2bf154b4>\u001b[0m in \u001b[0;36m<module>\u001b[1;34m\u001b[0m\n\u001b[1;32m----> 1\u001b[1;33m \u001b[0mdata\u001b[0m\u001b[1;33m=\u001b[0m\u001b[0mnp\u001b[0m\u001b[1;33m.\u001b[0m\u001b[0mloadtxt\u001b[0m\u001b[1;33m(\u001b[0m\u001b[0mfilename\u001b[0m\u001b[1;33m,\u001b[0m\u001b[0mdelimiter\u001b[0m\u001b[1;33m=\u001b[0m\u001b[1;34m\",\"\u001b[0m\u001b[1;33m,\u001b[0m\u001b[0mskiprows\u001b[0m\u001b[1;33m=\u001b[0m\u001b[1;36m1\u001b[0m\u001b[1;33m)\u001b[0m\u001b[1;33m\u001b[0m\u001b[1;33m\u001b[0m\u001b[0m\n\u001b[0m",
      "\u001b[1;32mC:\\ProgramData\\Anaconda3\\lib\\site-packages\\numpy\\lib\\npyio.py\u001b[0m in \u001b[0;36mloadtxt\u001b[1;34m(fname, dtype, comments, delimiter, converters, skiprows, usecols, unpack, ndmin, encoding, max_rows)\u001b[0m\n\u001b[0;32m   1157\u001b[0m         \u001b[1;31m# converting the data\u001b[0m\u001b[1;33m\u001b[0m\u001b[1;33m\u001b[0m\u001b[1;33m\u001b[0m\u001b[0m\n\u001b[0;32m   1158\u001b[0m         \u001b[0mX\u001b[0m \u001b[1;33m=\u001b[0m \u001b[1;32mNone\u001b[0m\u001b[1;33m\u001b[0m\u001b[1;33m\u001b[0m\u001b[0m\n\u001b[1;32m-> 1159\u001b[1;33m         \u001b[1;32mfor\u001b[0m \u001b[0mx\u001b[0m \u001b[1;32min\u001b[0m \u001b[0mread_data\u001b[0m\u001b[1;33m(\u001b[0m\u001b[0m_loadtxt_chunksize\u001b[0m\u001b[1;33m)\u001b[0m\u001b[1;33m:\u001b[0m\u001b[1;33m\u001b[0m\u001b[1;33m\u001b[0m\u001b[0m\n\u001b[0m\u001b[0;32m   1160\u001b[0m             \u001b[1;32mif\u001b[0m \u001b[0mX\u001b[0m \u001b[1;32mis\u001b[0m \u001b[1;32mNone\u001b[0m\u001b[1;33m:\u001b[0m\u001b[1;33m\u001b[0m\u001b[1;33m\u001b[0m\u001b[0m\n\u001b[0;32m   1161\u001b[0m                 \u001b[0mX\u001b[0m \u001b[1;33m=\u001b[0m \u001b[0mnp\u001b[0m\u001b[1;33m.\u001b[0m\u001b[0marray\u001b[0m\u001b[1;33m(\u001b[0m\u001b[0mx\u001b[0m\u001b[1;33m,\u001b[0m \u001b[0mdtype\u001b[0m\u001b[1;33m)\u001b[0m\u001b[1;33m\u001b[0m\u001b[1;33m\u001b[0m\u001b[0m\n",
      "\u001b[1;32mC:\\ProgramData\\Anaconda3\\lib\\site-packages\\numpy\\lib\\npyio.py\u001b[0m in \u001b[0;36mread_data\u001b[1;34m(chunk_size)\u001b[0m\n\u001b[0;32m   1085\u001b[0m \u001b[1;33m\u001b[0m\u001b[0m\n\u001b[0;32m   1086\u001b[0m             \u001b[1;31m# Convert each value according to its column and store\u001b[0m\u001b[1;33m\u001b[0m\u001b[1;33m\u001b[0m\u001b[1;33m\u001b[0m\u001b[0m\n\u001b[1;32m-> 1087\u001b[1;33m             \u001b[0mitems\u001b[0m \u001b[1;33m=\u001b[0m \u001b[1;33m[\u001b[0m\u001b[0mconv\u001b[0m\u001b[1;33m(\u001b[0m\u001b[0mval\u001b[0m\u001b[1;33m)\u001b[0m \u001b[1;32mfor\u001b[0m \u001b[1;33m(\u001b[0m\u001b[0mconv\u001b[0m\u001b[1;33m,\u001b[0m \u001b[0mval\u001b[0m\u001b[1;33m)\u001b[0m \u001b[1;32min\u001b[0m \u001b[0mzip\u001b[0m\u001b[1;33m(\u001b[0m\u001b[0mconverters\u001b[0m\u001b[1;33m,\u001b[0m \u001b[0mvals\u001b[0m\u001b[1;33m)\u001b[0m\u001b[1;33m]\u001b[0m\u001b[1;33m\u001b[0m\u001b[1;33m\u001b[0m\u001b[0m\n\u001b[0m\u001b[0;32m   1088\u001b[0m \u001b[1;33m\u001b[0m\u001b[0m\n\u001b[0;32m   1089\u001b[0m             \u001b[1;31m# Then pack it according to the dtype's nesting\u001b[0m\u001b[1;33m\u001b[0m\u001b[1;33m\u001b[0m\u001b[1;33m\u001b[0m\u001b[0m\n",
      "\u001b[1;32mC:\\ProgramData\\Anaconda3\\lib\\site-packages\\numpy\\lib\\npyio.py\u001b[0m in \u001b[0;36m<listcomp>\u001b[1;34m(.0)\u001b[0m\n\u001b[0;32m   1085\u001b[0m \u001b[1;33m\u001b[0m\u001b[0m\n\u001b[0;32m   1086\u001b[0m             \u001b[1;31m# Convert each value according to its column and store\u001b[0m\u001b[1;33m\u001b[0m\u001b[1;33m\u001b[0m\u001b[1;33m\u001b[0m\u001b[0m\n\u001b[1;32m-> 1087\u001b[1;33m             \u001b[0mitems\u001b[0m \u001b[1;33m=\u001b[0m \u001b[1;33m[\u001b[0m\u001b[0mconv\u001b[0m\u001b[1;33m(\u001b[0m\u001b[0mval\u001b[0m\u001b[1;33m)\u001b[0m \u001b[1;32mfor\u001b[0m \u001b[1;33m(\u001b[0m\u001b[0mconv\u001b[0m\u001b[1;33m,\u001b[0m \u001b[0mval\u001b[0m\u001b[1;33m)\u001b[0m \u001b[1;32min\u001b[0m \u001b[0mzip\u001b[0m\u001b[1;33m(\u001b[0m\u001b[0mconverters\u001b[0m\u001b[1;33m,\u001b[0m \u001b[0mvals\u001b[0m\u001b[1;33m)\u001b[0m\u001b[1;33m]\u001b[0m\u001b[1;33m\u001b[0m\u001b[1;33m\u001b[0m\u001b[0m\n\u001b[0m\u001b[0;32m   1088\u001b[0m \u001b[1;33m\u001b[0m\u001b[0m\n\u001b[0;32m   1089\u001b[0m             \u001b[1;31m# Then pack it according to the dtype's nesting\u001b[0m\u001b[1;33m\u001b[0m\u001b[1;33m\u001b[0m\u001b[1;33m\u001b[0m\u001b[0m\n",
      "\u001b[1;32mC:\\ProgramData\\Anaconda3\\lib\\site-packages\\numpy\\lib\\npyio.py\u001b[0m in \u001b[0;36mfloatconv\u001b[1;34m(x)\u001b[0m\n\u001b[0;32m    792\u001b[0m         \u001b[1;32mif\u001b[0m \u001b[1;34m'0x'\u001b[0m \u001b[1;32min\u001b[0m \u001b[0mx\u001b[0m\u001b[1;33m:\u001b[0m\u001b[1;33m\u001b[0m\u001b[1;33m\u001b[0m\u001b[0m\n\u001b[0;32m    793\u001b[0m             \u001b[1;32mreturn\u001b[0m \u001b[0mfloat\u001b[0m\u001b[1;33m.\u001b[0m\u001b[0mfromhex\u001b[0m\u001b[1;33m(\u001b[0m\u001b[0mx\u001b[0m\u001b[1;33m)\u001b[0m\u001b[1;33m\u001b[0m\u001b[1;33m\u001b[0m\u001b[0m\n\u001b[1;32m--> 794\u001b[1;33m         \u001b[1;32mreturn\u001b[0m \u001b[0mfloat\u001b[0m\u001b[1;33m(\u001b[0m\u001b[0mx\u001b[0m\u001b[1;33m)\u001b[0m\u001b[1;33m\u001b[0m\u001b[1;33m\u001b[0m\u001b[0m\n\u001b[0m\u001b[0;32m    795\u001b[0m \u001b[1;33m\u001b[0m\u001b[0m\n\u001b[0;32m    796\u001b[0m     \u001b[0mtyp\u001b[0m \u001b[1;33m=\u001b[0m \u001b[0mdtype\u001b[0m\u001b[1;33m.\u001b[0m\u001b[0mtype\u001b[0m\u001b[1;33m\u001b[0m\u001b[1;33m\u001b[0m\u001b[0m\n",
      "\u001b[1;31mValueError\u001b[0m: could not convert string to float: 'typical'"
     ]
    }
   ],
   "source": [
    "data=np.loadtxt(filename,delimiter=\",\",skiprows=1)"
   ]
  },
  {
   "cell_type": "code",
   "execution_count": 11,
   "metadata": {},
   "outputs": [
    {
     "ename": "ValueError",
     "evalue": "Some errors were detected !\n    Line #2 (got 15 columns instead of 14)\n    Line #3 (got 15 columns instead of 14)\n    Line #4 (got 15 columns instead of 14)\n    Line #5 (got 15 columns instead of 14)\n    Line #6 (got 15 columns instead of 14)\n    Line #7 (got 15 columns instead of 14)\n    Line #8 (got 15 columns instead of 14)\n    Line #9 (got 15 columns instead of 14)\n    Line #10 (got 15 columns instead of 14)\n    Line #11 (got 15 columns instead of 14)\n    Line #12 (got 15 columns instead of 14)\n    Line #13 (got 15 columns instead of 14)\n    Line #14 (got 15 columns instead of 14)\n    Line #15 (got 15 columns instead of 14)\n    Line #16 (got 15 columns instead of 14)\n    Line #17 (got 15 columns instead of 14)\n    Line #18 (got 15 columns instead of 14)\n    Line #19 (got 15 columns instead of 14)\n    Line #20 (got 15 columns instead of 14)\n    Line #21 (got 15 columns instead of 14)\n    Line #22 (got 15 columns instead of 14)\n    Line #23 (got 15 columns instead of 14)\n    Line #24 (got 15 columns instead of 14)\n    Line #25 (got 15 columns instead of 14)\n    Line #26 (got 15 columns instead of 14)\n    Line #27 (got 15 columns instead of 14)\n    Line #28 (got 15 columns instead of 14)\n    Line #29 (got 15 columns instead of 14)\n    Line #30 (got 15 columns instead of 14)\n    Line #31 (got 15 columns instead of 14)\n    Line #32 (got 15 columns instead of 14)\n    Line #33 (got 15 columns instead of 14)\n    Line #34 (got 15 columns instead of 14)\n    Line #35 (got 15 columns instead of 14)\n    Line #36 (got 15 columns instead of 14)\n    Line #37 (got 15 columns instead of 14)\n    Line #38 (got 15 columns instead of 14)\n    Line #39 (got 15 columns instead of 14)\n    Line #40 (got 15 columns instead of 14)\n    Line #41 (got 15 columns instead of 14)\n    Line #42 (got 15 columns instead of 14)\n    Line #43 (got 15 columns instead of 14)\n    Line #44 (got 15 columns instead of 14)\n    Line #45 (got 15 columns instead of 14)\n    Line #46 (got 15 columns instead of 14)\n    Line #47 (got 15 columns instead of 14)\n    Line #48 (got 15 columns instead of 14)\n    Line #49 (got 15 columns instead of 14)\n    Line #50 (got 15 columns instead of 14)\n    Line #51 (got 15 columns instead of 14)\n    Line #52 (got 15 columns instead of 14)\n    Line #53 (got 15 columns instead of 14)\n    Line #54 (got 15 columns instead of 14)\n    Line #55 (got 15 columns instead of 14)\n    Line #56 (got 15 columns instead of 14)\n    Line #57 (got 15 columns instead of 14)\n    Line #58 (got 15 columns instead of 14)\n    Line #59 (got 15 columns instead of 14)\n    Line #60 (got 15 columns instead of 14)\n    Line #61 (got 15 columns instead of 14)\n    Line #62 (got 15 columns instead of 14)\n    Line #63 (got 15 columns instead of 14)\n    Line #64 (got 15 columns instead of 14)\n    Line #65 (got 15 columns instead of 14)\n    Line #66 (got 15 columns instead of 14)\n    Line #67 (got 15 columns instead of 14)\n    Line #68 (got 15 columns instead of 14)\n    Line #69 (got 15 columns instead of 14)\n    Line #70 (got 15 columns instead of 14)\n    Line #71 (got 15 columns instead of 14)\n    Line #72 (got 15 columns instead of 14)\n    Line #73 (got 15 columns instead of 14)\n    Line #74 (got 15 columns instead of 14)\n    Line #75 (got 15 columns instead of 14)\n    Line #76 (got 15 columns instead of 14)\n    Line #77 (got 15 columns instead of 14)\n    Line #78 (got 15 columns instead of 14)\n    Line #79 (got 15 columns instead of 14)\n    Line #80 (got 15 columns instead of 14)\n    Line #81 (got 15 columns instead of 14)\n    Line #82 (got 15 columns instead of 14)\n    Line #83 (got 15 columns instead of 14)\n    Line #84 (got 15 columns instead of 14)\n    Line #85 (got 15 columns instead of 14)\n    Line #86 (got 15 columns instead of 14)\n    Line #87 (got 15 columns instead of 14)\n    Line #88 (got 15 columns instead of 14)\n    Line #89 (got 15 columns instead of 14)\n    Line #90 (got 15 columns instead of 14)\n    Line #91 (got 15 columns instead of 14)\n    Line #92 (got 15 columns instead of 14)\n    Line #93 (got 15 columns instead of 14)\n    Line #94 (got 15 columns instead of 14)\n    Line #95 (got 15 columns instead of 14)\n    Line #96 (got 15 columns instead of 14)\n    Line #97 (got 15 columns instead of 14)\n    Line #98 (got 15 columns instead of 14)\n    Line #99 (got 15 columns instead of 14)\n    Line #100 (got 15 columns instead of 14)\n    Line #101 (got 15 columns instead of 14)\n    Line #102 (got 15 columns instead of 14)\n    Line #103 (got 15 columns instead of 14)\n    Line #104 (got 15 columns instead of 14)\n    Line #105 (got 15 columns instead of 14)\n    Line #106 (got 15 columns instead of 14)\n    Line #107 (got 15 columns instead of 14)\n    Line #108 (got 15 columns instead of 14)\n    Line #109 (got 15 columns instead of 14)\n    Line #110 (got 15 columns instead of 14)\n    Line #111 (got 15 columns instead of 14)\n    Line #112 (got 15 columns instead of 14)\n    Line #113 (got 15 columns instead of 14)\n    Line #114 (got 15 columns instead of 14)\n    Line #115 (got 15 columns instead of 14)\n    Line #116 (got 15 columns instead of 14)\n    Line #117 (got 15 columns instead of 14)\n    Line #118 (got 15 columns instead of 14)\n    Line #119 (got 15 columns instead of 14)\n    Line #120 (got 15 columns instead of 14)\n    Line #121 (got 15 columns instead of 14)\n    Line #122 (got 15 columns instead of 14)\n    Line #123 (got 15 columns instead of 14)\n    Line #124 (got 15 columns instead of 14)\n    Line #125 (got 15 columns instead of 14)\n    Line #126 (got 15 columns instead of 14)\n    Line #127 (got 15 columns instead of 14)\n    Line #128 (got 15 columns instead of 14)\n    Line #129 (got 15 columns instead of 14)\n    Line #130 (got 15 columns instead of 14)\n    Line #131 (got 15 columns instead of 14)\n    Line #132 (got 15 columns instead of 14)\n    Line #133 (got 15 columns instead of 14)\n    Line #134 (got 15 columns instead of 14)\n    Line #135 (got 15 columns instead of 14)\n    Line #136 (got 15 columns instead of 14)\n    Line #137 (got 15 columns instead of 14)\n    Line #138 (got 15 columns instead of 14)\n    Line #139 (got 15 columns instead of 14)\n    Line #140 (got 15 columns instead of 14)\n    Line #141 (got 15 columns instead of 14)\n    Line #142 (got 15 columns instead of 14)\n    Line #143 (got 15 columns instead of 14)\n    Line #144 (got 15 columns instead of 14)\n    Line #145 (got 15 columns instead of 14)\n    Line #146 (got 15 columns instead of 14)\n    Line #147 (got 15 columns instead of 14)\n    Line #148 (got 15 columns instead of 14)\n    Line #149 (got 15 columns instead of 14)\n    Line #150 (got 15 columns instead of 14)\n    Line #151 (got 15 columns instead of 14)\n    Line #152 (got 15 columns instead of 14)\n    Line #153 (got 15 columns instead of 14)\n    Line #154 (got 15 columns instead of 14)\n    Line #155 (got 15 columns instead of 14)\n    Line #156 (got 15 columns instead of 14)\n    Line #157 (got 15 columns instead of 14)\n    Line #158 (got 15 columns instead of 14)\n    Line #159 (got 15 columns instead of 14)\n    Line #160 (got 15 columns instead of 14)\n    Line #161 (got 15 columns instead of 14)\n    Line #162 (got 15 columns instead of 14)\n    Line #163 (got 15 columns instead of 14)\n    Line #164 (got 15 columns instead of 14)\n    Line #165 (got 15 columns instead of 14)\n    Line #166 (got 15 columns instead of 14)\n    Line #167 (got 15 columns instead of 14)\n    Line #168 (got 15 columns instead of 14)\n    Line #169 (got 15 columns instead of 14)\n    Line #170 (got 15 columns instead of 14)\n    Line #171 (got 15 columns instead of 14)\n    Line #172 (got 15 columns instead of 14)\n    Line #173 (got 15 columns instead of 14)\n    Line #174 (got 15 columns instead of 14)\n    Line #175 (got 15 columns instead of 14)\n    Line #176 (got 15 columns instead of 14)\n    Line #177 (got 15 columns instead of 14)\n    Line #178 (got 15 columns instead of 14)\n    Line #179 (got 15 columns instead of 14)\n    Line #180 (got 15 columns instead of 14)\n    Line #181 (got 15 columns instead of 14)\n    Line #182 (got 15 columns instead of 14)\n    Line #183 (got 15 columns instead of 14)\n    Line #184 (got 15 columns instead of 14)\n    Line #185 (got 15 columns instead of 14)\n    Line #186 (got 15 columns instead of 14)\n    Line #187 (got 15 columns instead of 14)\n    Line #188 (got 15 columns instead of 14)\n    Line #189 (got 15 columns instead of 14)\n    Line #190 (got 15 columns instead of 14)\n    Line #191 (got 15 columns instead of 14)\n    Line #192 (got 15 columns instead of 14)\n    Line #193 (got 15 columns instead of 14)\n    Line #194 (got 15 columns instead of 14)\n    Line #195 (got 15 columns instead of 14)\n    Line #196 (got 15 columns instead of 14)\n    Line #197 (got 15 columns instead of 14)\n    Line #198 (got 15 columns instead of 14)\n    Line #199 (got 15 columns instead of 14)\n    Line #200 (got 15 columns instead of 14)\n    Line #201 (got 15 columns instead of 14)\n    Line #202 (got 15 columns instead of 14)\n    Line #203 (got 15 columns instead of 14)\n    Line #204 (got 15 columns instead of 14)\n    Line #205 (got 15 columns instead of 14)\n    Line #206 (got 15 columns instead of 14)\n    Line #207 (got 15 columns instead of 14)\n    Line #208 (got 15 columns instead of 14)\n    Line #209 (got 15 columns instead of 14)\n    Line #210 (got 15 columns instead of 14)\n    Line #211 (got 15 columns instead of 14)\n    Line #212 (got 15 columns instead of 14)\n    Line #213 (got 15 columns instead of 14)\n    Line #214 (got 15 columns instead of 14)\n    Line #215 (got 15 columns instead of 14)\n    Line #216 (got 15 columns instead of 14)\n    Line #217 (got 15 columns instead of 14)\n    Line #218 (got 15 columns instead of 14)\n    Line #219 (got 15 columns instead of 14)\n    Line #220 (got 15 columns instead of 14)\n    Line #221 (got 15 columns instead of 14)\n    Line #222 (got 15 columns instead of 14)\n    Line #223 (got 15 columns instead of 14)\n    Line #224 (got 15 columns instead of 14)\n    Line #225 (got 15 columns instead of 14)\n    Line #226 (got 15 columns instead of 14)\n    Line #227 (got 15 columns instead of 14)\n    Line #228 (got 15 columns instead of 14)\n    Line #229 (got 15 columns instead of 14)\n    Line #230 (got 15 columns instead of 14)\n    Line #231 (got 15 columns instead of 14)\n    Line #232 (got 15 columns instead of 14)\n    Line #233 (got 15 columns instead of 14)\n    Line #234 (got 15 columns instead of 14)\n    Line #235 (got 15 columns instead of 14)\n    Line #236 (got 15 columns instead of 14)\n    Line #237 (got 15 columns instead of 14)\n    Line #238 (got 15 columns instead of 14)\n    Line #239 (got 15 columns instead of 14)\n    Line #240 (got 15 columns instead of 14)\n    Line #241 (got 15 columns instead of 14)\n    Line #242 (got 15 columns instead of 14)\n    Line #243 (got 15 columns instead of 14)\n    Line #244 (got 15 columns instead of 14)\n    Line #245 (got 15 columns instead of 14)\n    Line #246 (got 15 columns instead of 14)\n    Line #247 (got 15 columns instead of 14)\n    Line #248 (got 15 columns instead of 14)\n    Line #249 (got 15 columns instead of 14)\n    Line #250 (got 15 columns instead of 14)\n    Line #251 (got 15 columns instead of 14)\n    Line #252 (got 15 columns instead of 14)\n    Line #253 (got 15 columns instead of 14)\n    Line #254 (got 15 columns instead of 14)\n    Line #255 (got 15 columns instead of 14)\n    Line #256 (got 15 columns instead of 14)\n    Line #257 (got 15 columns instead of 14)\n    Line #258 (got 15 columns instead of 14)\n    Line #259 (got 15 columns instead of 14)\n    Line #260 (got 15 columns instead of 14)\n    Line #261 (got 15 columns instead of 14)\n    Line #262 (got 15 columns instead of 14)\n    Line #263 (got 15 columns instead of 14)\n    Line #264 (got 15 columns instead of 14)\n    Line #265 (got 15 columns instead of 14)\n    Line #266 (got 15 columns instead of 14)\n    Line #267 (got 15 columns instead of 14)\n    Line #268 (got 15 columns instead of 14)\n    Line #269 (got 15 columns instead of 14)\n    Line #270 (got 15 columns instead of 14)\n    Line #271 (got 15 columns instead of 14)\n    Line #272 (got 15 columns instead of 14)\n    Line #273 (got 15 columns instead of 14)\n    Line #274 (got 15 columns instead of 14)\n    Line #275 (got 15 columns instead of 14)\n    Line #276 (got 15 columns instead of 14)\n    Line #277 (got 15 columns instead of 14)\n    Line #278 (got 15 columns instead of 14)\n    Line #279 (got 15 columns instead of 14)\n    Line #280 (got 15 columns instead of 14)\n    Line #281 (got 15 columns instead of 14)\n    Line #282 (got 15 columns instead of 14)\n    Line #283 (got 15 columns instead of 14)\n    Line #284 (got 15 columns instead of 14)\n    Line #285 (got 15 columns instead of 14)\n    Line #286 (got 15 columns instead of 14)\n    Line #287 (got 15 columns instead of 14)\n    Line #288 (got 15 columns instead of 14)\n    Line #289 (got 15 columns instead of 14)\n    Line #290 (got 15 columns instead of 14)\n    Line #291 (got 15 columns instead of 14)\n    Line #292 (got 15 columns instead of 14)\n    Line #293 (got 15 columns instead of 14)\n    Line #294 (got 15 columns instead of 14)\n    Line #295 (got 15 columns instead of 14)\n    Line #296 (got 15 columns instead of 14)\n    Line #297 (got 15 columns instead of 14)\n    Line #298 (got 15 columns instead of 14)\n    Line #299 (got 15 columns instead of 14)\n    Line #300 (got 15 columns instead of 14)\n    Line #301 (got 15 columns instead of 14)\n    Line #302 (got 15 columns instead of 14)\n    Line #303 (got 15 columns instead of 14)\n    Line #304 (got 15 columns instead of 14)",
     "output_type": "error",
     "traceback": [
      "\u001b[1;31m---------------------------------------------------------------------------\u001b[0m",
      "\u001b[1;31mValueError\u001b[0m                                Traceback (most recent call last)",
      "\u001b[1;32m<ipython-input-11-99d13cd270df>\u001b[0m in \u001b[0;36m<module>\u001b[1;34m\u001b[0m\n\u001b[1;32m----> 1\u001b[1;33m \u001b[0mdata\u001b[0m\u001b[1;33m=\u001b[0m\u001b[0mnp\u001b[0m\u001b[1;33m.\u001b[0m\u001b[0mgenfromtxt\u001b[0m\u001b[1;33m(\u001b[0m\u001b[0mfilename\u001b[0m\u001b[1;33m,\u001b[0m\u001b[0mdelimiter\u001b[0m\u001b[1;33m=\u001b[0m\u001b[1;34m\",\"\u001b[0m\u001b[1;33m,\u001b[0m\u001b[0mdtype\u001b[0m\u001b[1;33m=\u001b[0m\u001b[1;32mNone\u001b[0m\u001b[1;33m,\u001b[0m\u001b[0mnames\u001b[0m\u001b[1;33m=\u001b[0m\u001b[1;32mTrue\u001b[0m\u001b[1;33m,\u001b[0m\u001b[0mencoding\u001b[0m\u001b[1;33m=\u001b[0m\u001b[1;34m'utf-8-sig'\u001b[0m\u001b[1;33m)\u001b[0m\u001b[1;33m\u001b[0m\u001b[1;33m\u001b[0m\u001b[0m\n\u001b[0m",
      "\u001b[1;32mC:\\ProgramData\\Anaconda3\\lib\\site-packages\\numpy\\lib\\npyio.py\u001b[0m in \u001b[0;36mgenfromtxt\u001b[1;34m(fname, dtype, comments, delimiter, skip_header, skip_footer, converters, missing_values, filling_values, usecols, names, excludelist, deletechars, replace_space, autostrip, case_sensitive, defaultfmt, unpack, usemask, loose, invalid_raise, max_rows, encoding)\u001b[0m\n\u001b[0;32m   2101\u001b[0m             \u001b[1;31m# Raise an exception ?\u001b[0m\u001b[1;33m\u001b[0m\u001b[1;33m\u001b[0m\u001b[1;33m\u001b[0m\u001b[0m\n\u001b[0;32m   2102\u001b[0m             \u001b[1;32mif\u001b[0m \u001b[0minvalid_raise\u001b[0m\u001b[1;33m:\u001b[0m\u001b[1;33m\u001b[0m\u001b[1;33m\u001b[0m\u001b[0m\n\u001b[1;32m-> 2103\u001b[1;33m                 \u001b[1;32mraise\u001b[0m \u001b[0mValueError\u001b[0m\u001b[1;33m(\u001b[0m\u001b[0merrmsg\u001b[0m\u001b[1;33m)\u001b[0m\u001b[1;33m\u001b[0m\u001b[1;33m\u001b[0m\u001b[0m\n\u001b[0m\u001b[0;32m   2104\u001b[0m             \u001b[1;31m# Issue a warning ?\u001b[0m\u001b[1;33m\u001b[0m\u001b[1;33m\u001b[0m\u001b[1;33m\u001b[0m\u001b[0m\n\u001b[0;32m   2105\u001b[0m             \u001b[1;32melse\u001b[0m\u001b[1;33m:\u001b[0m\u001b[1;33m\u001b[0m\u001b[1;33m\u001b[0m\u001b[0m\n",
      "\u001b[1;31mValueError\u001b[0m: Some errors were detected !\n    Line #2 (got 15 columns instead of 14)\n    Line #3 (got 15 columns instead of 14)\n    Line #4 (got 15 columns instead of 14)\n    Line #5 (got 15 columns instead of 14)\n    Line #6 (got 15 columns instead of 14)\n    Line #7 (got 15 columns instead of 14)\n    Line #8 (got 15 columns instead of 14)\n    Line #9 (got 15 columns instead of 14)\n    Line #10 (got 15 columns instead of 14)\n    Line #11 (got 15 columns instead of 14)\n    Line #12 (got 15 columns instead of 14)\n    Line #13 (got 15 columns instead of 14)\n    Line #14 (got 15 columns instead of 14)\n    Line #15 (got 15 columns instead of 14)\n    Line #16 (got 15 columns instead of 14)\n    Line #17 (got 15 columns instead of 14)\n    Line #18 (got 15 columns instead of 14)\n    Line #19 (got 15 columns instead of 14)\n    Line #20 (got 15 columns instead of 14)\n    Line #21 (got 15 columns instead of 14)\n    Line #22 (got 15 columns instead of 14)\n    Line #23 (got 15 columns instead of 14)\n    Line #24 (got 15 columns instead of 14)\n    Line #25 (got 15 columns instead of 14)\n    Line #26 (got 15 columns instead of 14)\n    Line #27 (got 15 columns instead of 14)\n    Line #28 (got 15 columns instead of 14)\n    Line #29 (got 15 columns instead of 14)\n    Line #30 (got 15 columns instead of 14)\n    Line #31 (got 15 columns instead of 14)\n    Line #32 (got 15 columns instead of 14)\n    Line #33 (got 15 columns instead of 14)\n    Line #34 (got 15 columns instead of 14)\n    Line #35 (got 15 columns instead of 14)\n    Line #36 (got 15 columns instead of 14)\n    Line #37 (got 15 columns instead of 14)\n    Line #38 (got 15 columns instead of 14)\n    Line #39 (got 15 columns instead of 14)\n    Line #40 (got 15 columns instead of 14)\n    Line #41 (got 15 columns instead of 14)\n    Line #42 (got 15 columns instead of 14)\n    Line #43 (got 15 columns instead of 14)\n    Line #44 (got 15 columns instead of 14)\n    Line #45 (got 15 columns instead of 14)\n    Line #46 (got 15 columns instead of 14)\n    Line #47 (got 15 columns instead of 14)\n    Line #48 (got 15 columns instead of 14)\n    Line #49 (got 15 columns instead of 14)\n    Line #50 (got 15 columns instead of 14)\n    Line #51 (got 15 columns instead of 14)\n    Line #52 (got 15 columns instead of 14)\n    Line #53 (got 15 columns instead of 14)\n    Line #54 (got 15 columns instead of 14)\n    Line #55 (got 15 columns instead of 14)\n    Line #56 (got 15 columns instead of 14)\n    Line #57 (got 15 columns instead of 14)\n    Line #58 (got 15 columns instead of 14)\n    Line #59 (got 15 columns instead of 14)\n    Line #60 (got 15 columns instead of 14)\n    Line #61 (got 15 columns instead of 14)\n    Line #62 (got 15 columns instead of 14)\n    Line #63 (got 15 columns instead of 14)\n    Line #64 (got 15 columns instead of 14)\n    Line #65 (got 15 columns instead of 14)\n    Line #66 (got 15 columns instead of 14)\n    Line #67 (got 15 columns instead of 14)\n    Line #68 (got 15 columns instead of 14)\n    Line #69 (got 15 columns instead of 14)\n    Line #70 (got 15 columns instead of 14)\n    Line #71 (got 15 columns instead of 14)\n    Line #72 (got 15 columns instead of 14)\n    Line #73 (got 15 columns instead of 14)\n    Line #74 (got 15 columns instead of 14)\n    Line #75 (got 15 columns instead of 14)\n    Line #76 (got 15 columns instead of 14)\n    Line #77 (got 15 columns instead of 14)\n    Line #78 (got 15 columns instead of 14)\n    Line #79 (got 15 columns instead of 14)\n    Line #80 (got 15 columns instead of 14)\n    Line #81 (got 15 columns instead of 14)\n    Line #82 (got 15 columns instead of 14)\n    Line #83 (got 15 columns instead of 14)\n    Line #84 (got 15 columns instead of 14)\n    Line #85 (got 15 columns instead of 14)\n    Line #86 (got 15 columns instead of 14)\n    Line #87 (got 15 columns instead of 14)\n    Line #88 (got 15 columns instead of 14)\n    Line #89 (got 15 columns instead of 14)\n    Line #90 (got 15 columns instead of 14)\n    Line #91 (got 15 columns instead of 14)\n    Line #92 (got 15 columns instead of 14)\n    Line #93 (got 15 columns instead of 14)\n    Line #94 (got 15 columns instead of 14)\n    Line #95 (got 15 columns instead of 14)\n    Line #96 (got 15 columns instead of 14)\n    Line #97 (got 15 columns instead of 14)\n    Line #98 (got 15 columns instead of 14)\n    Line #99 (got 15 columns instead of 14)\n    Line #100 (got 15 columns instead of 14)\n    Line #101 (got 15 columns instead of 14)\n    Line #102 (got 15 columns instead of 14)\n    Line #103 (got 15 columns instead of 14)\n    Line #104 (got 15 columns instead of 14)\n    Line #105 (got 15 columns instead of 14)\n    Line #106 (got 15 columns instead of 14)\n    Line #107 (got 15 columns instead of 14)\n    Line #108 (got 15 columns instead of 14)\n    Line #109 (got 15 columns instead of 14)\n    Line #110 (got 15 columns instead of 14)\n    Line #111 (got 15 columns instead of 14)\n    Line #112 (got 15 columns instead of 14)\n    Line #113 (got 15 columns instead of 14)\n    Line #114 (got 15 columns instead of 14)\n    Line #115 (got 15 columns instead of 14)\n    Line #116 (got 15 columns instead of 14)\n    Line #117 (got 15 columns instead of 14)\n    Line #118 (got 15 columns instead of 14)\n    Line #119 (got 15 columns instead of 14)\n    Line #120 (got 15 columns instead of 14)\n    Line #121 (got 15 columns instead of 14)\n    Line #122 (got 15 columns instead of 14)\n    Line #123 (got 15 columns instead of 14)\n    Line #124 (got 15 columns instead of 14)\n    Line #125 (got 15 columns instead of 14)\n    Line #126 (got 15 columns instead of 14)\n    Line #127 (got 15 columns instead of 14)\n    Line #128 (got 15 columns instead of 14)\n    Line #129 (got 15 columns instead of 14)\n    Line #130 (got 15 columns instead of 14)\n    Line #131 (got 15 columns instead of 14)\n    Line #132 (got 15 columns instead of 14)\n    Line #133 (got 15 columns instead of 14)\n    Line #134 (got 15 columns instead of 14)\n    Line #135 (got 15 columns instead of 14)\n    Line #136 (got 15 columns instead of 14)\n    Line #137 (got 15 columns instead of 14)\n    Line #138 (got 15 columns instead of 14)\n    Line #139 (got 15 columns instead of 14)\n    Line #140 (got 15 columns instead of 14)\n    Line #141 (got 15 columns instead of 14)\n    Line #142 (got 15 columns instead of 14)\n    Line #143 (got 15 columns instead of 14)\n    Line #144 (got 15 columns instead of 14)\n    Line #145 (got 15 columns instead of 14)\n    Line #146 (got 15 columns instead of 14)\n    Line #147 (got 15 columns instead of 14)\n    Line #148 (got 15 columns instead of 14)\n    Line #149 (got 15 columns instead of 14)\n    Line #150 (got 15 columns instead of 14)\n    Line #151 (got 15 columns instead of 14)\n    Line #152 (got 15 columns instead of 14)\n    Line #153 (got 15 columns instead of 14)\n    Line #154 (got 15 columns instead of 14)\n    Line #155 (got 15 columns instead of 14)\n    Line #156 (got 15 columns instead of 14)\n    Line #157 (got 15 columns instead of 14)\n    Line #158 (got 15 columns instead of 14)\n    Line #159 (got 15 columns instead of 14)\n    Line #160 (got 15 columns instead of 14)\n    Line #161 (got 15 columns instead of 14)\n    Line #162 (got 15 columns instead of 14)\n    Line #163 (got 15 columns instead of 14)\n    Line #164 (got 15 columns instead of 14)\n    Line #165 (got 15 columns instead of 14)\n    Line #166 (got 15 columns instead of 14)\n    Line #167 (got 15 columns instead of 14)\n    Line #168 (got 15 columns instead of 14)\n    Line #169 (got 15 columns instead of 14)\n    Line #170 (got 15 columns instead of 14)\n    Line #171 (got 15 columns instead of 14)\n    Line #172 (got 15 columns instead of 14)\n    Line #173 (got 15 columns instead of 14)\n    Line #174 (got 15 columns instead of 14)\n    Line #175 (got 15 columns instead of 14)\n    Line #176 (got 15 columns instead of 14)\n    Line #177 (got 15 columns instead of 14)\n    Line #178 (got 15 columns instead of 14)\n    Line #179 (got 15 columns instead of 14)\n    Line #180 (got 15 columns instead of 14)\n    Line #181 (got 15 columns instead of 14)\n    Line #182 (got 15 columns instead of 14)\n    Line #183 (got 15 columns instead of 14)\n    Line #184 (got 15 columns instead of 14)\n    Line #185 (got 15 columns instead of 14)\n    Line #186 (got 15 columns instead of 14)\n    Line #187 (got 15 columns instead of 14)\n    Line #188 (got 15 columns instead of 14)\n    Line #189 (got 15 columns instead of 14)\n    Line #190 (got 15 columns instead of 14)\n    Line #191 (got 15 columns instead of 14)\n    Line #192 (got 15 columns instead of 14)\n    Line #193 (got 15 columns instead of 14)\n    Line #194 (got 15 columns instead of 14)\n    Line #195 (got 15 columns instead of 14)\n    Line #196 (got 15 columns instead of 14)\n    Line #197 (got 15 columns instead of 14)\n    Line #198 (got 15 columns instead of 14)\n    Line #199 (got 15 columns instead of 14)\n    Line #200 (got 15 columns instead of 14)\n    Line #201 (got 15 columns instead of 14)\n    Line #202 (got 15 columns instead of 14)\n    Line #203 (got 15 columns instead of 14)\n    Line #204 (got 15 columns instead of 14)\n    Line #205 (got 15 columns instead of 14)\n    Line #206 (got 15 columns instead of 14)\n    Line #207 (got 15 columns instead of 14)\n    Line #208 (got 15 columns instead of 14)\n    Line #209 (got 15 columns instead of 14)\n    Line #210 (got 15 columns instead of 14)\n    Line #211 (got 15 columns instead of 14)\n    Line #212 (got 15 columns instead of 14)\n    Line #213 (got 15 columns instead of 14)\n    Line #214 (got 15 columns instead of 14)\n    Line #215 (got 15 columns instead of 14)\n    Line #216 (got 15 columns instead of 14)\n    Line #217 (got 15 columns instead of 14)\n    Line #218 (got 15 columns instead of 14)\n    Line #219 (got 15 columns instead of 14)\n    Line #220 (got 15 columns instead of 14)\n    Line #221 (got 15 columns instead of 14)\n    Line #222 (got 15 columns instead of 14)\n    Line #223 (got 15 columns instead of 14)\n    Line #224 (got 15 columns instead of 14)\n    Line #225 (got 15 columns instead of 14)\n    Line #226 (got 15 columns instead of 14)\n    Line #227 (got 15 columns instead of 14)\n    Line #228 (got 15 columns instead of 14)\n    Line #229 (got 15 columns instead of 14)\n    Line #230 (got 15 columns instead of 14)\n    Line #231 (got 15 columns instead of 14)\n    Line #232 (got 15 columns instead of 14)\n    Line #233 (got 15 columns instead of 14)\n    Line #234 (got 15 columns instead of 14)\n    Line #235 (got 15 columns instead of 14)\n    Line #236 (got 15 columns instead of 14)\n    Line #237 (got 15 columns instead of 14)\n    Line #238 (got 15 columns instead of 14)\n    Line #239 (got 15 columns instead of 14)\n    Line #240 (got 15 columns instead of 14)\n    Line #241 (got 15 columns instead of 14)\n    Line #242 (got 15 columns instead of 14)\n    Line #243 (got 15 columns instead of 14)\n    Line #244 (got 15 columns instead of 14)\n    Line #245 (got 15 columns instead of 14)\n    Line #246 (got 15 columns instead of 14)\n    Line #247 (got 15 columns instead of 14)\n    Line #248 (got 15 columns instead of 14)\n    Line #249 (got 15 columns instead of 14)\n    Line #250 (got 15 columns instead of 14)\n    Line #251 (got 15 columns instead of 14)\n    Line #252 (got 15 columns instead of 14)\n    Line #253 (got 15 columns instead of 14)\n    Line #254 (got 15 columns instead of 14)\n    Line #255 (got 15 columns instead of 14)\n    Line #256 (got 15 columns instead of 14)\n    Line #257 (got 15 columns instead of 14)\n    Line #258 (got 15 columns instead of 14)\n    Line #259 (got 15 columns instead of 14)\n    Line #260 (got 15 columns instead of 14)\n    Line #261 (got 15 columns instead of 14)\n    Line #262 (got 15 columns instead of 14)\n    Line #263 (got 15 columns instead of 14)\n    Line #264 (got 15 columns instead of 14)\n    Line #265 (got 15 columns instead of 14)\n    Line #266 (got 15 columns instead of 14)\n    Line #267 (got 15 columns instead of 14)\n    Line #268 (got 15 columns instead of 14)\n    Line #269 (got 15 columns instead of 14)\n    Line #270 (got 15 columns instead of 14)\n    Line #271 (got 15 columns instead of 14)\n    Line #272 (got 15 columns instead of 14)\n    Line #273 (got 15 columns instead of 14)\n    Line #274 (got 15 columns instead of 14)\n    Line #275 (got 15 columns instead of 14)\n    Line #276 (got 15 columns instead of 14)\n    Line #277 (got 15 columns instead of 14)\n    Line #278 (got 15 columns instead of 14)\n    Line #279 (got 15 columns instead of 14)\n    Line #280 (got 15 columns instead of 14)\n    Line #281 (got 15 columns instead of 14)\n    Line #282 (got 15 columns instead of 14)\n    Line #283 (got 15 columns instead of 14)\n    Line #284 (got 15 columns instead of 14)\n    Line #285 (got 15 columns instead of 14)\n    Line #286 (got 15 columns instead of 14)\n    Line #287 (got 15 columns instead of 14)\n    Line #288 (got 15 columns instead of 14)\n    Line #289 (got 15 columns instead of 14)\n    Line #290 (got 15 columns instead of 14)\n    Line #291 (got 15 columns instead of 14)\n    Line #292 (got 15 columns instead of 14)\n    Line #293 (got 15 columns instead of 14)\n    Line #294 (got 15 columns instead of 14)\n    Line #295 (got 15 columns instead of 14)\n    Line #296 (got 15 columns instead of 14)\n    Line #297 (got 15 columns instead of 14)\n    Line #298 (got 15 columns instead of 14)\n    Line #299 (got 15 columns instead of 14)\n    Line #300 (got 15 columns instead of 14)\n    Line #301 (got 15 columns instead of 14)\n    Line #302 (got 15 columns instead of 14)\n    Line #303 (got 15 columns instead of 14)\n    Line #304 (got 15 columns instead of 14)"
     ]
    }
   ],
   "source": [
    "data=np.genfromtxt(filename,delimiter=\",\",dtype=None,names=True,encoding='utf-8-sig')"
   ]
  },
  {
   "cell_type": "code",
   "execution_count": 13,
   "metadata": {},
   "outputs": [
    {
     "ename": "ValueError",
     "evalue": "could not convert string to float: 'typical'",
     "output_type": "error",
     "traceback": [
      "\u001b[1;31m---------------------------------------------------------------------------\u001b[0m",
      "\u001b[1;31mValueError\u001b[0m                                Traceback (most recent call last)",
      "\u001b[1;32m<ipython-input-13-3f9d9dc2b844>\u001b[0m in \u001b[0;36m<module>\u001b[1;34m\u001b[0m\n\u001b[0;32m      9\u001b[0m         \u001b[0mdf\u001b[0m\u001b[1;33m=\u001b[0m\u001b[0mpd\u001b[0m\u001b[1;33m.\u001b[0m\u001b[0mDataFrame\u001b[0m\u001b[1;33m(\u001b[0m\u001b[0mdata\u001b[0m\u001b[1;33m,\u001b[0m\u001b[0mcolumns\u001b[0m\u001b[1;33m=\u001b[0m\u001b[0mcols\u001b[0m\u001b[1;33m)\u001b[0m\u001b[1;33m\u001b[0m\u001b[1;33m\u001b[0m\u001b[0m\n\u001b[0;32m     10\u001b[0m     \u001b[1;32mreturn\u001b[0m \u001b[0mdf\u001b[0m\u001b[1;33m\u001b[0m\u001b[1;33m\u001b[0m\u001b[0m\n\u001b[1;32m---> 11\u001b[1;33m \u001b[0mload_file\u001b[0m\u001b[1;33m(\u001b[0m\u001b[0mfilename\u001b[0m\u001b[1;33m)\u001b[0m\u001b[1;33m.\u001b[0m\u001b[0mhead\u001b[0m\u001b[1;33m(\u001b[0m\u001b[1;33m)\u001b[0m\u001b[1;33m\u001b[0m\u001b[1;33m\u001b[0m\u001b[0m\n\u001b[0m",
      "\u001b[1;32m<ipython-input-13-3f9d9dc2b844>\u001b[0m in \u001b[0;36mload_file\u001b[1;34m(filename)\u001b[0m\n\u001b[0;32m      6\u001b[0m                 \u001b[0mcols\u001b[0m\u001b[1;33m+=\u001b[0m \u001b[0mline\u001b[0m\u001b[1;33m.\u001b[0m\u001b[0msplit\u001b[0m\u001b[1;33m(\u001b[0m\u001b[1;34m\",\"\u001b[0m\u001b[1;33m)\u001b[0m\u001b[1;33m\u001b[0m\u001b[1;33m\u001b[0m\u001b[0m\n\u001b[0;32m      7\u001b[0m             \u001b[1;32melse\u001b[0m\u001b[1;33m:\u001b[0m\u001b[1;33m\u001b[0m\u001b[1;33m\u001b[0m\u001b[0m\n\u001b[1;32m----> 8\u001b[1;33m                 \u001b[0mdata\u001b[0m\u001b[1;33m.\u001b[0m\u001b[0mappend\u001b[0m\u001b[1;33m(\u001b[0m\u001b[1;33m[\u001b[0m\u001b[0mfloat\u001b[0m\u001b[1;33m(\u001b[0m\u001b[0mx\u001b[0m\u001b[1;33m)\u001b[0m \u001b[1;32mfor\u001b[0m \u001b[0mx\u001b[0m \u001b[1;32min\u001b[0m \u001b[0mline\u001b[0m\u001b[1;33m.\u001b[0m\u001b[0msplit\u001b[0m\u001b[1;33m(\u001b[0m\u001b[1;34m\",\"\u001b[0m\u001b[1;33m)\u001b[0m\u001b[1;33m]\u001b[0m\u001b[1;33m)\u001b[0m\u001b[1;33m\u001b[0m\u001b[1;33m\u001b[0m\u001b[0m\n\u001b[0m\u001b[0;32m      9\u001b[0m         \u001b[0mdf\u001b[0m\u001b[1;33m=\u001b[0m\u001b[0mpd\u001b[0m\u001b[1;33m.\u001b[0m\u001b[0mDataFrame\u001b[0m\u001b[1;33m(\u001b[0m\u001b[0mdata\u001b[0m\u001b[1;33m,\u001b[0m\u001b[0mcolumns\u001b[0m\u001b[1;33m=\u001b[0m\u001b[0mcols\u001b[0m\u001b[1;33m)\u001b[0m\u001b[1;33m\u001b[0m\u001b[1;33m\u001b[0m\u001b[0m\n\u001b[0;32m     10\u001b[0m     \u001b[1;32mreturn\u001b[0m \u001b[0mdf\u001b[0m\u001b[1;33m\u001b[0m\u001b[1;33m\u001b[0m\u001b[0m\n",
      "\u001b[1;32m<ipython-input-13-3f9d9dc2b844>\u001b[0m in \u001b[0;36m<listcomp>\u001b[1;34m(.0)\u001b[0m\n\u001b[0;32m      6\u001b[0m                 \u001b[0mcols\u001b[0m\u001b[1;33m+=\u001b[0m \u001b[0mline\u001b[0m\u001b[1;33m.\u001b[0m\u001b[0msplit\u001b[0m\u001b[1;33m(\u001b[0m\u001b[1;34m\",\"\u001b[0m\u001b[1;33m)\u001b[0m\u001b[1;33m\u001b[0m\u001b[1;33m\u001b[0m\u001b[0m\n\u001b[0;32m      7\u001b[0m             \u001b[1;32melse\u001b[0m\u001b[1;33m:\u001b[0m\u001b[1;33m\u001b[0m\u001b[1;33m\u001b[0m\u001b[0m\n\u001b[1;32m----> 8\u001b[1;33m                 \u001b[0mdata\u001b[0m\u001b[1;33m.\u001b[0m\u001b[0mappend\u001b[0m\u001b[1;33m(\u001b[0m\u001b[1;33m[\u001b[0m\u001b[0mfloat\u001b[0m\u001b[1;33m(\u001b[0m\u001b[0mx\u001b[0m\u001b[1;33m)\u001b[0m \u001b[1;32mfor\u001b[0m \u001b[0mx\u001b[0m \u001b[1;32min\u001b[0m \u001b[0mline\u001b[0m\u001b[1;33m.\u001b[0m\u001b[0msplit\u001b[0m\u001b[1;33m(\u001b[0m\u001b[1;34m\",\"\u001b[0m\u001b[1;33m)\u001b[0m\u001b[1;33m]\u001b[0m\u001b[1;33m)\u001b[0m\u001b[1;33m\u001b[0m\u001b[1;33m\u001b[0m\u001b[0m\n\u001b[0m\u001b[0;32m      9\u001b[0m         \u001b[0mdf\u001b[0m\u001b[1;33m=\u001b[0m\u001b[0mpd\u001b[0m\u001b[1;33m.\u001b[0m\u001b[0mDataFrame\u001b[0m\u001b[1;33m(\u001b[0m\u001b[0mdata\u001b[0m\u001b[1;33m,\u001b[0m\u001b[0mcolumns\u001b[0m\u001b[1;33m=\u001b[0m\u001b[0mcols\u001b[0m\u001b[1;33m)\u001b[0m\u001b[1;33m\u001b[0m\u001b[1;33m\u001b[0m\u001b[0m\n\u001b[0;32m     10\u001b[0m     \u001b[1;32mreturn\u001b[0m \u001b[0mdf\u001b[0m\u001b[1;33m\u001b[0m\u001b[1;33m\u001b[0m\u001b[0m\n",
      "\u001b[1;31mValueError\u001b[0m: could not convert string to float: 'typical'"
     ]
    }
   ],
   "source": [
    "def load_file(filename):\n",
    "    with open (filename,encoding=\"utf-8-sig\") as f:\n",
    "        data,cols=[],[]\n",
    "        for i,line in enumerate(f.read().splitlines()):\n",
    "            if i == 0:\n",
    "                cols+= line.split(\",\")\n",
    "            else:\n",
    "                data.append([float(x) for x in line.split(\",\")])\n",
    "        df=pd.DataFrame(data,columns=cols)\n",
    "    return df\n",
    "load_file(filename).head()"
   ]
  },
  {
   "cell_type": "code",
   "execution_count": 18,
   "metadata": {},
   "outputs": [
    {
     "ename": "FileNotFoundError",
     "evalue": "[Errno 2] No such file or directory: 'heart.pkl'",
     "output_type": "error",
     "traceback": [
      "\u001b[1;31m---------------------------------------------------------------------------\u001b[0m",
      "\u001b[1;31mFileNotFoundError\u001b[0m                         Traceback (most recent call last)",
      "\u001b[1;32m<ipython-input-18-d07bbdb5bdfa>\u001b[0m in \u001b[0;36m<module>\u001b[1;34m\u001b[0m\n\u001b[1;32m----> 1\u001b[1;33m \u001b[0mdf\u001b[0m \u001b[1;33m=\u001b[0m\u001b[0mpd\u001b[0m\u001b[1;33m.\u001b[0m\u001b[0mread_pickle\u001b[0m\u001b[1;33m(\u001b[0m\u001b[1;34m\"heart.pkl\"\u001b[0m\u001b[1;33m)\u001b[0m\u001b[1;33m\u001b[0m\u001b[1;33m\u001b[0m\u001b[0m\n\u001b[0m\u001b[0;32m      2\u001b[0m \u001b[0mdf\u001b[0m\u001b[1;33m.\u001b[0m\u001b[0mhead\u001b[0m\u001b[1;33m(\u001b[0m\u001b[1;33m)\u001b[0m\u001b[1;33m\u001b[0m\u001b[1;33m\u001b[0m\u001b[0m\n",
      "\u001b[1;32mC:\\ProgramData\\Anaconda3\\lib\\site-packages\\pandas\\io\\pickle.py\u001b[0m in \u001b[0;36mread_pickle\u001b[1;34m(filepath_or_buffer, compression)\u001b[0m\n\u001b[0;32m    168\u001b[0m     \u001b[1;32mif\u001b[0m \u001b[1;32mnot\u001b[0m \u001b[0misinstance\u001b[0m\u001b[1;33m(\u001b[0m\u001b[0mfp_or_buf\u001b[0m\u001b[1;33m,\u001b[0m \u001b[0mstr\u001b[0m\u001b[1;33m)\u001b[0m \u001b[1;32mand\u001b[0m \u001b[0mcompression\u001b[0m \u001b[1;33m==\u001b[0m \u001b[1;34m\"infer\"\u001b[0m\u001b[1;33m:\u001b[0m\u001b[1;33m\u001b[0m\u001b[1;33m\u001b[0m\u001b[0m\n\u001b[0;32m    169\u001b[0m         \u001b[0mcompression\u001b[0m \u001b[1;33m=\u001b[0m \u001b[1;32mNone\u001b[0m\u001b[1;33m\u001b[0m\u001b[1;33m\u001b[0m\u001b[0m\n\u001b[1;32m--> 170\u001b[1;33m     \u001b[0mf\u001b[0m\u001b[1;33m,\u001b[0m \u001b[0mfh\u001b[0m \u001b[1;33m=\u001b[0m \u001b[0mget_handle\u001b[0m\u001b[1;33m(\u001b[0m\u001b[0mfp_or_buf\u001b[0m\u001b[1;33m,\u001b[0m \u001b[1;34m\"rb\"\u001b[0m\u001b[1;33m,\u001b[0m \u001b[0mcompression\u001b[0m\u001b[1;33m=\u001b[0m\u001b[0mcompression\u001b[0m\u001b[1;33m,\u001b[0m \u001b[0mis_text\u001b[0m\u001b[1;33m=\u001b[0m\u001b[1;32mFalse\u001b[0m\u001b[1;33m)\u001b[0m\u001b[1;33m\u001b[0m\u001b[1;33m\u001b[0m\u001b[0m\n\u001b[0m\u001b[0;32m    171\u001b[0m \u001b[1;33m\u001b[0m\u001b[0m\n\u001b[0;32m    172\u001b[0m     \u001b[1;31m# 1) try standard library Pickle\u001b[0m\u001b[1;33m\u001b[0m\u001b[1;33m\u001b[0m\u001b[1;33m\u001b[0m\u001b[0m\n",
      "\u001b[1;32mC:\\ProgramData\\Anaconda3\\lib\\site-packages\\pandas\\io\\common.py\u001b[0m in \u001b[0;36mget_handle\u001b[1;34m(path_or_buf, mode, encoding, compression, memory_map, is_text)\u001b[0m\n\u001b[0;32m    432\u001b[0m         \u001b[1;32melse\u001b[0m\u001b[1;33m:\u001b[0m\u001b[1;33m\u001b[0m\u001b[1;33m\u001b[0m\u001b[0m\n\u001b[0;32m    433\u001b[0m             \u001b[1;31m# Binary mode\u001b[0m\u001b[1;33m\u001b[0m\u001b[1;33m\u001b[0m\u001b[1;33m\u001b[0m\u001b[0m\n\u001b[1;32m--> 434\u001b[1;33m             \u001b[0mf\u001b[0m \u001b[1;33m=\u001b[0m \u001b[0mopen\u001b[0m\u001b[1;33m(\u001b[0m\u001b[0mpath_or_buf\u001b[0m\u001b[1;33m,\u001b[0m \u001b[0mmode\u001b[0m\u001b[1;33m)\u001b[0m\u001b[1;33m\u001b[0m\u001b[1;33m\u001b[0m\u001b[0m\n\u001b[0m\u001b[0;32m    435\u001b[0m         \u001b[0mhandles\u001b[0m\u001b[1;33m.\u001b[0m\u001b[0mappend\u001b[0m\u001b[1;33m(\u001b[0m\u001b[0mf\u001b[0m\u001b[1;33m)\u001b[0m\u001b[1;33m\u001b[0m\u001b[1;33m\u001b[0m\u001b[0m\n\u001b[0;32m    436\u001b[0m \u001b[1;33m\u001b[0m\u001b[0m\n",
      "\u001b[1;31mFileNotFoundError\u001b[0m: [Errno 2] No such file or directory: 'heart.pkl'"
     ]
    }
   ],
   "source": [
    "df =pd.read_pickle(\"heart.pkl\")\n",
    "df.head()"
   ]
  },
  {
   "cell_type": "code",
   "execution_count": null,
   "metadata": {},
   "outputs": [],
   "source": []
  }
 ],
 "metadata": {
  "kernelspec": {
   "display_name": "Python 3",
   "language": "python",
   "name": "python3"
  },
  "language_info": {
   "codemirror_mode": {
    "name": "ipython",
    "version": 3
   },
   "file_extension": ".py",
   "mimetype": "text/x-python",
   "name": "python",
   "nbconvert_exporter": "python",
   "pygments_lexer": "ipython3",
   "version": "3.7.6"
  }
 },
 "nbformat": 4,
 "nbformat_minor": 4
}
