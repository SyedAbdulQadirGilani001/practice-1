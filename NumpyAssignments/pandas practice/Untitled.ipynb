{
 "cells": [
  {
   "cell_type": "code",
   "execution_count": 1,
   "metadata": {},
   "outputs": [],
   "source": [
    "import pandas as pd"
   ]
  },
  {
   "cell_type": "code",
   "execution_count": 2,
   "metadata": {},
   "outputs": [
    {
     "name": "stdout",
     "output_type": "stream",
     "text": [
      "0    4\n",
      "1   -7\n",
      "2    8\n",
      "3    9\n",
      "4    3\n",
      "5    6\n",
      "dtype: int64\n"
     ]
    }
   ],
   "source": [
    "obj = pd.Series([4,-7,8,9,3,6])\n",
    "print(obj)"
   ]
  },
  {
   "cell_type": "code",
   "execution_count": 3,
   "metadata": {},
   "outputs": [
    {
     "name": "stdout",
     "output_type": "stream",
     "text": [
      "[100 200 600 500]\n",
      "RangeIndex(start=0, stop=4, step=1)\n",
      "0    100\n",
      "1    200\n",
      "2    600\n",
      "3    500\n",
      "dtype: int64\n"
     ]
    }
   ],
   "source": [
    "Sales = pd.Series([100,200,600,500])\n",
    "print(Sales.values)\n",
    "print(Sales.index)\n",
    "print(Sales)"
   ]
  },
  {
   "cell_type": "code",
   "execution_count": 4,
   "metadata": {},
   "outputs": [
    {
     "name": "stdout",
     "output_type": "stream",
     "text": [
      "[100 200 600 500]\n",
      "Index(['a', 'b', 'c', 'd'], dtype='object')\n",
      "a    100\n",
      "b    200\n",
      "c    600\n",
      "d    500\n",
      "dtype: int64\n"
     ]
    }
   ],
   "source": [
    "Sales = pd.Series([100,200,600,500],index=['a','b','c','d'])\n",
    "print(Sales.values)\n",
    "print(Sales.index)\n",
    "print(Sales)"
   ]
  },
  {
   "cell_type": "code",
   "execution_count": 5,
   "metadata": {},
   "outputs": [
    {
     "name": "stdout",
     "output_type": "stream",
     "text": [
      "[100 200 600 500]\n",
      "Index(['Jan', 'Feb', 'Mar', 'Apr'], dtype='object')\n",
      "Jan    100\n",
      "Feb    200\n",
      "Mar    600\n",
      "Apr    500\n",
      "dtype: int64\n"
     ]
    }
   ],
   "source": [
    "Sales = pd.Series([100,200,600,500],index=['Jan','Feb','Mar','Apr'])\n",
    "print(Sales.values)\n",
    "print(Sales.index)\n",
    "print(Sales)"
   ]
  },
  {
   "cell_type": "code",
   "execution_count": 6,
   "metadata": {},
   "outputs": [
    {
     "name": "stdout",
     "output_type": "stream",
     "text": [
      "[100 200 600 500]\n",
      "Index(['Jan', 'Feb', 'Mar', 'Apr'], dtype='object')\n",
      "Jan    100\n",
      "Feb    200\n",
      "Mar    600\n",
      "Apr    500\n",
      "Name: 04 Months Sales, dtype: int64\n"
     ]
    }
   ],
   "source": [
    "Sales = pd.Series([100,200,600,500],index=['Jan','Feb','Mar','Apr'],name=\"04 Months Sales\")\n",
    "print(Sales.values)\n",
    "print(Sales.index)\n",
    "print(Sales)"
   ]
  },
  {
   "cell_type": "code",
   "execution_count": 9,
   "metadata": {},
   "outputs": [
    {
     "name": "stdout",
     "output_type": "stream",
     "text": [
      "Mon    50\n",
      "Tue    40\n",
      "Wed    45\n",
      "Thr    60\n",
      "Fri    70\n",
      "Sat    55\n",
      "Sun    65\n",
      "Name: 01 Week Sales, dtype: int64\n"
     ]
    }
   ],
   "source": [
    "SW=pd.Series([50,40,45,60,70,55,65],index=['Mon','Tue','Wed','Thr','Fri','Sat','Sun'],name='01 Week Sales')\n",
    "print(SW)"
   ]
  },
  {
   "cell_type": "code",
   "execution_count": 12,
   "metadata": {},
   "outputs": [
    {
     "name": "stdout",
     "output_type": "stream",
     "text": [
      "40\n",
      "70\n",
      "65\n"
     ]
    }
   ],
   "source": [
    "print(SW[1])\n",
    "print(SW['Fri'])\n",
    "print(SW['Sun'])"
   ]
  },
  {
   "cell_type": "code",
   "execution_count": 13,
   "metadata": {},
   "outputs": [
    {
     "name": "stdout",
     "output_type": "stream",
     "text": [
      "65\n"
     ]
    }
   ],
   "source": [
    "print(SW[6])"
   ]
  },
  {
   "cell_type": "code",
   "execution_count": 16,
   "metadata": {},
   "outputs": [
    {
     "name": "stdout",
     "output_type": "stream",
     "text": [
      "Fri    70\n",
      "Sat    55\n",
      "Sun    65\n",
      "Name: 01 Week Sales, dtype: int64\n"
     ]
    }
   ],
   "source": [
    "print(SW[4:7])"
   ]
  },
  {
   "cell_type": "code",
   "execution_count": 22,
   "metadata": {},
   "outputs": [
    {
     "name": "stdout",
     "output_type": "stream",
     "text": [
      "Wed    45\n",
      "Sat    55\n",
      "Name: 01 Week Sales, dtype: int64\n",
      "Fri    70\n",
      "Sun    65\n",
      "Name: 01 Week Sales, dtype: int64\n"
     ]
    }
   ],
   "source": [
    "print(SW[[2,5]])\n",
    "print(SW[['Fri','Sun']])"
   ]
  },
  {
   "cell_type": "code",
   "execution_count": 25,
   "metadata": {},
   "outputs": [
    {
     "name": "stdout",
     "output_type": "stream",
     "text": [
      "Thr    60\n",
      "Fri    70\n",
      "Sat    55\n",
      "Sun    65\n",
      "Name: 01 Week Sales, dtype: int64\n"
     ]
    }
   ],
   "source": [
    "print(SW[SW>50])"
   ]
  },
  {
   "cell_type": "code",
   "execution_count": 26,
   "metadata": {},
   "outputs": [
    {
     "name": "stdout",
     "output_type": "stream",
     "text": [
      "Mon    50\n",
      "Tue    40\n",
      "Wed    45\n",
      "Sat    55\n",
      "Name: 01 Week Sales, dtype: int64\n"
     ]
    }
   ],
   "source": [
    "print(SW[SW<60])"
   ]
  },
  {
   "cell_type": "code",
   "execution_count": 27,
   "metadata": {},
   "outputs": [
    {
     "data": {
      "text/plain": [
       "Mon    100\n",
       "Tue     80\n",
       "Wed     90\n",
       "Thr    120\n",
       "Fri    140\n",
       "Sat    110\n",
       "Sun    130\n",
       "Name: 01 Week Sales, dtype: int64"
      ]
     },
     "execution_count": 27,
     "metadata": {},
     "output_type": "execute_result"
    }
   ],
   "source": [
    "SW*2"
   ]
  },
  {
   "cell_type": "code",
   "execution_count": 29,
   "metadata": {},
   "outputs": [
    {
     "data": {
      "text/plain": [
       "Mon    25\n",
       "Tue    20\n",
       "Wed    22\n",
       "Thr    30\n",
       "Fri    35\n",
       "Sat    27\n",
       "Sun    32\n",
       "Name: 01 Week Sales, dtype: int64"
      ]
     },
     "execution_count": 29,
     "metadata": {},
     "output_type": "execute_result"
    }
   ],
   "source": [
    "SW//2"
   ]
  },
  {
   "cell_type": "code",
   "execution_count": 30,
   "metadata": {},
   "outputs": [
    {
     "data": {
      "text/plain": [
       "Mon    48\n",
       "Tue    38\n",
       "Wed    43\n",
       "Thr    58\n",
       "Fri    68\n",
       "Sat    53\n",
       "Sun    63\n",
       "Name: 01 Week Sales, dtype: int64"
      ]
     },
     "execution_count": 30,
     "metadata": {},
     "output_type": "execute_result"
    }
   ],
   "source": [
    "SW-2"
   ]
  },
  {
   "cell_type": "code",
   "execution_count": 31,
   "metadata": {},
   "outputs": [
    {
     "data": {
      "text/plain": [
       "Mon    58\n",
       "Tue    48\n",
       "Wed    53\n",
       "Thr    68\n",
       "Fri    78\n",
       "Sat    63\n",
       "Sun    73\n",
       "Name: 01 Week Sales, dtype: int64"
      ]
     },
     "execution_count": 31,
     "metadata": {},
     "output_type": "execute_result"
    }
   ],
   "source": [
    "SW+8"
   ]
  },
  {
   "cell_type": "code",
   "execution_count": 32,
   "metadata": {},
   "outputs": [
    {
     "data": {
      "text/plain": [
       "True"
      ]
     },
     "execution_count": 32,
     "metadata": {},
     "output_type": "execute_result"
    }
   ],
   "source": [
    "'Mon' in SW"
   ]
  },
  {
   "cell_type": "code",
   "execution_count": 33,
   "metadata": {},
   "outputs": [
    {
     "name": "stdout",
     "output_type": "stream",
     "text": [
      "a    0\n",
      "b    1\n",
      "c    2\n",
      "d    3\n",
      "e    4\n",
      "f    5\n",
      "dtype: int32\n"
     ]
    }
   ],
   "source": [
    "import numpy as np\n",
    "arr = np.arange(6)\n",
    "ind = np.array(['a','b','c','d','e','f'])\n",
    "data= pd.Series(arr,index=ind)\n",
    "print(data)"
   ]
  },
  {
   "cell_type": "code",
   "execution_count": 37,
   "metadata": {},
   "outputs": [
    {
     "name": "stdout",
     "output_type": "stream",
     "text": [
      "shakrail      2000\n",
      "Khanapull     3000\n",
      "Ghouritown    5000\n",
      "dtype: int64\n",
      "Index(['shakrail', 'Khanapull', 'Ghouritown'], dtype='object')\n",
      "[2000 3000 5000]\n"
     ]
    }
   ],
   "source": [
    "census_data = {\"shakrail\":2000,\"Khanapull\":3000,'Ghouritown':5000}\n",
    "cd = pd.Series(census_data)\n",
    "print(cd)\n",
    "print(cd.index)\n",
    "print(cd.values)"
   ]
  },
  {
   "cell_type": "code",
   "execution_count": 43,
   "metadata": {},
   "outputs": [
    {
     "name": "stdout",
     "output_type": "stream",
     "text": [
      "Ghouritown    5000.0\n",
      "shakrail      2000.0\n",
      "Khanapull     3000.0\n",
      "Karal            NaN\n",
      "dtype: float64\n",
      "Index(['Ghouritown', 'shakrail', 'Khanapull', 'Karal'], dtype='object')\n",
      "[5000. 2000. 3000.   nan]\n",
      "Ghouritown    False\n",
      "shakrail      False\n",
      "Khanapull     False\n",
      "Karal          True\n",
      "dtype: bool\n"
     ]
    }
   ],
   "source": [
    "census_data = {\"shakrail\":2000,\"Khanapull\":3000,'Ghouritown':5000}\n",
    "ind = pd.Series(census_data,index=['Ghouritown','shakrail','Khanapull','Karal'])\n",
    "print(ind)\n",
    "print(ind.index)\n",
    "print(ind.values)\n",
    "print(pd.isnull(ind))"
   ]
  },
  {
   "cell_type": "code",
   "execution_count": 49,
   "metadata": {},
   "outputs": [
    {
     "name": "stdout",
     "output_type": "stream",
     "text": [
      "Area\n",
      "Ghouritown    5000.0\n",
      "shakrail      2000.0\n",
      "Khanapull     3000.0\n",
      "Karal            NaN\n",
      "Name: Census 2016, dtype: float64\n",
      "[5000. 2000. 3000.   nan]\n",
      "Index(['Ghouritown', 'shakrail', 'Khanapull', 'Karal'], dtype='object', name='Area')\n"
     ]
    }
   ],
   "source": [
    "ind.name=\"Census 2016\"\n",
    "ind.index.name=\"Area\"\n",
    "print(ind)\n",
    "print(ind.values)\n",
    "print(ind.index)"
   ]
  },
  {
   "cell_type": "code",
   "execution_count": 50,
   "metadata": {},
   "outputs": [
    {
     "data": {
      "text/plain": [
       "Area\n",
       "Ghouritown    False\n",
       "shakrail      False\n",
       "Khanapull     False\n",
       "Karal          True\n",
       "Name: Census 2016, dtype: bool"
      ]
     },
     "execution_count": 50,
     "metadata": {},
     "output_type": "execute_result"
    }
   ],
   "source": [
    "pd.isnull(ind)"
   ]
  },
  {
   "cell_type": "code",
   "execution_count": 51,
   "metadata": {},
   "outputs": [
    {
     "data": {
      "text/plain": [
       "Area\n",
       "Ghouritown    False\n",
       "shakrail      False\n",
       "Khanapull     False\n",
       "Karal          True\n",
       "Name: Census 2016, dtype: bool"
      ]
     },
     "execution_count": 51,
     "metadata": {},
     "output_type": "execute_result"
    }
   ],
   "source": [
    "ind.isnull()"
   ]
  },
  {
   "cell_type": "code",
   "execution_count": null,
   "metadata": {},
   "outputs": [],
   "source": []
  }
 ],
 "metadata": {
  "kernelspec": {
   "display_name": "Python 3",
   "language": "python",
   "name": "python3"
  },
  "language_info": {
   "codemirror_mode": {
    "name": "ipython",
    "version": 3
   },
   "file_extension": ".py",
   "mimetype": "text/x-python",
   "name": "python",
   "nbconvert_exporter": "python",
   "pygments_lexer": "ipython3",
   "version": "3.7.6"
  }
 },
 "nbformat": 4,
 "nbformat_minor": 4
}
