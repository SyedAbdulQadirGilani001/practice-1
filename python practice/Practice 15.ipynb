{
 "cells": [
  {
   "cell_type": "code",
   "execution_count": 1,
   "metadata": {},
   "outputs": [
    {
     "name": "stdout",
     "output_type": "stream",
     "text": [
      "11,12\n"
     ]
    }
   ],
   "source": [
    "number= input()\n",
    "l= number.split(\",\")"
   ]
  },
  {
   "cell_type": "code",
   "execution_count": 2,
   "metadata": {},
   "outputs": [
    {
     "name": "stdout",
     "output_type": "stream",
     "text": [
      "enter radius of circle3\n",
      "area of circle is:28.26\n"
     ]
    }
   ],
   "source": [
    "radius = int(input(\"enter radius of circle\"))\n",
    "a = 3.14*(radius*radius)\n",
    "print(f\"area of circle is:{a}\")\n"
   ]
  },
  {
   "cell_type": "code",
   "execution_count": 16,
   "metadata": {},
   "outputs": [
    {
     "name": "stdout",
     "output_type": "stream",
     "text": [
      "enter number4\n",
      "positive number \n"
     ]
    }
   ],
   "source": [
    "user_input= int(input(\"enter number\"))\n",
    "if user_input == 0:\n",
    "    print(\"zero\")\n",
    "elif user_input > 0:\n",
    "    print(\"positive number \")\n",
    "else:\n",
    "    print(\"negative number\")\n",
    "    "
   ]
  },
  {
   "cell_type": "code",
   "execution_count": 11,
   "metadata": {},
   "outputs": [
    {
     "data": {
      "text/plain": [
       "int"
      ]
     },
     "execution_count": 11,
     "metadata": {},
     "output_type": "execute_result"
    }
   ],
   "source": [
    "type(user_input)"
   ]
  },
  {
   "cell_type": "code",
   "execution_count": 1,
   "metadata": {},
   "outputs": [
    {
     "name": "stdout",
     "output_type": "stream",
     "text": [
      "enter numerator:4\n",
      "enter denominator:3\n",
      "the number4is not completly divisble by 3\n"
     ]
    }
   ],
   "source": [
    "numerator = int(input(\"enter numerator:\"))\n",
    "denominator = int(input(\"enter denominator:\"))\n",
    "if numerator % denominator == 0:\n",
    "    print(f\"the number{numerator} is completly divisbleby {denominator}\")\n",
    "else :\n",
    "    print(f\"the number{numerator}is not completly divisble by {denominator}\")\n",
    "    \n"
   ]
  },
  {
   "cell_type": "code",
   "execution_count": 7,
   "metadata": {},
   "outputs": [
    {
     "name": "stdout",
     "output_type": "stream",
     "text": [
      "enter the date23\n",
      "enter the month2\n",
      "enter the year2000\n",
      "23/2/2000\n"
     ]
    }
   ],
   "source": [
    "date = int(input(\"enter the date\"))\n",
    "month = int(input(\"enter the month\"))\n",
    "year = int(input(\"enter the year\"))\n",
    "print(date,month,year,sep=\"/\")"
   ]
  },
  {
   "cell_type": "code",
   "execution_count": 9,
   "metadata": {},
   "outputs": [
    {
     "name": "stdout",
     "output_type": "stream",
     "text": [
      "enter the date,month,year23 4 2017\n"
     ]
    },
    {
     "ename": "ValueError",
     "evalue": "invalid literal for int() with base 10: '23 4 2017'",
     "output_type": "error",
     "traceback": [
      "\u001b[1;31m---------------------------------------------------------------------------\u001b[0m",
      "\u001b[1;31mValueError\u001b[0m                                Traceback (most recent call last)",
      "\u001b[1;32m<ipython-input-9-8ece8d5cb0fc>\u001b[0m in \u001b[0;36m<module>\u001b[1;34m\u001b[0m\n\u001b[1;32m----> 1\u001b[1;33m \u001b[0mdate\u001b[0m \u001b[1;33m=\u001b[0m \u001b[0mint\u001b[0m\u001b[1;33m(\u001b[0m\u001b[0minput\u001b[0m\u001b[1;33m(\u001b[0m\u001b[1;34m\"enter the date,month,year\"\u001b[0m\u001b[1;33m)\u001b[0m\u001b[1;33m)\u001b[0m\u001b[1;33m.\u001b[0m\u001b[0mspilt\u001b[0m\u001b[1;33m\u001b[0m\u001b[1;33m\u001b[0m\u001b[0m\n\u001b[0m\u001b[0;32m      2\u001b[0m \u001b[0mprint\u001b[0m\u001b[1;33m(\u001b[0m\u001b[0mdate\u001b[0m\u001b[1;33m,\u001b[0m\u001b[0msep\u001b[0m\u001b[1;33m=\u001b[0m\u001b[1;34m\"/\"\u001b[0m\u001b[1;33m)\u001b[0m\u001b[1;33m\u001b[0m\u001b[1;33m\u001b[0m\u001b[0m\n",
      "\u001b[1;31mValueError\u001b[0m: invalid literal for int() with base 10: '23 4 2017'"
     ]
    }
   ],
   "source": [
    "date = int(input(\"enter the date,month,year\")).spilt\n",
    "print(date,sep=\"/\")"
   ]
  },
  {
   "cell_type": "code",
   "execution_count": 10,
   "metadata": {},
   "outputs": [
    {
     "name": "stdout",
     "output_type": "stream",
     "text": [
      "enter the volume of radius:34\n",
      "volume of sphere is: 164552.74666666667\n"
     ]
    }
   ],
   "source": [
    "# v = 4/3pier cube\n",
    "radius = int(input(\"enter the volume of radius:\"))\n",
    "volume = 4/3*3.14*(radius*radius*radius)\n",
    "print(f\"volume of sphere is: {volume}\")\n"
   ]
  },
  {
   "cell_type": "code",
   "execution_count": 1,
   "metadata": {},
   "outputs": [
    {
     "name": "stdout",
     "output_type": "stream",
     "text": [
      "enter stringder\n",
      "how many copies you want to display2\n",
      "DERDER\n"
     ]
    }
   ],
   "source": [
    "userinput = input(\"enter string\").upper()\n",
    "userinput1 = int(input(\"how many copies you want to display\"))\n",
    "copy = userinput*userinput1\n",
    "print(copy)"
   ]
  },
  {
   "cell_type": "code",
   "execution_count": 2,
   "metadata": {},
   "outputs": [
    {
     "name": "stdout",
     "output_type": "stream",
     "text": [
      "enter the number3\n",
      "3 is odd\n"
     ]
    }
   ],
   "source": [
    "user = int(input(\"enter the number\"))\n",
    "if user%2 ==0:\n",
    "    print(f\"{user}is even\")\n",
    "else:\n",
    "    print(F\"{user} is odd\")\n"
   ]
  },
  {
   "cell_type": "code",
   "execution_count": 4,
   "metadata": {},
   "outputs": [
    {
     "name": "stdout",
     "output_type": "stream",
     "text": [
      "enter alphabete\n",
      "e is vowel\n"
     ]
    }
   ],
   "source": [
    "user = input(\"enter alphabet\")\n",
    "if user == \"a\":\n",
    "    print(F\"{user} is vowel\")\n",
    "elif user == \"e\":\n",
    "    print(F\"{user} is vowel\")\n",
    "elif user == \"i\":\n",
    "    print(F\"{user} is vowel\")\n",
    "elif user == \"o\":\n",
    "    print(F\"{user} is vowel\")\n",
    "elif user == \"u\":\n",
    "    print(F\"{user} is vowel\")\n",
    "else:\n",
    "    print(f\"{user} is not vowel\")"
   ]
  },
  {
   "cell_type": "code",
   "execution_count": 3,
   "metadata": {},
   "outputs": [
    {
     "name": "stdout",
     "output_type": "stream",
     "text": [
      "enter alphabetd\n",
      "d is not vowel\n"
     ]
    }
   ],
   "source": [
    "vowel = input(\"enter alphabet\")\n",
    "if vowel == \"a\" or vowel == \"e\" or vowel ==\"o\" or vowel == \"i\" or vowel == \"u\"or vowel == \"A\" or vowel == \"E\" or vowel == \"I\" or vowel == \"O\" or vowel == \"U\":\n",
    "    print(F\"{vowel} is vowel\")\n",
    "else:\n",
    "    print(F\"{vowel} is not vowel\")\n",
    "    "
   ]
  },
  {
   "cell_type": "code",
   "execution_count": 9,
   "metadata": {},
   "outputs": [
    {
     "name": "stdout",
     "output_type": "stream",
     "text": [
      "enter the base of triangle3\n",
      "enter the height of triangle 4\n",
      "The Area Of Triangle Is 6.0\n"
     ]
    }
   ],
   "source": [
    "#1/2*base*height\n",
    "input1=int(input(\"enter the base of triangle\"))\n",
    "input2= int(input(\"enter the height of triangle \"))\n",
    "magnititude = 1/2*input1*input2\n",
    "print (f\"the area of triangle is {magnititude}\".title())\n"
   ]
  },
  {
   "cell_type": "code",
   "execution_count": 18,
   "metadata": {},
   "outputs": [
    {
     "name": "stdout",
     "output_type": "stream",
     "text": [
      "Enter The Amount1600\n",
      "Enter the Rate Of Interset9\n",
      "Enter Number Of Years1\n",
      "the amount of 1600 Rate of interset 9.0% Per 1Years and the total interset amount is 160.0\n"
     ]
    }
   ],
   "source": [
    "#amount*interset*year\n",
    "amount = int(input(\"Enter The Amount\"))\n",
    "interset_rate= float(input(\"Enter the Rate Of Interset\"))\n",
    "years = int(input(\"Enter Number Of Years\"))\n",
    "formula = amount*(1+ interset_rate*years)/100\n",
    "print(f\"the amount of {amount} Rate of interset {interset_rate}% Per {years}Years and the total interset amount is {formula}\" )"
   ]
  },
  {
   "cell_type": "code",
   "execution_count": 2,
   "metadata": {},
   "outputs": [
    {
     "ename": "SyntaxError",
     "evalue": "invalid syntax (<ipython-input-2-36d0443ec47e>, line 5)",
     "output_type": "error",
     "traceback": [
      "\u001b[1;36m  File \u001b[1;32m\"<ipython-input-2-36d0443ec47e>\"\u001b[1;36m, line \u001b[1;32m5\u001b[0m\n\u001b[1;33m    div=val1//val2 integer division\u001b[0m\n\u001b[1;37m                         ^\u001b[0m\n\u001b[1;31mSyntaxError\u001b[0m\u001b[1;31m:\u001b[0m invalid syntax\n"
     ]
    }
   ],
   "source": [
    "val1=100\n",
    "val2=50\n",
    "div=val1/val2\n",
    "print(div)\n",
    "div=val1//val2 integer division"
   ]
  },
  {
   "cell_type": "code",
   "execution_count": 5,
   "metadata": {},
   "outputs": [
    {
     "ename": "TypeError",
     "evalue": "'int' object is not callable",
     "output_type": "error",
     "traceback": [
      "\u001b[1;31m---------------------------------------------------------------------------\u001b[0m",
      "\u001b[1;31mTypeError\u001b[0m                                 Traceback (most recent call last)",
      "\u001b[1;32m<ipython-input-5-16d063eafeb7>\u001b[0m in \u001b[0;36m<module>\u001b[1;34m\u001b[0m\n\u001b[1;32m----> 1\u001b[1;33m \u001b[0mresult\u001b[0m\u001b[1;33m=\u001b[0m\u001b[1;33m(\u001b[0m\u001b[1;36m8\u001b[0m\u001b[1;33m+\u001b[0m\u001b[1;33m(\u001b[0m\u001b[1;36m15\u001b[0m\u001b[1;33m/\u001b[0m\u001b[1;36m1\u001b[0m\u001b[1;33m*\u001b[0m\u001b[1;36m3\u001b[0m\u001b[1;33m)\u001b[0m\u001b[1;33m+\u001b[0m\u001b[1;36m96\u001b[0m\u001b[1;33m/\u001b[0m\u001b[1;36m4\u001b[0m\u001b[1;33m**\u001b[0m\u001b[1;36m2\u001b[0m\u001b[1;33m+\u001b[0m\u001b[1;36m4\u001b[0m\u001b[1;33m(\u001b[0m\u001b[1;36m3\u001b[0m\u001b[1;33m-\u001b[0m\u001b[1;36m6\u001b[0m\u001b[1;33m)\u001b[0m\u001b[1;33m)\u001b[0m\u001b[1;33m\u001b[0m\u001b[1;33m\u001b[0m\u001b[0m\n\u001b[0m",
      "\u001b[1;31mTypeError\u001b[0m: 'int' object is not callable"
     ]
    }
   ],
   "source": [
    "result=(8+(15/1*3)+96/4**2+4(3-6))"
   ]
  },
  {
   "cell_type": "code",
   "execution_count": 9,
   "metadata": {},
   "outputs": [
    {
     "data": {
      "text/plain": [
       "['pakistan', 'i', 'u', 'c', 'k', 'ua']"
      ]
     },
     "execution_count": 9,
     "metadata": {},
     "output_type": "execute_result"
    }
   ],
   "source": [
    "c=[\"pakistan\",\"u\",\"c\",\"k\",\"ua\"]\n",
    "rank=[1,2,3,4,6,7,8,9]\n",
    "c.insert(1,\"i\")\n",
    "c"
   ]
  },
  {
   "cell_type": "code",
   "execution_count": 14,
   "metadata": {},
   "outputs": [
    {
     "name": "stdout",
     "output_type": "stream",
     "text": [
      "he said/'he wil visit us soon/'\n"
     ]
    }
   ],
   "source": [
    "print(\"he said/'he wil visit us soon/'\")"
   ]
  },
  {
   "cell_type": "code",
   "execution_count": 11,
   "metadata": {},
   "outputs": [
    {
     "data": {
      "text/plain": [
       "80000"
      ]
     },
     "execution_count": 11,
     "metadata": {},
     "output_type": "execute_result"
    }
   ],
   "source": [
    "100*800"
   ]
  },
  {
   "cell_type": "code",
   "execution_count": 12,
   "metadata": {},
   "outputs": [
    {
     "name": "stdout",
     "output_type": "stream",
     "text": [
      "7\n"
     ]
    }
   ],
   "source": [
    "print(4+3%5)"
   ]
  },
  {
   "cell_type": "code",
   "execution_count": 16,
   "metadata": {},
   "outputs": [
    {
     "data": {
      "text/plain": [
       "float"
      ]
     },
     "execution_count": 16,
     "metadata": {},
     "output_type": "execute_result"
    }
   ],
   "source": [
    "type(int(3/2))"
   ]
  },
  {
   "cell_type": "code",
   "execution_count": 17,
   "metadata": {},
   "outputs": [
    {
     "data": {
      "text/plain": [
       "builtin_function_or_method"
      ]
     },
     "execution_count": 17,
     "metadata": {},
     "output_type": "execute_result"
    }
   ],
   "source": [
    "type(print)"
   ]
  },
  {
   "cell_type": "code",
   "execution_count": null,
   "metadata": {},
   "outputs": [],
   "source": [
    "AzGGGGGGGHHGB "
   ]
  },
  {
   "cell_type": "code",
   "execution_count": 3,
   "metadata": {},
   "outputs": [
    {
     "name": "stdout",
     "output_type": "stream",
     "text": [
      "c\n"
     ]
    }
   ],
   "source": []
  },
  {
   "cell_type": "code",
   "execution_count": 4,
   "metadata": {},
   "outputs": [
    {
     "name": "stdout",
     "output_type": "stream",
     "text": [
      "c\n"
     ]
    }
   ],
   "source": [
    "x=[\"a\",\"b\",\"c\"]\n",
    "x[0]= \"c\"\n",
    "print(x[0])"
   ]
  },
  {
   "cell_type": "code",
   "execution_count": 5,
   "metadata": {},
   "outputs": [],
   "source": [
    "  for i in range(1,10):\n",
    "        if 1 %3==0:\n",
    "            continue\n",
    "        else:\n",
    "            break\n",
    "            print(i,end=\" \")"
   ]
  },
  {
   "cell_type": "code",
   "execution_count": 6,
   "metadata": {},
   "outputs": [
    {
     "ename": "SyntaxError",
     "evalue": "invalid syntax (<ipython-input-6-3bb4e4f58146>, line 1)",
     "output_type": "error",
     "traceback": [
      "\u001b[1;36m  File \u001b[1;32m\"<ipython-input-6-3bb4e4f58146>\"\u001b[1;36m, line \u001b[1;32m1\u001b[0m\n\u001b[1;33m    for i in range(1:10:2):\u001b[0m\n\u001b[1;37m                    ^\u001b[0m\n\u001b[1;31mSyntaxError\u001b[0m\u001b[1;31m:\u001b[0m invalid syntax\n"
     ]
    }
   ],
   "source": [
    "for i in range(1:10:2):\n",
    "    print(i)"
   ]
  },
  {
   "cell_type": "code",
   "execution_count": 8,
   "metadata": {},
   "outputs": [
    {
     "name": "stdout",
     "output_type": "stream",
     "text": [
      "1\n",
      "2\n",
      "3\n",
      "4\n",
      "5\n",
      "6\n",
      "7\n",
      "8\n",
      "9\n",
      "10\n"
     ]
    }
   ],
   "source": [
    "count= 0\n",
    "for i in range (1,5):\n",
    "    for j in range (0,5,2):\n",
    "        if i==j:\n",
    "            continue\n",
    "        else:\n",
    "            count+=1\n",
    "            print(count)"
   ]
  },
  {
   "cell_type": "code",
   "execution_count": 9,
   "metadata": {},
   "outputs": [
    {
     "ename": "ValueError",
     "evalue": "invalid literal for int() with base 10: '456.34'",
     "output_type": "error",
     "traceback": [
      "\u001b[1;31m---------------------------------------------------------------------------\u001b[0m",
      "\u001b[1;31mValueError\u001b[0m                                Traceback (most recent call last)",
      "\u001b[1;32m<ipython-input-9-95c74a06bf21>\u001b[0m in \u001b[0;36m<module>\u001b[1;34m\u001b[0m\n\u001b[0;32m      1\u001b[0m \u001b[0mn\u001b[0m \u001b[1;33m=\u001b[0m \u001b[1;34m\"456.34\"\u001b[0m\u001b[1;33m\u001b[0m\u001b[1;33m\u001b[0m\u001b[0m\n\u001b[1;32m----> 2\u001b[1;33m \u001b[0mprint\u001b[0m\u001b[1;33m(\u001b[0m\u001b[0mint\u001b[0m\u001b[1;33m(\u001b[0m\u001b[0mn\u001b[0m\u001b[1;33m)\u001b[0m\u001b[1;33m)\u001b[0m\u001b[1;33m\u001b[0m\u001b[1;33m\u001b[0m\u001b[0m\n\u001b[0m",
      "\u001b[1;31mValueError\u001b[0m: invalid literal for int() with base 10: '456.34'"
     ]
    }
   ],
   "source": [
    "n = \"456.34\"\n",
    "print(int(n))"
   ]
  },
  {
   "cell_type": "code",
   "execution_count": 7,
   "metadata": {},
   "outputs": [
    {
     "name": "stdout",
     "output_type": "stream",
     "text": [
      "23\n"
     ]
    }
   ],
   "source": [
    "var = 11\n",
    "for i in range(11):\n",
    "    for j in range(2,11,1):\n",
    "        if var % 2 == 0:\n",
    "            continue\n",
    "            var+=1\n",
    "    var+=1\n",
    "else:\n",
    "    var+=1\n",
    "print(var)"
   ]
  },
  {
   "cell_type": "code",
   "execution_count": 11,
   "metadata": {},
   "outputs": [
    {
     "name": "stdout",
     "output_type": "stream",
     "text": [
      "10,20\n"
     ]
    }
   ],
   "source": [
    "tupleA = (10,20)\n",
    "a,b= tupleA\n",
    "print(a,end= \",\")\n",
    "print(b)"
   ]
  },
  {
   "cell_type": "code",
   "execution_count": 19,
   "metadata": {},
   "outputs": [
    {
     "name": "stdout",
     "output_type": "stream",
     "text": [
      "4\n"
     ]
    }
   ],
   "source": [
    "x=0\n",
    "a=8\n",
    "b=5\n",
    "if a >0:\n",
    "    if b <0:\n",
    "        x = x + 5\n",
    "    elif a >5:\n",
    "        x = x+4\n",
    "    else:\n",
    "        x = x+3 \n",
    "else:\n",
    "    x=x+2\n",
    "\n",
    "print(x)\n",
    "    "
   ]
  },
  {
   "cell_type": "code",
   "execution_count": 27,
   "metadata": {},
   "outputs": [
    {
     "name": "stdout",
     "output_type": "stream",
     "text": [
      "[(2, 5), (3, 8), (4, 5), (5, 8)]\n"
     ]
    }
   ],
   "source": [
    "a1 = [2,4]\n",
    "a2 = [5,8]\n",
    "a3= list()\n",
    "i = 0\n",
    "j = 0\n",
    "for i in a1:\n",
    "    for j in a2:\n",
    "        a3.append((i,j))\n",
    "        i+=1\n",
    "        j+=1\n",
    "print(a3)"
   ]
  },
  {
   "cell_type": "code",
   "execution_count": 22,
   "metadata": {},
   "outputs": [
    {
     "data": {
      "text/plain": [
       "list"
      ]
     },
     "execution_count": 22,
     "metadata": {},
     "output_type": "execute_result"
    }
   ],
   "source": [
    "type(a3)"
   ]
  },
  {
   "cell_type": "code",
   "execution_count": 23,
   "metadata": {},
   "outputs": [
    {
     "data": {
      "text/plain": [
       "[]"
      ]
     },
     "execution_count": 23,
     "metadata": {},
     "output_type": "execute_result"
    }
   ],
   "source": [
    "c = [2,3]\n",
    "d= [5,4]\n",
    "e= list()\n",
    "e"
   ]
  },
  {
   "cell_type": "code",
   "execution_count": 40,
   "metadata": {},
   "outputs": [
    {
     "name": "stdout",
     "output_type": "stream",
     "text": [
      "+1859218434\n",
      "+18592186764\n"
     ]
    }
   ],
   "source": [
    "l = {\"Name1\":{\"adress\":\"ohiyo\",\"phone\":\"+1859218434\",\"job\":True},\"Name7\":{\"adress\":\"alaska\",\"phone\":\"+1859218434\",\"job\":False},\"Name2\":{\"adress\":\"bejing\",\"phone\":\"+18592186764\",\"job\":True},\"Name5\":{\"adress\":\"jakarta\",\"phone\":\"+1859218434\",\"job\":False}}\n",
    "for i in l.keys():\n",
    "    if l[i][\"job\"] == True:\n",
    "        print(l[i][\"phone\"])\n",
    "    "
   ]
  },
  {
   "cell_type": "code",
   "execution_count": 44,
   "metadata": {},
   "outputs": [
    {
     "name": "stdout",
     "output_type": "stream",
     "text": [
      "1\n",
      "2\n",
      "3\n",
      "4\n",
      "5\n",
      "6\n",
      "7\n",
      "8\n",
      "9\n",
      "10\n",
      "11\n",
      "12\n",
      "13\n",
      "14\n",
      "15\n",
      "16\n",
      "17\n",
      "18\n",
      "19\n",
      "20\n",
      "21\n",
      "22\n",
      "23\n",
      "24\n",
      "25\n",
      "26\n",
      "27\n",
      "28\n",
      "29\n",
      "30\n",
      "31\n",
      "32\n",
      "33\n",
      "34\n",
      "35\n",
      "36\n",
      "37\n",
      "38\n",
      "39\n",
      "40\n",
      "41\n",
      "42\n",
      "43\n",
      "44\n",
      "45\n",
      "46\n",
      "47\n",
      "48\n",
      "49\n",
      "50\n",
      "51\n",
      "52\n",
      "53\n",
      "54\n",
      "55\n",
      "56\n",
      "57\n",
      "58\n",
      "59\n",
      "60\n",
      "61\n",
      "62\n",
      "63\n",
      "64\n",
      "65\n",
      "66\n",
      "67\n",
      "68\n",
      "69\n",
      "70\n",
      "71\n",
      "72\n",
      "73\n",
      "74\n",
      "75\n",
      "76\n",
      "77\n",
      "78\n",
      "79\n",
      "80\n",
      "81\n",
      "82\n",
      "83\n",
      "84\n",
      "85\n",
      "86\n",
      "87\n",
      "88\n",
      "89\n",
      "90\n"
     ]
    }
   ],
   "source": [
    "x = 0\n",
    "for i in range(10):\n",
    "    for j in range(-1,-10,-1):\n",
    "        x += 1\n",
    "        print(x)\n",
    "        "
   ]
  },
  {
   "cell_type": "code",
   "execution_count": 47,
   "metadata": {},
   "outputs": [
    {
     "name": "stdout",
     "output_type": "stream",
     "text": [
      "33\n"
     ]
    }
   ],
   "source": [
    "values = [3,4,5,1,33,6,1,2]\n",
    "v= 0\n",
    "for column in range(len(values)):\n",
    "    if v < values[column]:\n",
    "        v = values[column]\n",
    "        \n",
    "print(v)"
   ]
  },
  {
   "cell_type": "code",
   "execution_count": 59,
   "metadata": {},
   "outputs": [
    {
     "name": "stdout",
     "output_type": "stream",
     "text": [
      "10,11,12,13,"
     ]
    }
   ],
   "source": [
    "for num in range(10,14):\n",
    "    for i in range(2,num):\n",
    "        if num%i ==1:\n",
    "            print(num,end=\",\")\n",
    "            break\n",
    "            "
   ]
  },
  {
   "cell_type": "code",
   "execution_count": 58,
   "metadata": {},
   "outputs": [
    {
     "data": {
      "text/plain": [
       "2"
      ]
     },
     "execution_count": 58,
     "metadata": {},
     "output_type": "execute_result"
    }
   ],
   "source": [
    "10%4"
   ]
  },
  {
   "cell_type": "code",
   "execution_count": 61,
   "metadata": {},
   "outputs": [
    {
     "data": {
      "text/plain": [
       "tuple"
      ]
     },
     "execution_count": 61,
     "metadata": {},
     "output_type": "execute_result"
    }
   ],
   "source": [
    "tuple1 = (11,[22,33],44,55)\n",
    "type(tuple1)"
   ]
  },
  {
   "cell_type": "code",
   "execution_count": 62,
   "metadata": {},
   "outputs": [
    {
     "name": "stdout",
     "output_type": "stream",
     "text": [
      "(11, [222, 33], 44, 55)\n"
     ]
    }
   ],
   "source": [
    "tuple1[1][0] =222\n",
    "print(tuple1)"
   ]
  },
  {
   "cell_type": "code",
   "execution_count": 63,
   "metadata": {},
   "outputs": [
    {
     "name": "stdout",
     "output_type": "stream",
     "text": [
      "{(1, 2, 4): 'ValueSet1', (3, 5, 7): 'ValueSet2'}\n"
     ]
    }
   ],
   "source": [
    "Adict = {(1,2,4):\"ValueSet1\",(3,5,7):\"ValueSet2\"}\n",
    "print(Adict)"
   ]
  },
  {
   "cell_type": "code",
   "execution_count": 74,
   "metadata": {},
   "outputs": [
    {
     "name": "stdout",
     "output_type": "stream",
     "text": [
      "[13, 56, 17, [87], {45: 67}]\n"
     ]
    }
   ],
   "source": [
    "l=[13,56,17]\n",
    "l.append([87])\n",
    "l.extend([{45:67}])\n",
    "print(l)\n"
   ]
  },
  {
   "cell_type": "code",
   "execution_count": 88,
   "metadata": {},
   "outputs": [],
   "source": [
    "l1=[{\"country\":{\"Pakistan\":\"islamabad\",\"England\":\"london\"}}]\n",
    "l1[0]=[\"England\"]"
   ]
  },
  {
   "cell_type": "code",
   "execution_count": 21,
   "metadata": {},
   "outputs": [],
   "source": [
    "dict = {\"churail\":\"safia\",\"age\":\"22\",\"education\":\"nill\",\"school\":[{\"paec\",\"foundation\",\"unknown\"},[123]]}"
   ]
  },
  {
   "cell_type": "code",
   "execution_count": 22,
   "metadata": {},
   "outputs": [
    {
     "data": {
      "text/plain": [
       "4"
      ]
     },
     "execution_count": 22,
     "metadata": {},
     "output_type": "execute_result"
    }
   ],
   "source": [
    "len(dict)"
   ]
  },
  {
   "cell_type": "code",
   "execution_count": 23,
   "metadata": {},
   "outputs": [
    {
     "data": {
      "text/plain": [
       "[123]"
      ]
     },
     "execution_count": 23,
     "metadata": {},
     "output_type": "execute_result"
    }
   ],
   "source": [
    "dict[\"school\"][1]"
   ]
  },
  {
   "cell_type": "code",
   "execution_count": 24,
   "metadata": {},
   "outputs": [
    {
     "data": {
      "text/plain": [
       "0"
      ]
     },
     "execution_count": 24,
     "metadata": {},
     "output_type": "execute_result"
    }
   ],
   "source": [
    "a= 16\n",
    "b= 15\n",
    "a%b//a"
   ]
  },
  {
   "cell_type": "code",
   "execution_count": 25,
   "metadata": {},
   "outputs": [
    {
     "name": "stdout",
     "output_type": "stream",
     "text": [
      "{'Numbers': {1: 56, 3: 7}, 'Letter': {4: 'B'}}\n"
     ]
    }
   ],
   "source": [
    "numbers={}\n",
    "letters = {}\n",
    "comb={}\n",
    "numbers[1]=56\n",
    "numbers[3]=7\n",
    "letters[4]='B'\n",
    "comb['Numbers']= numbers\n",
    "comb['Letter']= letters\n",
    "print(comb)"
   ]
  },
  {
   "cell_type": "code",
   "execution_count": 26,
   "metadata": {},
   "outputs": [
    {
     "data": {
      "text/plain": [
       "False"
      ]
     },
     "execution_count": 26,
     "metadata": {},
     "output_type": "execute_result"
    }
   ],
   "source": [
    "list1=[11,2,23]\n",
    "list2=[11,2,2]\n",
    "list1 < list2"
   ]
  },
  {
   "cell_type": "code",
   "execution_count": 5,
   "metadata": {},
   "outputs": [
    {
     "ename": "SyntaxError",
     "evalue": "invalid syntax (<ipython-input-5-dce765381663>, line 1)",
     "output_type": "error",
     "traceback": [
      "\u001b[1;36m  File \u001b[1;32m\"<ipython-input-5-dce765381663>\"\u001b[1;36m, line \u001b[1;32m1\u001b[0m\n\u001b[1;33m    a={1,\"a\",2\"B\"}\u001b[0m\n\u001b[1;37m                ^\u001b[0m\n\u001b[1;31mSyntaxError\u001b[0m\u001b[1;31m:\u001b[0m invalid syntax\n"
     ]
    }
   ],
   "source": [
    "a={1,\"a\",2\"B\"}\n",
    "type(a)"
   ]
  },
  {
   "cell_type": "code",
   "execution_count": 4,
   "metadata": {},
   "outputs": [
    {
     "data": {
      "text/plain": [
       "type"
      ]
     },
     "execution_count": 4,
     "metadata": {},
     "output_type": "execute_result"
    }
   ],
   "source": [
    "dict([[1,\"a\"],[2,\"b\"]])\n",
    "type(dict)"
   ]
  },
  {
   "cell_type": "code",
   "execution_count": 36,
   "metadata": {},
   "outputs": [
    {
     "data": {
      "text/plain": [
       "[1, 3, 2, 1, 3, 2]"
      ]
     },
     "execution_count": 36,
     "metadata": {},
     "output_type": "execute_result"
    }
   ],
   "source": [
    "list1= [1,3,2]\n",
    "list1*2"
   ]
  },
  {
   "cell_type": "code",
   "execution_count": 10,
   "metadata": {},
   "outputs": [
    {
     "name": "stdout",
     "output_type": "stream",
     "text": [
      "Enter The Amount10000\n",
      "Enter the Rate Of Interset%7.0\n",
      "Enter Number Of Years1\n",
      "the amount of 10000 Rate of interset 7.0% Per 1.0Years and the total interset amount is 700.0\n"
     ]
    }
   ],
   "source": [
    "amount = int(input(\"Enter The Amount\"))\n",
    "interset_rate= float(input(\"Enter the Rate Of Interset%\"))\n",
    "years = float(input(\"Enter Number Of Years\"))\n",
    "formula = (amount*interset_rate*years)/100\n",
    "print(f\"the amount of {amount} Rate of interset {interset_rate}% Per {years}Years and the total interset amount is {formula}\" )\n"
   ]
  },
  {
   "cell_type": "code",
   "execution_count": 23,
   "metadata": {},
   "outputs": [
    {
     "name": "stdout",
     "output_type": "stream",
     "text": [
      "enter height in foot:5.63\n",
      "the height in foot is 5.63ft and the height in centimeter is 171.6024cm.\n"
     ]
    }
   ],
   "source": [
    "converter_height=float(input(\"enter height in foot:\"))\n",
    "x= 30.48\n",
    "formula =(x*converter_height)\n",
    "print(f\"the height in foot is {converter_height}ft and the height in centimeter is {formula}cm.\")\n",
    "\n"
   ]
  },
  {
   "cell_type": "code",
   "execution_count": 1,
   "metadata": {},
   "outputs": [
    {
     "name": "stdout",
     "output_type": "stream",
     "text": [
      "Enter Weight In Kilograms:55\n",
      "Enter Height In Cm:167\n",
      "Your Bmi Is : 20\n",
      "You Are Normal\n"
     ]
    }
   ],
   "source": [
    "# Bmi calcutaor\n",
    "weight=float(input(\"enter weight in kilograms:\".title()))\n",
    "height=float(input(\"enter height in cm:\".title()))\n",
    "meter= height/100\n",
    "formula= round(weight/(meter*meter))\n",
    "print(f\"your BMI is : {formula}\".title() )\n",
    "if formula < 18.5:\n",
    "    print(\"you are under weight\".title())\n",
    "elif formula >= 18.5 and formula <= 25.5:\n",
    "    print(\"you are normal\".title())\n",
    "elif formula >= 25.0 and formula <= 29.9:\n",
    "    print(\"you are alarming conditions\".title())\n",
    "else:\n",
    "    print(\"you are unhealthy\".title())\n",
    "    \n"
   ]
  },
  {
   "cell_type": "code",
   "execution_count": 16,
   "metadata": {},
   "outputs": [
    {
     "name": "stdout",
     "output_type": "stream",
     "text": [
      "Enter The Number5\n",
      "The Sum Of Positive Integers Is :15\n"
     ]
    }
   ],
   "source": [
    "# sum of n postive integers\n",
    "n= int(input(\"Enter The Number\"))\n",
    "_n_formula= (n*(n+1))//2\n",
    "print(f\"The Sum Of Positive Integers Is :{_n_formula}\")"
   ]
  },
  {
   "cell_type": "code",
   "execution_count": 7,
   "metadata": {},
   "outputs": [
    {
     "name": "stdout",
     "output_type": "stream",
     "text": [
      "enter a number21\n",
      "the sum of integers is :3\n"
     ]
    }
   ],
   "source": [
    "# digits sum of a number\n",
    "number = input(\"enter a number\")\n",
    "sum_of_digits = 0\n",
    "for digit in (number):\n",
    "    \n",
    "    sum_of_digits +=int(digit)\n",
    "print(f\"the sum of integers is :{sum_of_digits}\")\n"
   ]
  },
  {
   "cell_type": "code",
   "execution_count": 3,
   "metadata": {},
   "outputs": [
    {
     "name": "stdout",
     "output_type": "stream",
     "text": [
      "enter a number1234\n",
      "the sum of integers is :10\n"
     ]
    }
   ],
   "source": [
    "# digits sum of a number\n",
    "number = input(\"enter a number\")\n",
    "sum_of_digits = 0\n",
    "for digit in (number):\n",
    "    \n",
    "    sum_of_digits +=int(digit)\n",
    "print(f\"the sum of integers is :{sum_of_digits}\")\n"
   ]
  },
  {
   "cell_type": "code",
   "execution_count": 13,
   "metadata": {},
   "outputs": [
    {
     "name": "stdout",
     "output_type": "stream",
     "text": [
      "Input a binary number: 0001\n",
      "The decimal value of the number is 1\n"
     ]
    }
   ],
   "source": [
    "# binary to decimal converter\n",
    "b_num = list(input(\"Input a binary number: \"))\n",
    "value = 0\n",
    "\n",
    "for i in range(len(b_num)):\n",
    "\tdigit = b_num.pop()\n",
    "\tif digit == '1':\n",
    "\t\tvalue = value + pow(2, i)\n",
    "print(\"The decimal value of the number is\", value)\n"
   ]
  },
  {
   "cell_type": "code",
   "execution_count": 9,
   "metadata": {},
   "outputs": [
    {
     "name": "stdout",
     "output_type": "stream",
     "text": [
      "Enter a textsadaqat ali\n",
      "vowel 5\n",
      "constant 6\n"
     ]
    }
   ],
   "source": [
    "text = input(\"Enter a text\")\n",
    "count=0\n",
    "constant = 0\n",
    "for i in text:\n",
    "    if (i ==\"a\" or i ==\"A\" or i ==\"e\" or  i ==\"E\" or i ==\"i\" or i ==\"I\" or i ==\"o\" or i ==\"O\" or i ==\"u\" or i ==\"u\"):\n",
    "        count+=1\n",
    "    else:\n",
    "        constant+=1\n",
    "print(f\"vowel {count}\")\n",
    "print(f\"constant {constant}\")\n",
    "    \n",
    "    "
   ]
  },
  {
   "cell_type": "code",
   "execution_count": null,
   "metadata": {},
   "outputs": [],
   "source": []
  }
 ],
 "metadata": {
  "kernelspec": {
   "display_name": "Python 3",
   "language": "python",
   "name": "python3"
  },
  "language_info": {
   "codemirror_mode": {
    "name": "ipython",
    "version": 3
   },
   "file_extension": ".py",
   "mimetype": "text/x-python",
   "name": "python",
   "nbconvert_exporter": "python",
   "pygments_lexer": "ipython3",
   "version": "3.7.6"
  }
 },
 "nbformat": 4,
 "nbformat_minor": 4
}
