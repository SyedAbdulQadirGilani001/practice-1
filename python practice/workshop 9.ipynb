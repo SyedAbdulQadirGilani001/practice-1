{
 "cells": [
  {
   "cell_type": "raw",
   "metadata": {},
   "source": [
    "# topics:\n",
    " .function decalartion\n",
    "  .  function body\n",
    "  .  function calling\n",
    "    \n",
    "       user defined function\n",
    "       same as below\n",
    "       pre defined function\n",
    "       return function \n",
    "       non return function\n",
    "        default action\n",
    "        required arguments\n",
    "        optional arguments\n",
    "       "
   ]
  },
  {
   "cell_type": "markdown",
   "metadata": {},
   "source": [
    "# why we need of function in programming?"
   ]
  },
  {
   "cell_type": "code",
   "execution_count": 8,
   "metadata": {},
   "outputs": [
    {
     "name": "stdout",
     "output_type": "stream",
     "text": [
      "'\n",
      "name = sadaqat\n",
      "fname = fname\n",
      "course = AI\n",
      "timing = 10:30\n",
      "\n"
     ]
    }
   ],
   "source": [
    "card = ''''\n",
    "name = {}\n",
    "fname = {}\n",
    "course = {}\n",
    "timing = {}\n",
    "'''.format(\"sadaqat\",\"fname\",\"AI\",\"10:30\")\n",
    "print(card)"
   ]
  },
  {
   "cell_type": "code",
   "execution_count": 9,
   "metadata": {},
   "outputs": [
    {
     "name": "stdout",
     "output_type": "stream",
     "text": [
      "pakistan zindaabad\n",
      "we are pakistani\n"
     ]
    }
   ],
   "source": [
    "# default function parameter less\n",
    "def abc():# function decelartion\n",
    "    print(\"pakistan zindaabad\") # function body\n",
    "    print(\"we are pakistani\")\n",
    "    \n",
    "abc()# function calling"
   ]
  },
  {
   "cell_type": "markdown",
   "metadata": {},
   "source": [
    "# Return vs Non Return functions"
   ]
  },
  {
   "cell_type": "code",
   "execution_count": 11,
   "metadata": {},
   "outputs": [
    {
     "name": "stdout",
     "output_type": "stream",
     "text": [
      "pakistan\n",
      "None\n"
     ]
    }
   ],
   "source": [
    "a = print(\"pakistan\") # non return function\n",
    "print(a)"
   ]
  },
  {
   "cell_type": "code",
   "execution_count": 12,
   "metadata": {},
   "outputs": [
    {
     "name": "stdout",
     "output_type": "stream",
     "text": [
      "enter any numberpakistan\n",
      "pakistan\n"
     ]
    }
   ],
   "source": [
    "a = input(\"enter any number\") # return function\n",
    "print(a)"
   ]
  },
  {
   "cell_type": "code",
   "execution_count": 13,
   "metadata": {},
   "outputs": [
    {
     "data": {
      "text/plain": [
       "int"
      ]
     },
     "execution_count": 13,
     "metadata": {},
     "output_type": "execute_result"
    }
   ],
   "source": [
    "a = int(\"27\")\n",
    "type(a)"
   ]
  },
  {
   "cell_type": "code",
   "execution_count": 14,
   "metadata": {},
   "outputs": [
    {
     "name": "stdout",
     "output_type": "stream",
     "text": [
      "pakistan zindaabad\n",
      "we are pakistani\n",
      "None\n"
     ]
    }
   ],
   "source": [
    "a = abc()\n",
    "print(a)"
   ]
  },
  {
   "cell_type": "markdown",
   "metadata": {},
   "source": [
    "# # required Arguments Functions"
   ]
  },
  {
   "cell_type": "code",
   "execution_count": 2,
   "metadata": {},
   "outputs": [],
   "source": [
    "def add_two_numbers(a,b):\n",
    "    return  a + b"
   ]
  },
  {
   "cell_type": "code",
   "execution_count": 3,
   "metadata": {},
   "outputs": [
    {
     "name": "stdout",
     "output_type": "stream",
     "text": [
      "5\n",
      "7\n"
     ]
    }
   ],
   "source": [
    "a = add_two_numbers(2,3) # return function\n",
    "print(a)\n",
    "\n",
    "a = add_two_numbers(4,3) # return function\n",
    "print(a)"
   ]
  },
  {
   "cell_type": "code",
   "execution_count": 4,
   "metadata": {},
   "outputs": [
    {
     "ename": "TypeError",
     "evalue": "add_two_numbers() missing 1 required positional argument: 'b'",
     "output_type": "error",
     "traceback": [
      "\u001b[1;31m---------------------------------------------------------------------------\u001b[0m",
      "\u001b[1;31mTypeError\u001b[0m                                 Traceback (most recent call last)",
      "\u001b[1;32m<ipython-input-4-95dfcb7f4348>\u001b[0m in \u001b[0;36m<module>\u001b[1;34m\u001b[0m\n\u001b[1;32m----> 1\u001b[1;33m \u001b[0madd_two_numbers\u001b[0m\u001b[1;33m(\u001b[0m\u001b[1;36m2\u001b[0m\u001b[1;33m)\u001b[0m\u001b[1;33m\u001b[0m\u001b[1;33m\u001b[0m\u001b[0m\n\u001b[0m",
      "\u001b[1;31mTypeError\u001b[0m: add_two_numbers() missing 1 required positional argument: 'b'"
     ]
    }
   ],
   "source": [
    "add_two_numbers(2)"
   ]
  },
  {
   "cell_type": "code",
   "execution_count": 5,
   "metadata": {},
   "outputs": [
    {
     "data": {
      "text/plain": [
       "13"
      ]
     },
     "execution_count": 5,
     "metadata": {},
     "output_type": "execute_result"
    }
   ],
   "source": [
    "# positional arguments\n",
    "add_two_numbers(6,7)"
   ]
  },
  {
   "cell_type": "code",
   "execution_count": 7,
   "metadata": {},
   "outputs": [
    {
     "name": "stdout",
     "output_type": "stream",
     "text": [
      "4\n",
      "-7\n"
     ]
    }
   ],
   "source": [
    "def sub(n1 , n2):\n",
    "    return n1 - n2\n",
    "print(sub(7,3))\n",
    "print(sub(5,12))"
   ]
  },
  {
   "cell_type": "markdown",
   "metadata": {},
   "source": [
    "# passing by key word arguments"
   ]
  },
  {
   "cell_type": "code",
   "execution_count": 8,
   "metadata": {},
   "outputs": [
    {
     "name": "stdout",
     "output_type": "stream",
     "text": [
      "-4\n",
      "7\n"
     ]
    }
   ],
   "source": [
    "def sub(n1 , n2):\n",
    "    return n1 - n2\n",
    "print(sub(n2=7,n1 =3))\n",
    "print(sub(n2=5,n1 = 12))"
   ]
  },
  {
   "cell_type": "code",
   "execution_count": 9,
   "metadata": {},
   "outputs": [
    {
     "name": "stdout",
     "output_type": "stream",
     "text": [
      "\n",
      "    PIAIC Student Card\n",
      "    id = 1\n",
      "    name = sadaqat\n",
      "    fname = liaqat\n",
      "    course= AI\n",
      "    \n"
     ]
    }
   ],
   "source": [
    "def card(id,name,fname,course):\n",
    "    return '''\n",
    "    PIAIC Student Card\n",
    "    id = {}\n",
    "    name = {}\n",
    "    fname = {}\n",
    "    course= {}\n",
    "    '''.format(id,name,fname,course)\n",
    "\n",
    "print(card(1,\"sadaqat\",\"liaqat\",\"AI\"))"
   ]
  },
  {
   "cell_type": "code",
   "execution_count": 10,
   "metadata": {},
   "outputs": [
    {
     "name": "stdout",
     "output_type": "stream",
     "text": [
      "\n",
      "    PIAIC Student Card\n",
      "    id = 12\n",
      "    name = sadaqat\n",
      "    fname = liaqat\n",
      "    course= AI\n",
      "    \n"
     ]
    }
   ],
   "source": [
    "print(card(name= \"sadaqat\",id=\"12\",fname = \"liaqat\",course= \"AI\"))"
   ]
  },
  {
   "cell_type": "markdown",
   "metadata": {},
   "source": [
    "# pass positional arguments with list"
   ]
  },
  {
   "cell_type": "code",
   "execution_count": 12,
   "metadata": {},
   "outputs": [],
   "source": [
    "def card(id,name,fname,course):\n",
    "    return '''\n",
    "    PIAIC Student Card\n",
    "    id = {}\n",
    "    name = {}\n",
    "    fname = {}\n",
    "    course= {}\n",
    "    '''.format(id,name,fname,course)\n",
    "  "
   ]
  },
  {
   "cell_type": "code",
   "execution_count": 14,
   "metadata": {},
   "outputs": [
    {
     "name": "stdout",
     "output_type": "stream",
     "text": [
      "\n",
      "    PIAIC Student Card\n",
      "    id = 0\n",
      "    name = asif\n",
      "    fname = abid\n",
      "    course= AI\n",
      "    \n"
     ]
    }
   ],
   "source": [
    "l1= [0,\"asif\",\"abid\",\"AI\"]\n",
    "print(card(*l1))"
   ]
  },
  {
   "cell_type": "markdown",
   "metadata": {},
   "source": [
    "# pass keyword argument with dictionary"
   ]
  },
  {
   "cell_type": "code",
   "execution_count": 17,
   "metadata": {},
   "outputs": [],
   "source": [
    "def card(id,name,fname,course):\n",
    "    return '''\n",
    "    PIAIC Student Card\n",
    "    id = {}\n",
    "    Name = {}\n",
    "    father 's name = {}\n",
    "    Course= {}\n",
    "    '''.format(id,name,fname,course)\n",
    "  "
   ]
  },
  {
   "cell_type": "code",
   "execution_count": 18,
   "metadata": {},
   "outputs": [
    {
     "name": "stdout",
     "output_type": "stream",
     "text": [
      "\n",
      "    PIAIC Student Card\n",
      "    id = 27\n",
      "    Name = sadaqat\n",
      "    father 's name = liaqat\n",
      "    Course= AI\n",
      "    \n"
     ]
    }
   ],
   "source": [
    "dic = {\"name\":\"sadaqat\",\"fname\":\"liaqat\",\"course\":\"AI\",\"id\":27}\n",
    "print(card(**dic))"
   ]
  },
  {
   "cell_type": "markdown",
   "metadata": {},
   "source": [
    "# default arguments value"
   ]
  },
  {
   "cell_type": "code",
   "execution_count": 21,
   "metadata": {},
   "outputs": [
    {
     "name": "stdout",
     "output_type": "stream",
     "text": [
      "2 9 0\n"
     ]
    },
    {
     "data": {
      "text/plain": [
       "11"
      ]
     },
     "execution_count": 21,
     "metadata": {},
     "output_type": "execute_result"
    }
   ],
   "source": [
    "def xyz_add(x,y,z=0):\n",
    "    print(x,y,z)\n",
    "    return x+y+z\n",
    "\n",
    "xyz_add(2,9)"
   ]
  },
  {
   "cell_type": "code",
   "execution_count": 22,
   "metadata": {},
   "outputs": [
    {
     "name": "stdout",
     "output_type": "stream",
     "text": [
      "8 20 4\n"
     ]
    },
    {
     "data": {
      "text/plain": [
       "32"
      ]
     },
     "execution_count": 22,
     "metadata": {},
     "output_type": "execute_result"
    }
   ],
   "source": [
    "xyz_add(8,20,4)"
   ]
  },
  {
   "cell_type": "markdown",
   "metadata": {},
   "source": [
    "# create function with unlimited parameters"
   ]
  },
  {
   "cell_type": "code",
   "execution_count": 26,
   "metadata": {},
   "outputs": [
    {
     "data": {
      "text/plain": [
       "1"
      ]
     },
     "execution_count": 26,
     "metadata": {},
     "output_type": "execute_result"
    }
   ],
   "source": [
    "def add_numbers(n1,*l1):\n",
    "    return n1 + sum(l1)\n",
    "add_numbers(1)"
   ]
  },
  {
   "cell_type": "code",
   "execution_count": 27,
   "metadata": {},
   "outputs": [
    {
     "data": {
      "text/plain": [
       "6"
      ]
     },
     "execution_count": 27,
     "metadata": {},
     "output_type": "execute_result"
    }
   ],
   "source": [
    "add_numbers(2,4)"
   ]
  },
  {
   "cell_type": "code",
   "execution_count": 28,
   "metadata": {},
   "outputs": [
    {
     "data": {
      "text/plain": [
       "81"
      ]
     },
     "execution_count": 28,
     "metadata": {},
     "output_type": "execute_result"
    }
   ],
   "source": [
    " add_numbers(2,3,4,5,67)"
   ]
  },
  {
   "cell_type": "code",
   "execution_count": 40,
   "metadata": {},
   "outputs": [
    {
     "data": {
      "text/plain": [
       "13"
      ]
     },
     "execution_count": 40,
     "metadata": {},
     "output_type": "execute_result"
    }
   ],
   "source": [
    "def add_key_numbers(n1,**p):\n",
    "    l1=[]\n",
    "    l1.append(n1)\n",
    "    for key,value in p.items():\n",
    "        l1.append(p[key])\n",
    "        return sum(l1)\n",
    "add_key_numbers(n1=4,n2=9,n3=8,n4=7)"
   ]
  },
  {
   "cell_type": "code",
   "execution_count": null,
   "metadata": {},
   "outputs": [],
   "source": []
  }
 ],
 "metadata": {
  "kernelspec": {
   "display_name": "Python 3",
   "language": "python",
   "name": "python3"
  },
  "language_info": {
   "codemirror_mode": {
    "name": "ipython",
    "version": 3
   },
   "file_extension": ".py",
   "mimetype": "text/x-python",
   "name": "python",
   "nbconvert_exporter": "python",
   "pygments_lexer": "ipython3",
   "version": "3.7.6"
  }
 },
 "nbformat": 4,
 "nbformat_minor": 4
}
