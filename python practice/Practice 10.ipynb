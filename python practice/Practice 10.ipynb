{
 "cells": [
  {
   "cell_type": "code",
   "execution_count": 14,
   "metadata": {
    "scrolled": true
   },
   "outputs": [
    {
     "name": "stdout",
     "output_type": "stream",
     "text": [
      "2\n"
     ]
    }
   ],
   "source": [
    "def add():\n",
    "    print(5//2)\n",
    "    \n",
    "add()\n",
    "    "
   ]
  },
  {
   "cell_type": "code",
   "execution_count": 1,
   "metadata": {},
   "outputs": [
    {
     "ename": "TypeError",
     "evalue": "can only concatenate str (not \"tuple\") to str",
     "output_type": "error",
     "traceback": [
      "\u001b[1;31m---------------------------------------------------------------------------\u001b[0m",
      "\u001b[1;31mTypeError\u001b[0m                                 Traceback (most recent call last)",
      "\u001b[1;32m<ipython-input-1-6b09b31825ba>\u001b[0m in \u001b[0;36m<module>\u001b[1;34m\u001b[0m\n\u001b[0;32m      3\u001b[0m     \u001b[1;32mfor\u001b[0m \u001b[0mdigits\u001b[0m \u001b[1;32min\u001b[0m \u001b[0mlist\u001b[0m\u001b[1;33m:\u001b[0m\u001b[1;33m\u001b[0m\u001b[1;33m\u001b[0m\u001b[0m\n\u001b[0;32m      4\u001b[0m         \u001b[0mdigits\u001b[0m \u001b[1;33m+=\u001b[0m\u001b[1;33m(\u001b[0m\u001b[0mlist\u001b[0m\u001b[1;33m)\u001b[0m\u001b[1;33m\u001b[0m\u001b[1;33m\u001b[0m\u001b[0m\n\u001b[1;32m----> 5\u001b[1;33m \u001b[0madd\u001b[0m\u001b[1;33m(\u001b[0m\u001b[1;33m)\u001b[0m\u001b[1;33m\u001b[0m\u001b[1;33m\u001b[0m\u001b[0m\n\u001b[0m\u001b[0;32m      6\u001b[0m \u001b[1;33m\u001b[0m\u001b[0m\n\u001b[0;32m      7\u001b[0m \u001b[1;33m\u001b[0m\u001b[0m\n",
      "\u001b[1;32m<ipython-input-1-6b09b31825ba>\u001b[0m in \u001b[0;36madd\u001b[1;34m()\u001b[0m\n\u001b[0;32m      2\u001b[0m \u001b[1;32mdef\u001b[0m \u001b[0madd\u001b[0m\u001b[1;33m(\u001b[0m\u001b[1;33m)\u001b[0m\u001b[1;33m:\u001b[0m\u001b[1;33m\u001b[0m\u001b[1;33m\u001b[0m\u001b[0m\n\u001b[0;32m      3\u001b[0m     \u001b[1;32mfor\u001b[0m \u001b[0mdigits\u001b[0m \u001b[1;32min\u001b[0m \u001b[0mlist\u001b[0m\u001b[1;33m:\u001b[0m\u001b[1;33m\u001b[0m\u001b[1;33m\u001b[0m\u001b[0m\n\u001b[1;32m----> 4\u001b[1;33m         \u001b[0mdigits\u001b[0m \u001b[1;33m+=\u001b[0m\u001b[1;33m(\u001b[0m\u001b[0mlist\u001b[0m\u001b[1;33m)\u001b[0m\u001b[1;33m\u001b[0m\u001b[1;33m\u001b[0m\u001b[0m\n\u001b[0m\u001b[0;32m      5\u001b[0m \u001b[0madd\u001b[0m\u001b[1;33m(\u001b[0m\u001b[1;33m)\u001b[0m\u001b[1;33m\u001b[0m\u001b[1;33m\u001b[0m\u001b[0m\n\u001b[0;32m      6\u001b[0m \u001b[1;33m\u001b[0m\u001b[0m\n",
      "\u001b[1;31mTypeError\u001b[0m: can only concatenate str (not \"tuple\") to str"
     ]
    }
   ],
   "source": [
    "list = \"1\",\"2\",\"3\",\"4\",\"5\",\"6\",\"7\"\n",
    "def add():\n",
    "    for digits in list:\n",
    "        digits +=(list)\n",
    "add()\n",
    "    \n",
    "    \n",
    "    "
   ]
  },
  {
   "cell_type": "code",
   "execution_count": null,
   "metadata": {},
   "outputs": [],
   "source": [
    "def add():\n",
    "    print(2*7+8)\n",
    "\n",
    "add()"
   ]
  },
  {
   "cell_type": "code",
   "execution_count": null,
   "metadata": {},
   "outputs": [],
   "source": [
    "def max_two(x,y):\n",
    "    if x > y:\n",
    "        return x\n",
    "    print(max_two(2,1))\n",
    "    "
   ]
  },
  {
   "cell_type": "code",
   "execution_count": null,
   "metadata": {},
   "outputs": [],
   "source": [
    "def max(x,y,z):\n",
    "    if x>y and x>z:\n",
    "        return x\n",
    "    elif y>x and y >z:\n",
    "        return y\n",
    "    else:\n",
    "        return z\n",
    "    \n",
    "print(max(5,6,7))\n",
    "        "
   ]
  },
  {
   "cell_type": "code",
   "execution_count": null,
   "metadata": {},
   "outputs": [],
   "source": [
    "list = []\n",
    "number = input(\"enter list number\").split() \n",
    "list.append(int(number))    "
   ]
  },
  {
   "cell_type": "code",
   "execution_count": null,
   "metadata": {},
   "outputs": [],
   "source": [
    "def biodata(name,age):\n",
    "    print(name,age)"
   ]
  },
  {
   "cell_type": "code",
   "execution_count": null,
   "metadata": {},
   "outputs": [],
   "source": [
    "biodata(\"sadaqat\",29)"
   ]
  },
  {
   "cell_type": "code",
   "execution_count": null,
   "metadata": {},
   "outputs": [],
   "source": [
    "def func1(a,c,b=\" \"):\n",
    "    print(a,b,c)\n",
    "    \n",
    "func1(20,30,40)"
   ]
  },
  {
   "cell_type": "code",
   "execution_count": null,
   "metadata": {},
   "outputs": [],
   "source": [
    "func1(50,60)"
   ]
  },
  {
   "cell_type": "code",
   "execution_count": null,
   "metadata": {},
   "outputs": [],
   "source": [
    "def func2(*arg):\n",
    "    for i in arg:\n",
    "        print(i, end=\",\")\n",
    "func2(10,11,12,13)"
   ]
  },
  {
   "cell_type": "code",
   "execution_count": null,
   "metadata": {},
   "outputs": [],
   "source": [
    "func2(\"sadaqat\",\"ali\",29)"
   ]
  },
  {
   "cell_type": "code",
   "execution_count": null,
   "metadata": {},
   "outputs": [],
   "source": [
    "def calculation(a,b):\n",
    "    add = a + b\n",
    "    sub = b - a\n",
    "    print(add,sub)\n",
    "    return add,sub\n",
    "\n",
    "calculation(2,3)"
   ]
  },
  {
   "cell_type": "code",
   "execution_count": null,
   "metadata": {},
   "outputs": [],
   "source": [
    "calculation(7,7)"
   ]
  },
  {
   "cell_type": "code",
   "execution_count": null,
   "metadata": {},
   "outputs": [],
   "source": [
    "def employ_data(name,salary):\n",
    "    print(name,salary)\n",
    "    return salary\n",
    "employ_data(\"Benn\",9000)"
   ]
  },
  {
   "cell_type": "code",
   "execution_count": null,
   "metadata": {},
   "outputs": [],
   "source": [
    "def caluclate(a,b):\n",
    "    def add(a,b):\n",
    "        return a + b\n",
    "    aik_or_variable = add(a,b)\n",
    "    \n",
    "    return aik_or_variable +5\n",
    "\n",
    "caluclate(3,4)"
   ]
  },
  {
   "cell_type": "code",
   "execution_count": null,
   "metadata": {},
   "outputs": [],
   "source": [
    "def displayname(name,age,Class):\n",
    "    print(name,Class,age)\n",
    "    \n",
    "show_name = displayname\n",
    "\n",
    "show_name(\"ammar\",16,'10th')"
   ]
  },
  {
   "cell_type": "code",
   "execution_count": null,
   "metadata": {},
   "outputs": [],
   "source": [
    "show_name(\"monkey\",12,\"7th\")"
   ]
  },
  {
   "cell_type": "code",
   "execution_count": null,
   "metadata": {},
   "outputs": [],
   "source": [
    "list = []\n",
    "def evenlist():\n",
    "    for i in range(4,30,2):\n",
    "        list.append(i)\n",
    "        print(list,end=\" \")\n",
    "\n",
    "        "
   ]
  },
  {
   "cell_type": "code",
   "execution_count": null,
   "metadata": {},
   "outputs": [],
   "source": [
    "evenlist()"
   ]
  },
  {
   "cell_type": "code",
   "execution_count": null,
   "metadata": {},
   "outputs": [],
   "source": [
    "list = []\n",
    "for i in range (4,30,2):\n",
    "    list.append(i)\n"
   ]
  },
  {
   "cell_type": "code",
   "execution_count": null,
   "metadata": {},
   "outputs": [],
   "source": [
    "list"
   ]
  },
  {
   "cell_type": "code",
   "execution_count": null,
   "metadata": {},
   "outputs": [],
   "source": [
    "print(max(list))"
   ]
  },
  {
   "cell_type": "code",
   "execution_count": null,
   "metadata": {},
   "outputs": [],
   "source": [
    "list = [2,3,4,5,6,7,8,9,10]\n",
    "print(\"largest nbr is :\",list[-1])"
   ]
  },
  {
   "cell_type": "code",
   "execution_count": null,
   "metadata": {},
   "outputs": [],
   "source": [
    "list = [2,3,4,1,7,77,6,55,44,33,32]\n",
    "list.sort(reverse=True)"
   ]
  },
  {
   "cell_type": "code",
   "execution_count": null,
   "metadata": {},
   "outputs": [],
   "source": [
    "print(\"smallest nbr is :\",list[-1])"
   ]
  },
  {
   "cell_type": "code",
   "execution_count": null,
   "metadata": {},
   "outputs": [],
   "source": [
    "list = [99,44,77,777,8888,99999,1010110,4,3,2,1,2,3,0,8,9,7,45,34,23,12,999,]\n",
    "list.sort()\n",
    "print(\"largest Nbr is : \",list[-1])\n",
    "print(\"smallest nbr is :\" ,list[0])"
   ]
  },
  {
   "cell_type": "code",
   "execution_count": 1,
   "metadata": {},
   "outputs": [
    {
     "name": "stdout",
     "output_type": "stream",
     "text": [
      "Input a binary number: 1001\n",
      "The decimal value of the number is 9\n"
     ]
    }
   ],
   "source": [
    "# binary to decimal converter\n",
    "b_num = list(input(\"Input a binary number: \"))\n",
    "value = 0\n",
    "\n",
    "for i in range(len(b_num)):\n",
    "    digit = b_num.pop()\n",
    "    if digit == '1':\n",
    "        value = value + pow(2, i)\n",
    "print(\"The decimal value of the number is\", value)"
   ]
  },
  {
   "cell_type": "code",
   "execution_count": 2,
   "metadata": {},
   "outputs": [
    {
     "name": "stdout",
     "output_type": "stream",
     "text": [
      "input a binary number:1000\n",
      "the decimal value of number is: 8\n"
     ]
    }
   ],
   "source": [
    "c = list(input(\"input a binary number:\"))\n",
    "value = 0\n",
    "\n",
    "for a in range(len(c)):\n",
    "    digit = c.pop()\n",
    "    if digit == '1':\n",
    "        value = value+pow(2,a)\n",
    "print(\"the decimal value of number is:\",value)"
   ]
  },
  {
   "cell_type": "code",
   "execution_count": 3,
   "metadata": {},
   "outputs": [
    {
     "name": "stdout",
     "output_type": "stream",
     "text": [
      "8\n"
     ]
    }
   ],
   "source": [
    "sad = [1,2,3,4,5,6,7,8]\n",
    "print(len(sad))"
   ]
  },
  {
   "cell_type": "code",
   "execution_count": 4,
   "metadata": {},
   "outputs": [
    {
     "name": "stdout",
     "output_type": "stream",
     "text": [
      "2\n"
     ]
    }
   ],
   "source": [
    "print(pow(2,1))"
   ]
  },
  {
   "cell_type": "code",
   "execution_count": 5,
   "metadata": {},
   "outputs": [
    {
     "name": "stdout",
     "output_type": "stream",
     "text": [
      "8\n"
     ]
    }
   ],
   "source": [
    "print(pow(2,3))"
   ]
  },
  {
   "cell_type": "code",
   "execution_count": 6,
   "metadata": {},
   "outputs": [
    {
     "name": "stdout",
     "output_type": "stream",
     "text": [
      "4\n"
     ]
    }
   ],
   "source": [
    "print(pow(2,2))"
   ]
  },
  {
   "cell_type": "code",
   "execution_count": 7,
   "metadata": {},
   "outputs": [
    {
     "name": "stdout",
     "output_type": "stream",
     "text": [
      "2\n"
     ]
    }
   ],
   "source": [
    "print(pow(2,1))"
   ]
  },
  {
   "cell_type": "code",
   "execution_count": 8,
   "metadata": {},
   "outputs": [
    {
     "name": "stdout",
     "output_type": "stream",
     "text": [
      "enter a wordsadaqat @\n",
      "Alphabet Is :7 And Number Is : 0 And The Special Charcateristic Is :2 \n"
     ]
    }
   ],
   "source": [
    "#count alphabet ,number ,and special character\n",
    "pak = input (\"enter a word\")\n",
    "count = 0\n",
    "number = 0\n",
    "special = 0\n",
    "for i in pak:\n",
    "    if i .isalpha():\n",
    "        count+=1\n",
    "    elif i .isdigit():\n",
    "        number+=1\n",
    "    else:\n",
    "        special+=1\n",
    "print(f\"alphabet is :{count} and number is : {number} and the special charcateristic is :{special} \".title())"
   ]
  },
  {
   "cell_type": "code",
   "execution_count": 9,
   "metadata": {},
   "outputs": [
    {
     "data": {
      "text/plain": [
       "True"
      ]
     },
     "execution_count": 9,
     "metadata": {},
     "output_type": "execute_result"
    }
   ],
   "source": [
    "\"pakistan\".isalpha()"
   ]
  },
  {
   "cell_type": "code",
   "execution_count": 10,
   "metadata": {},
   "outputs": [
    {
     "name": "stdout",
     "output_type": "stream",
     "text": [
      "ENTER A WORD :\n",
      " In This Sentecnce , Totlat Alphabet Are :0  , Vowel Are :0 ,Constant Are :0 And Number  : 0 And The Special Charcateristic Are :0 \n"
     ]
    }
   ],
   "source": [
    "pak = input (\"enter a word :\".upper())\n",
    "count = 0\n",
    "number = 0\n",
    "constant=0\n",
    "vowel=0\n",
    "special = 0\n",
    "for i in pak:\n",
    "    if i .isalnum():\n",
    "        if i . isalpha():\n",
    "            count+=1\n",
    "            if i == \"a\" or i == \"A\" or i == \"e\" or i == \"E\" or i == \"i\" or i == \"I\" or i == \"o\" or i == \"O\" or i == \"u\" or i == \"U\":\n",
    "                vowel+=1\n",
    "            else:\n",
    "                constant+=1\n",
    "        elif i . isdigit():\n",
    "            number+=1\n",
    "        else:\n",
    "            print()\n",
    "       \n",
    "    else:\n",
    "        special+=1\n",
    "print(f\" in this sentecnce , totlat alphabet are :{count}  , vowel are :{vowel} ,constant are :{constant} and number  : {number} and the special charcateristic are :{special} \".title())\n"
   ]
  },
  {
   "cell_type": "code",
   "execution_count": 11,
   "metadata": {},
   "outputs": [
    {
     "name": "stdout",
     "output_type": "stream",
     "text": [
      "Enter A Word :sadaqat\n"
     ]
    }
   ],
   "source": [
    "text = input(\"Enter A Word :\")\n",
    "count = 0\n",
    "constant = 0\n",
    "alphabet = 0\n",
    "digit = 0\n",
    "special = 0\n",
    "def test(count,constant):\n",
    "    for i in text:\n",
    "        if (i == \"a\" or i ==\"A\" or  i ==\"e\" or  i ==\"E\" or  i ==\"i\" or  i ==\"I\" or  i ==\"u\" or  i ==\"U\"):\n",
    "            count+=1\n",
    "        else:\n",
    "            constant+=1\n",
    "        print(count,constant)\n",
    "        return count,constant\n",
    "    def test2(alphabet,digit,special):\n",
    "        for i in text:\n",
    "            if i .isalpha():\n",
    "                alphabet+=1\n",
    "            elif i .isdigit():\n",
    "                digit+=1\n",
    "            else:\n",
    "                special+=1\n",
    "            print(alphabet,digit,special)\n"
   ]
  },
  {
   "cell_type": "code",
   "execution_count": 12,
   "metadata": {},
   "outputs": [
    {
     "name": "stdout",
     "output_type": "stream",
     "text": [
      "0 1\n"
     ]
    },
    {
     "data": {
      "text/plain": [
       "(0, 1)"
      ]
     },
     "execution_count": 12,
     "metadata": {},
     "output_type": "execute_result"
    }
   ],
   "source": [
    "test(count,constant)"
   ]
  },
  {
   "cell_type": "code",
   "execution_count": 13,
   "metadata": {},
   "outputs": [
    {
     "name": "stdout",
     "output_type": "stream",
     "text": [
      "0\n"
     ]
    }
   ],
   "source": [
    "print(digit)"
   ]
  },
  {
   "cell_type": "code",
   "execution_count": 15,
   "metadata": {},
   "outputs": [
    {
     "name": "stdout",
     "output_type": "stream",
     "text": [
      "Enter a word or symbol for pattern3\n"
     ]
    },
    {
     "ename": "NameError",
     "evalue": "name 'pat' is not defined",
     "output_type": "error",
     "traceback": [
      "\u001b[1;31m---------------------------------------------------------------------------\u001b[0m",
      "\u001b[1;31mNameError\u001b[0m                                 Traceback (most recent call last)",
      "\u001b[1;32m<ipython-input-15-cff3c1a36c27>\u001b[0m in \u001b[0;36m<module>\u001b[1;34m\u001b[0m\n\u001b[0;32m      1\u001b[0m \u001b[0mpattern\u001b[0m \u001b[1;33m=\u001b[0m \u001b[0minput\u001b[0m\u001b[1;33m(\u001b[0m\u001b[1;34m\"Enter a word or symbol for pattern\"\u001b[0m\u001b[1;33m)\u001b[0m\u001b[1;33m\u001b[0m\u001b[1;33m\u001b[0m\u001b[0m\n\u001b[0;32m      2\u001b[0m \u001b[1;33m\u001b[0m\u001b[0m\n\u001b[1;32m----> 3\u001b[1;33m \u001b[1;32mfor\u001b[0m \u001b[0mrows\u001b[0m \u001b[1;32min\u001b[0m \u001b[0mrange\u001b[0m\u001b[1;33m(\u001b[0m\u001b[0mpat\u001b[0m\u001b[1;33m)\u001b[0m\u001b[1;33m:\u001b[0m\u001b[1;33m\u001b[0m\u001b[1;33m\u001b[0m\u001b[0m\n\u001b[0m\u001b[0;32m      4\u001b[0m     \u001b[0mprint\u001b[0m\u001b[1;33m(\u001b[0m\u001b[0mpattern\u001b[0m\u001b[1;33m)\u001b[0m\u001b[1;33m\u001b[0m\u001b[1;33m\u001b[0m\u001b[0m\n",
      "\u001b[1;31mNameError\u001b[0m: name 'pat' is not defined"
     ]
    }
   ],
   "source": [
    "pattern = input(\"Enter a word or symbol for pattern\")\n",
    "\n",
    "for rows in range(pat):\n",
    "    print(pattern)\n"
   ]
  },
  {
   "cell_type": "code",
   "execution_count": 16,
   "metadata": {},
   "outputs": [
    {
     "data": {
      "text/plain": [
       "True"
      ]
     },
     "execution_count": 16,
     "metadata": {},
     "output_type": "execute_result"
    }
   ],
   "source": [
    "\"pakistan123\".isalnum()"
   ]
  },
  {
   "cell_type": "code",
   "execution_count": 17,
   "metadata": {},
   "outputs": [
    {
     "name": "stdout",
     "output_type": "stream",
     "text": [
      "enter row  for pattern3\n",
      "*\n",
      "**\n",
      "***\n",
      "***\n",
      "**\n",
      "*\n"
     ]
    }
   ],
   "source": [
    "row = int(input(\"enter row  for pattern\"))\n",
    "\n",
    "for row in range(1,row+1):\n",
    "    for column in range(1,row+1):\n",
    "        print(\"*\",end= \"\")\n",
    "    print()\n",
    "for row in range(row+1,1,-1):\n",
    "    for column in range(row,1,-1):\n",
    "        print(\"*\",end=\"\")\n",
    "    print()"
   ]
  },
  {
   "cell_type": "code",
   "execution_count": 18,
   "metadata": {},
   "outputs": [
    {
     "name": "stdout",
     "output_type": "stream",
     "text": [
      "enter row  for pattern4\n",
      "************\n",
      "***********\n",
      "**********\n",
      "*********\n",
      "**\n",
      "*\n"
     ]
    }
   ],
   "source": [
    "row = int(input(\"enter row  for pattern\"))\n",
    "\n",
    "for row in range(row+1,1,-1):\n",
    "    for column in range(1,row+8):\n",
    "        print(\"*\",end= \"\")\n",
    "    print()\n",
    "for row in range(row+1,1,-1):\n",
    "    for column in range(row,1,-1):\n",
    "        print(\"*\",end=\"\")\n",
    "    print()"
   ]
  },
  {
   "cell_type": "code",
   "execution_count": 19,
   "metadata": {},
   "outputs": [],
   "source": [
    "class student():\n",
    "    def __init__(his,rollnumber,age,course,fees,semester):\n",
    "        his.rollnumber= rollnumber\n",
    "        his.age=age\n",
    "        his.course = course\n",
    "        his.fees= fees\n",
    "        his.semester= semester\n",
    "        his.marks= \"70\"\n",
    "    def detail(his):\n",
    "        print(f\"the roll number of student is ; {his.rollnumber}\")\n",
    "        print(f\"student age is {his.age}\")\n",
    "        print(f\"student enrollrd in {his.course}\")\n",
    "        print(f\"his fees is {his.fees}\")\n",
    "        print(f\"his semester is {his.semester}\")\n",
    "    def data(his):\n",
    "        print(f\"the roll number of student is ; {his.rollnumber}student age is {his.age}student enrollrd in {his.course}his semester is {his.semester}his fess is {his.fees}\")\n",
    "    def totalmarks(his,obtainedmarks):\n",
    "        his.marks=obtainedmarks\n",
    "    def getmarks(his):\n",
    "        print(f\"total obtained marks is {his.marks}\")\n"
   ]
  },
  {
   "cell_type": "code",
   "execution_count": 20,
   "metadata": {},
   "outputs": [],
   "source": [
    "student1= student(\"piaic001\",29,\"AI\",\"nill\",\"First\")\n",
    "student2= student(\"piaic002\",28,\"AI\",\"nill\",\"First\")\n",
    "student3= student(\"piaic0013\",30,\"AI\",\"nill\",\"First\")"
   ]
  },
  {
   "cell_type": "code",
   "execution_count": 21,
   "metadata": {},
   "outputs": [
    {
     "name": "stdout",
     "output_type": "stream",
     "text": [
      "the roll number of student is ; piaic001\n",
      "student age is 29\n",
      "student enrollrd in AI\n",
      "his fees is nill\n",
      "his semester is First\n"
     ]
    }
   ],
   "source": [
    "student1.detail()"
   ]
  },
  {
   "cell_type": "code",
   "execution_count": 22,
   "metadata": {},
   "outputs": [
    {
     "name": "stdout",
     "output_type": "stream",
     "text": [
      "the roll number of student is ; piaic002\n",
      "student age is 28\n",
      "student enrollrd in AI\n",
      "his fees is nill\n",
      "his semester is First\n"
     ]
    }
   ],
   "source": [
    "student2.detail()"
   ]
  },
  {
   "cell_type": "code",
   "execution_count": 23,
   "metadata": {},
   "outputs": [
    {
     "name": "stdout",
     "output_type": "stream",
     "text": [
      "the roll number of student is ; piaic001student age is 29student enrollrd in AIhis semester is Firsthis fess is nill\n"
     ]
    }
   ],
   "source": [
    "student1.data()"
   ]
  },
  {
   "cell_type": "code",
   "execution_count": 24,
   "metadata": {},
   "outputs": [
    {
     "data": {
      "text/plain": [
       "'70'"
      ]
     },
     "execution_count": 24,
     "metadata": {},
     "output_type": "execute_result"
    }
   ],
   "source": [
    "student1.marks"
   ]
  },
  {
   "cell_type": "code",
   "execution_count": 25,
   "metadata": {},
   "outputs": [
    {
     "data": {
      "text/plain": [
       "'70'"
      ]
     },
     "execution_count": 25,
     "metadata": {},
     "output_type": "execute_result"
    }
   ],
   "source": [
    "student2.marks"
   ]
  },
  {
   "cell_type": "code",
   "execution_count": 26,
   "metadata": {},
   "outputs": [],
   "source": [
    "student2.marks = \"60\""
   ]
  },
  {
   "cell_type": "code",
   "execution_count": 27,
   "metadata": {},
   "outputs": [
    {
     "data": {
      "text/plain": [
       "'60'"
      ]
     },
     "execution_count": 27,
     "metadata": {},
     "output_type": "execute_result"
    }
   ],
   "source": [
    "student2.marks"
   ]
  },
  {
   "cell_type": "code",
   "execution_count": 28,
   "metadata": {},
   "outputs": [
    {
     "name": "stdout",
     "output_type": "stream",
     "text": [
      "total obtained marks is 70\n"
     ]
    }
   ],
   "source": [
    "student1.getmarks()"
   ]
  },
  {
   "cell_type": "code",
   "execution_count": 29,
   "metadata": {},
   "outputs": [
    {
     "name": "stdout",
     "output_type": "stream",
     "text": [
      "total obtained marks is 60\n"
     ]
    }
   ],
   "source": [
    "student2.getmarks()"
   ]
  },
  {
   "cell_type": "code",
   "execution_count": 30,
   "metadata": {},
   "outputs": [],
   "source": [
    "student1.totalmarks(\"90\")"
   ]
  },
  {
   "cell_type": "code",
   "execution_count": 31,
   "metadata": {},
   "outputs": [
    {
     "name": "stdout",
     "output_type": "stream",
     "text": [
      "total obtained marks is 90\n"
     ]
    }
   ],
   "source": [
    "student1.getmarks()"
   ]
  },
  {
   "cell_type": "code",
   "execution_count": null,
   "metadata": {},
   "outputs": [],
   "source": []
  }
 ],
 "metadata": {
  "kernelspec": {
   "display_name": "Python 3",
   "language": "python",
   "name": "python3"
  },
  "language_info": {
   "codemirror_mode": {
    "name": "ipython",
    "version": 3
   },
   "file_extension": ".py",
   "mimetype": "text/x-python",
   "name": "python",
   "nbconvert_exporter": "python",
   "pygments_lexer": "ipython3",
   "version": "3.7.6"
  }
 },
 "nbformat": 4,
 "nbformat_minor": 4
}
