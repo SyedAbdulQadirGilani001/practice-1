{
 "cells": [
  {
   "cell_type": "code",
   "execution_count": 8,
   "metadata": {},
   "outputs": [
    {
     "name": "stdout",
     "output_type": "stream",
     "text": [
      "twinkle,twinkle,little star\n",
      "    how i wonder what you are!\n",
      "       up above the what so high \n",
      "        like a diamond in the sky\n",
      "twinkle,twinkle,little star\n",
      "    how i wonder what you are!\n"
     ]
    }
   ],
   "source": [
    "print(\"twinkle,twinkle,little star\")\n",
    "print(\"    how i wonder what you are!\")\n",
    "print(\"       up above the what so high \")\n",
    "print(\"        like a diamond in the sky\")\n",
    "print(\"twinkle,twinkle,little star\")\n",
    "print(\"    how i wonder what you are!\")"
   ]
  },
  {
   "cell_type": "code",
   "execution_count": 17,
   "metadata": {},
   "outputs": [
    {
     "name": "stdout",
     "output_type": "stream",
     "text": [
      "twinkle,twinkle,little star\n",
      "how i wonder what you are!\n",
      "up above the what so high \n",
      "like a diamond in the sky\n",
      "twinkle,twinkle,little star\n",
      "how i wonder what you are!\n"
     ]
    }
   ],
   "source": [
    "print(\"twinkle,twinkle,little star\",end=\"\\n\")\n",
    "print(\"how i wonder what you are!\")\n",
    "print(\"up above the what so high \")\n",
    "print(\"like a diamond in the sky\")\n",
    "print(\"twinkle,twinkle,little star\")\n",
    "print(\"how i wonder what you are!\")"
   ]
  },
  {
   "cell_type": "code",
   "execution_count": 21,
   "metadata": {},
   "outputs": [
    {
     "ename": "SyntaxError",
     "evalue": "invalid syntax (<ipython-input-21-65afb597ac90>, line 7)",
     "output_type": "error",
     "traceback": [
      "\u001b[1;36m  File \u001b[1;32m\"<ipython-input-21-65afb597ac90>\"\u001b[1;36m, line \u001b[1;32m7\u001b[0m\n\u001b[1;33m    print(a+b+c+d+e+f,sep\"                              \")\u001b[0m\n\u001b[1;37m                                                        ^\u001b[0m\n\u001b[1;31mSyntaxError\u001b[0m\u001b[1;31m:\u001b[0m invalid syntax\n"
     ]
    }
   ],
   "source": [
    "a=\"twinkle,twinkle,little star\"\n",
    "b=\"how i wonder what you are!\"\n",
    "c=\"up above the what so high \"\n",
    "d=\"like a diamond in the sky\"\n",
    "e=\"twinkle,twinkle,little star\"\n",
    "f=\"how i wonder what you are!\"\n",
    "print(a+b+c+d+e+f,sep\"                              \")"
   ]
  },
  {
   "cell_type": "code",
   "execution_count": 23,
   "metadata": {},
   "outputs": [
    {
     "name": "stdout",
     "output_type": "stream",
     "text": [
      "twinkle,twinkle,little star                       how i wonder what you are!\n",
      "how i wonder what you are!\n",
      "up above the what so high \n",
      "like a diamond in the sky\n",
      "twinkle,twinkle,little star\n",
      "how i wonder what you are!\n"
     ]
    }
   ],
   "source": [
    "print(\"twinkle,twinkle,little star\",\"how i wonder what you are!\",sep=\"                       \")\n",
    "print(\"how i wonder what you are!\")\n",
    "print(\"up above the what so high \")\n",
    "print(\"like a diamond in the sky\")\n",
    "print(\"twinkle,twinkle,little star\")\n",
    "print(\"how i wonder what you are!\")"
   ]
  },
  {
   "cell_type": "code",
   "execution_count": null,
   "metadata": {},
   "outputs": [],
   "source": [
    "total=0\n",
    "for a in range(5):\n",
    "    subject=(\"\\nenter your subject\")\n",
    "    marks =int(input(\"enter you marks =\"))\n",
    "    if marks >=80:\n",
    "        print(f\"\\nyour grade of {subject} = A\")\n",
    "elif marks >=70:\n",
    "        print(f\"\\nyour grade of {subject} = B\")\n",
    "elif marks >=60: \n",
    "        print(f\"\\nyour grade of {subject} = C\")\n",
    "elif marks >=50:\n",
    "        print(f\"\\nyour grade of {subject} = D\")\n",
    "else marks >=70:\n",
    "        print(f\"\\nyour grade of {subject} = Fail\")\n",
    "    total = total + marks\n",
    "    "
   ]
  },
  {
   "cell_type": "code",
   "execution_count": null,
   "metadata": {},
   "outputs": [],
   "source": [
    "percentage=(total/500)*100\n",
    "print(f\"\\n percentage = {percentage}\")\n",
    " if perectange>=80:\n",
    "        print(\"/ your final grade = A\")\n",
    "elif perectange>=80:\n",
    "    print(\"/ your final grade = B\")\n",
    "elif perectange>=80:\n",
    "    print(\"/ your final grade = C\")\n",
    "elif perectange>=80:\n",
    "    print(\"/ your final grade = D\")\n",
    "else perectange>=80:\n",
    "    print(\"/ your final grade = Fail\")"
   ]
  },
  {
   "cell_type": "code",
   "execution_count": null,
   "metadata": {},
   "outputs": [],
   "source": [
    "for a in range(5):\n",
    "    subject=(input(\"enter your subject\"))\n",
    "    marks =int(input(\"enter you marks =\"))\n"
   ]
  },
  {
   "cell_type": "code",
   "execution_count": null,
   "metadata": {},
   "outputs": [],
   "source": []
  }
 ],
 "metadata": {
  "kernelspec": {
   "display_name": "Python 3",
   "language": "python",
   "name": "python3"
  },
  "language_info": {
   "codemirror_mode": {
    "name": "ipython",
    "version": 3
   },
   "file_extension": ".py",
   "mimetype": "text/x-python",
   "name": "python",
   "nbconvert_exporter": "python",
   "pygments_lexer": "ipython3",
   "version": "3.7.6"
  }
 },
 "nbformat": 4,
 "nbformat_minor": 4
}
