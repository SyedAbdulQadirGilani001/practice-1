{
 "cells": [
  {
   "cell_type": "code",
   "execution_count": 2,
   "metadata": {},
   "outputs": [],
   "source": [
    "cities = [\"mianwali\",\"kundian\",\"sargodha\",\"khushab\",\"piplan\",\"musakhail\",\"esakhail\",\"chashma\",\"knfc\"]"
   ]
  },
  {
   "cell_type": "code",
   "execution_count": 4,
   "metadata": {},
   "outputs": [
    {
     "name": "stdout",
     "output_type": "stream",
     "text": [
      "the city is under consideration ismianwali\n",
      "the city is under consideration iskundian\n",
      "the city is under consideration issargodha\n",
      "the city is under consideration iskhushab\n",
      "the city is under consideration ispiplan\n",
      "the city is under consideration ismusakhail\n",
      "the city is under consideration isesakhail\n",
      "the city is under consideration ischashma\n",
      "the city is under consideration isknfc\n"
     ]
    }
   ],
   "source": [
    "for city in cities:\n",
    "    print(f\"the city is under consideration is{city}\")"
   ]
  },
  {
   "cell_type": "code",
   "execution_count": 6,
   "metadata": {},
   "outputs": [
    {
     "name": "stdout",
     "output_type": "stream",
     "text": [
      "0\n",
      "1\n",
      "2\n",
      "3\n",
      "4\n",
      "5\n",
      "6\n",
      "7\n",
      "8\n",
      "9\n"
     ]
    }
   ],
   "source": [
    "for numbers in range(10):\n",
    "    print(numbers)"
   ]
  },
  {
   "cell_type": "code",
   "execution_count": 7,
   "metadata": {},
   "outputs": [
    {
     "name": "stdout",
     "output_type": "stream",
     "text": [
      "mianwali\n",
      "kundian\n",
      "sargodha\n",
      "khushab\n",
      "piplan\n",
      "musakhail\n",
      "esakhail\n",
      "chashma\n",
      "knfc\n"
     ]
    }
   ],
   "source": [
    "for char in cities:\n",
    "    print(char)"
   ]
  },
  {
   "cell_type": "code",
   "execution_count": 9,
   "metadata": {},
   "outputs": [
    {
     "name": "stdout",
     "output_type": "stream",
     "text": [
      "mianwali\n",
      "kundian\n",
      "sargodha\n",
      "khushab\n",
      "piplan\n",
      "musakhail\n",
      "esakhail\n",
      "chashma\n",
      "knfc\n"
     ]
    }
   ],
   "source": [
    "for first_alphabet in cities:\n",
    "    print(first_alphabet)"
   ]
  },
  {
   "cell_type": "code",
   "execution_count": 16,
   "metadata": {},
   "outputs": [
    {
     "name": "stdout",
     "output_type": "stream",
     "text": [
      "0\n",
      "1\n",
      "2\n",
      "3\n",
      "4\n",
      "5\n",
      "6\n",
      "7\n",
      "8\n",
      "9\n",
      "10\n",
      "11\n",
      "12\n",
      "13\n",
      "14\n"
     ]
    }
   ],
   "source": [
    "for number in range(15):\n",
    "    print(number)"
   ]
  },
  {
   "cell_type": "code",
   "execution_count": 18,
   "metadata": {},
   "outputs": [
    {
     "name": "stdout",
     "output_type": "stream",
     "text": [
      "0\n"
     ]
    }
   ],
   "source": [
    "for number in range(10):\n",
    "    if number%3 == 1 :\n",
    "        break\n",
    "    print(number)"
   ]
  },
  {
   "cell_type": "code",
   "execution_count": 25,
   "metadata": {},
   "outputs": [
    {
     "name": "stdout",
     "output_type": "stream",
     "text": [
      "0\n",
      "2\n",
      "3\n",
      "5\n",
      "6\n",
      "7\n",
      "8\n",
      "9\n"
     ]
    }
   ],
   "source": [
    "for number in range(10):\n",
    "    if number%3 == 1 and  number != 7:\n",
    "        continue\n",
    "    print(number)"
   ]
  },
  {
   "cell_type": "code",
   "execution_count": 31,
   "metadata": {},
   "outputs": [
    {
     "data": {
      "text/plain": [
       "9"
      ]
     },
     "execution_count": 31,
     "metadata": {},
     "output_type": "execute_result"
    }
   ],
   "source": [
    "number"
   ]
  },
  {
   "cell_type": "code",
   "execution_count": 32,
   "metadata": {},
   "outputs": [
    {
     "data": {
      "text/plain": [
       "['sadaqat', 1234, 54667, 'fdfbvdfgdf', 'gfhtrhtr', 'asdf']"
      ]
     },
     "execution_count": 32,
     "metadata": {},
     "output_type": "execute_result"
    }
   ],
   "source": [
    "pakistan = [\"sadaqat\",1234,54667,\"fdfbvdfgdf\",\"gfhtrhtr\",\"asdf\"]\n",
    "pakistan\n"
   ]
  },
  {
   "cell_type": "code",
   "execution_count": 36,
   "metadata": {},
   "outputs": [
    {
     "data": {
      "text/plain": [
       "[1234, 'fdfbvdfgdf', 'asdf']"
      ]
     },
     "execution_count": 36,
     "metadata": {},
     "output_type": "execute_result"
    }
   ],
   "source": [
    "pakistan[1:7:2]"
   ]
  },
  {
   "cell_type": "code",
   "execution_count": 49,
   "metadata": {},
   "outputs": [
    {
     "name": "stdout",
     "output_type": "stream",
     "text": [
      "2\n",
      "4\n",
      "6\n",
      "8\n",
      "10\n",
      "12\n",
      "14\n",
      "16\n",
      "18\n",
      "20\n"
     ]
    }
   ],
   "source": [
    "for evennum in range(2 , 21 , 2):\n",
    "    print(evennum)"
   ]
  },
  {
   "cell_type": "code",
   "execution_count": 53,
   "metadata": {},
   "outputs": [
    {
     "name": "stdout",
     "output_type": "stream",
     "text": [
      "1\n",
      "3\n",
      "5\n",
      "7\n",
      "9\n",
      "11\n",
      "13\n",
      "15\n",
      "17\n",
      "19\n"
     ]
    }
   ],
   "source": [
    "for  num in range(21) :\n",
    "    if num % 2 == 1:\n",
    "        print(num)"
   ]
  },
  {
   "cell_type": "code",
   "execution_count": 54,
   "metadata": {},
   "outputs": [
    {
     "name": "stdout",
     "output_type": "stream",
     "text": [
      "1\n",
      "3\n",
      "5\n",
      "7\n",
      "9\n",
      "11\n",
      "13\n",
      "15\n",
      "17\n",
      "19\n"
     ]
    }
   ],
   "source": [
    "for num in range (20) :\n",
    "    if num % 2 != 0 :\n",
    "        print(num)"
   ]
  },
  {
   "cell_type": "raw",
   "metadata": {},
   "source": [
    "tablenumber = int(input(\"enter the table number\")\n",
    "for a in range(1,11):\n"
   ]
  },
  {
   "cell_type": "code",
   "execution_count": 58,
   "metadata": {},
   "outputs": [
    {
     "name": "stdout",
     "output_type": "stream",
     "text": [
      "enter the table number2\n",
      "2*1 = 2\n",
      "2*2 = 4\n",
      "2*3 = 6\n",
      "2*4 = 8\n",
      "2*5 = 10\n",
      "2*6 = 12\n",
      "2*7 = 14\n",
      "2*8 = 16\n",
      "2*9 = 18\n",
      "2*10 = 20\n"
     ]
    }
   ],
   "source": [
    "tablenumber = int(input(\"enter the table number\"))\n",
    "for a in range(1,11):\n",
    "                  print(f\"{tablenumber}*{a} = {tablenumber*a}\")"
   ]
  },
  {
   "cell_type": "code",
   "execution_count": 74,
   "metadata": {},
   "outputs": [
    {
     "name": "stdout",
     "output_type": "stream",
     "text": [
      "2*0=0\n",
      "2*1=2\n",
      "2*2=4\n",
      "2*3=6\n",
      "2*4=8\n",
      "2*5=10\n",
      "2*6=12\n",
      "2*7=14\n",
      "2*8=16\n",
      "2*9=18\n",
      "2*10=20\n"
     ]
    }
   ],
   "source": [
    "a=2\n",
    "for a in range(2,3) :\n",
    "    for b in range(11) :\n",
    "        print(f\"{a}*{b}={a*b}\")"
   ]
  },
  {
   "cell_type": "code",
   "execution_count": 83,
   "metadata": {},
   "outputs": [
    {
     "name": "stdout",
     "output_type": "stream",
     "text": [
      "0\n",
      "2\n",
      "4\n",
      "6\n",
      "8\n",
      "10\n",
      "12\n",
      "14\n",
      "16\n",
      "18\n",
      "20\n"
     ]
    }
   ],
   "source": [
    "a=2\n",
    "for a in range(2,3) :\n",
    "    for b in range(11) :\n",
    "        c= a * b \n",
    "        print(c)"
   ]
  },
  {
   "cell_type": "code",
   "execution_count": 119,
   "metadata": {},
   "outputs": [
    {
     "name": "stdout",
     "output_type": "stream",
     "text": [
      "enter range of table4\n",
      "2*1=1\n",
      "2*2=2\n",
      "2*3=3\n",
      "3*1=1\n",
      "3*2=2\n",
      "3*3=3\n"
     ]
    }
   ],
   "source": [
    "table=int(input('enter range of table'))\n",
    "for table in range(2,table):\n",
    "    for a in range(1 , 4):\n",
    "        print(f\"{table}*{a}={a*tables}\")\n",
    "    \n",
    "        \n",
    "    "
   ]
  },
  {
   "cell_type": "code",
   "execution_count": null,
   "metadata": {},
   "outputs": [],
   "source": []
  },
  {
   "cell_type": "code",
   "execution_count": 92,
   "metadata": {},
   "outputs": [
    {
     "name": "stdout",
     "output_type": "stream",
     "text": [
      "enter the table7\n",
      "1*1=1\n",
      "2*1=2\n",
      "3*1=3\n",
      "4*1=4\n",
      "5*1=5\n",
      "6*1=6\n",
      "1*2=2\n",
      "2*2=4\n",
      "3*2=6\n",
      "4*2=8\n",
      "5*2=10\n",
      "1*3=3\n",
      "2*3=6\n",
      "3*3=9\n",
      "4*3=12\n",
      "1*4=4\n",
      "2*4=8\n",
      "3*4=12\n",
      "1*5=5\n",
      "2*5=10\n",
      "1*6=6\n"
     ]
    }
   ],
   "source": [
    "tables = int(input(\"enter the table\"))\n",
    "for a in range  (1,11):\n",
    "    for tables in range(1,tables):\n",
    "        print(f\"{tables}*{a}={tables*a}\")"
   ]
  },
  {
   "cell_type": "code",
   "execution_count": 116,
   "metadata": {},
   "outputs": [
    {
     "name": "stdout",
     "output_type": "stream",
     "text": [
      "enter the range of table4\n",
      "1*4=4\n",
      "2*4=4\n",
      "3*4=4\n",
      "4*4=4\n"
     ]
    }
   ],
   "source": [
    "table = int(input(\"enter the range of table\"))\n",
    "a = 4\n",
    "for table in range(1,table+1):\n",
    "        print(f\"{table}*{a}={tables*a}\")\n"
   ]
  },
  {
   "cell_type": "code",
   "execution_count": 111,
   "metadata": {},
   "outputs": [
    {
     "name": "stdout",
     "output_type": "stream",
     "text": [
      "enter range of table5\n",
      "2*1=1\n",
      "2*2=2\n",
      "2*3=3\n",
      "2*4=4\n",
      "2*5=5\n",
      "2*6=6\n",
      "2*7=7\n",
      "2*8=8\n",
      "2*9=9\n",
      "2*10=10\n",
      "3*1=1\n",
      "3*2=2\n",
      "3*3=3\n",
      "3*4=4\n",
      "3*5=5\n",
      "3*6=6\n",
      "3*7=7\n",
      "3*8=8\n",
      "3*9=9\n",
      "3*10=10\n",
      "4*1=1\n",
      "4*2=2\n",
      "4*3=3\n",
      "4*4=4\n",
      "4*5=5\n",
      "4*6=6\n",
      "4*7=7\n",
      "4*8=8\n",
      "4*9=9\n",
      "4*10=10\n",
      "5*1=1\n",
      "5*2=2\n",
      "5*3=3\n",
      "5*4=4\n",
      "5*5=5\n",
      "5*6=6\n",
      "5*7=7\n",
      "5*8=8\n",
      "5*9=9\n",
      "5*10=10\n"
     ]
    }
   ],
   "source": [
    "table=int(input('enter range of table'))\n",
    "for table in range(2,table + 1):\n",
    "    for a in range(1 , 11):\n",
    "        print(f\"{table}*{a}={a*tables}\")\n",
    "    "
   ]
  },
  {
   "cell_type": "code",
   "execution_count": 113,
   "metadata": {},
   "outputs": [
    {
     "name": "stdout",
     "output_type": "stream",
     "text": [
      "1\n",
      "2\n",
      "3\n",
      "4\n",
      "5\n"
     ]
    }
   ],
   "source": [
    "for table in range(1,table+1):\n",
    "    print(table)"
   ]
  },
  {
   "cell_type": "code",
   "execution_count": null,
   "metadata": {},
   "outputs": [],
   "source": []
  },
  {
   "cell_type": "code",
   "execution_count": null,
   "metadata": {},
   "outputs": [],
   "source": []
  }
 ],
 "metadata": {
  "kernelspec": {
   "display_name": "Python 3",
   "language": "python",
   "name": "python3"
  },
  "language_info": {
   "codemirror_mode": {
    "name": "ipython",
    "version": 3
   },
   "file_extension": ".py",
   "mimetype": "text/x-python",
   "name": "python",
   "nbconvert_exporter": "python",
   "pygments_lexer": "ipython3",
   "version": "3.7.6"
  }
 },
 "nbformat": 4,
 "nbformat_minor": 4
}
