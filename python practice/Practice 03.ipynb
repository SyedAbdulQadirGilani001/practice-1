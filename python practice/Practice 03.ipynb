{
 "cells": [
  {
   "cell_type": "code",
   "execution_count": 12,
   "metadata": {},
   "outputs": [],
   "source": [
    "first_names = [\"BlueRay \", \"Upchuck \", \"Lojack \", \"Gizmo \", \"Do-Rag \"]\n",
    "last_names = [\"Zzz\", \"Burp\", \"Dogbone\", \"Droop\"]\n",
    "full_names = [] \n",
    "for a_first_name in first_names:\n",
    "    for a_last_name in last_names:\n",
    "        full_names.append(a_first_name + \" \" + a_last_name) "
   ]
  },
  {
   "cell_type": "code",
   "execution_count": 13,
   "metadata": {},
   "outputs": [
    {
     "data": {
      "text/plain": [
       "['BlueRay  Zzz',\n",
       " 'BlueRay  Burp',\n",
       " 'BlueRay  Dogbone',\n",
       " 'BlueRay  Droop',\n",
       " 'Upchuck  Zzz',\n",
       " 'Upchuck  Burp',\n",
       " 'Upchuck  Dogbone',\n",
       " 'Upchuck  Droop',\n",
       " 'Lojack  Zzz',\n",
       " 'Lojack  Burp',\n",
       " 'Lojack  Dogbone',\n",
       " 'Lojack  Droop',\n",
       " 'Gizmo  Zzz',\n",
       " 'Gizmo  Burp',\n",
       " 'Gizmo  Dogbone',\n",
       " 'Gizmo  Droop',\n",
       " 'Do-Rag  Zzz',\n",
       " 'Do-Rag  Burp',\n",
       " 'Do-Rag  Dogbone',\n",
       " 'Do-Rag  Droop']"
      ]
     },
     "execution_count": 13,
     "metadata": {},
     "output_type": "execute_result"
    }
   ],
   "source": [
    "full_names"
   ]
  },
  {
   "cell_type": "code",
   "execution_count": null,
   "metadata": {},
   "outputs": [],
   "source": []
  },
  {
   "cell_type": "code",
   "execution_count": null,
   "metadata": {},
   "outputs": [],
   "source": []
  },
  {
   "cell_type": "code",
   "execution_count": null,
   "metadata": {},
   "outputs": [],
   "source": []
  },
  {
   "cell_type": "code",
   "execution_count": null,
   "metadata": {},
   "outputs": [],
   "source": []
  }
 ],
 "metadata": {
  "kernelspec": {
   "display_name": "Python 3",
   "language": "python",
   "name": "python3"
  },
  "language_info": {
   "codemirror_mode": {
    "name": "ipython",
    "version": 3
   },
   "file_extension": ".py",
   "mimetype": "text/x-python",
   "name": "python",
   "nbconvert_exporter": "python",
   "pygments_lexer": "ipython3",
   "version": "3.7.6"
  }
 },
 "nbformat": 4,
 "nbformat_minor": 4
}
