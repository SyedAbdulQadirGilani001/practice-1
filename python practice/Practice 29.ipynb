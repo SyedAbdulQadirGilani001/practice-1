{
 "cells": [
  {
   "cell_type": "code",
   "execution_count": 1,
   "metadata": {},
   "outputs": [],
   "source": [
    "l = range(1000000)"
   ]
  },
  {
   "cell_type": "code",
   "execution_count": 2,
   "metadata": {},
   "outputs": [],
   "source": [
    "import numpy as np"
   ]
  },
  {
   "cell_type": "code",
   "execution_count": 4,
   "metadata": {},
   "outputs": [],
   "source": [
    "d = np.arange(1000000)"
   ]
  },
  {
   "cell_type": "code",
   "execution_count": 5,
   "metadata": {},
   "outputs": [
    {
     "name": "stdout",
     "output_type": "stream",
     "text": [
      "Wall time: 1.44 s\n"
     ]
    }
   ],
   "source": [
    "%time for i in range(1,10): [x*2 for x in l]"
   ]
  },
  {
   "cell_type": "code",
   "execution_count": 6,
   "metadata": {},
   "outputs": [
    {
     "name": "stdout",
     "output_type": "stream",
     "text": [
      "Wall time: 32 ms\n"
     ]
    }
   ],
   "source": [
    "%time for i in range(1,10): r=d*2"
   ]
  },
  {
   "cell_type": "code",
   "execution_count": 7,
   "metadata": {},
   "outputs": [],
   "source": [
    "x = np.zeros((4,4))"
   ]
  },
  {
   "cell_type": "code",
   "execution_count": 8,
   "metadata": {},
   "outputs": [
    {
     "data": {
      "text/plain": [
       "array([[0., 0., 0., 0.],\n",
       "       [0., 0., 0., 0.],\n",
       "       [0., 0., 0., 0.],\n",
       "       [0., 0., 0., 0.]])"
      ]
     },
     "execution_count": 8,
     "metadata": {},
     "output_type": "execute_result"
    }
   ],
   "source": [
    "x"
   ]
  },
  {
   "cell_type": "code",
   "execution_count": 9,
   "metadata": {},
   "outputs": [
    {
     "data": {
      "text/plain": [
       "array([[1., 1., 1., 1., 1.],\n",
       "       [1., 1., 1., 1., 1.],\n",
       "       [1., 1., 1., 1., 1.],\n",
       "       [1., 1., 1., 1., 1.],\n",
       "       [1., 1., 1., 1., 1.]])"
      ]
     },
     "execution_count": 9,
     "metadata": {},
     "output_type": "execute_result"
    }
   ],
   "source": [
    "np.ones((5,5))"
   ]
  },
  {
   "cell_type": "code",
   "execution_count": 10,
   "metadata": {},
   "outputs": [
    {
     "data": {
      "text/plain": [
       "array([[1.15565179e-311, 1.15564475e-311, 1.68821038e+195,\n",
       "        1.49003499e+195, 5.70932366e+228, 4.76659976e+180,\n",
       "        4.65688237e+164],\n",
       "       [8.78422036e+247, 2.19529495e-152, 7.49363265e+247,\n",
       "        2.39294633e-258, 6.07886271e+247, 3.93501887e+024,\n",
       "        2.52301636e-258],\n",
       "       [4.47593816e-091, 5.28595595e-085, 5.98115753e-114,\n",
       "        1.28822630e-057, 8.44250580e-053, 9.08967386e+242,\n",
       "        1.05135744e-153],\n",
       "       [2.65862877e-260, 8.39459671e+217, 4.41496367e+222,\n",
       "        3.02012407e-110, 1.05191453e-153, 9.66890684e+242,\n",
       "        9.78375159e+199],\n",
       "       [4.83245960e+276, 9.91598802e-096, 1.15296929e-259,\n",
       "        8.94213159e+130, 4.56340382e-072, 7.57854830e-010,\n",
       "        6.98028752e+199],\n",
       "       [3.92675050e+223, 6.98387920e-077, 5.04050503e+223,\n",
       "        3.74165235e+233, 3.74165281e+233, 2.87350346e+159,\n",
       "        2.13389712e+161],\n",
       "       [1.06024692e-153, 6.99416121e-009, 7.35280766e+223,\n",
       "        3.74795232e+233, 2.84845496e-110, 5.70618215e+257,\n",
       "        1.42395775e-105]])"
      ]
     },
     "execution_count": 10,
     "metadata": {},
     "output_type": "execute_result"
    }
   ],
   "source": [
    "np.empty((7,7))"
   ]
  },
  {
   "cell_type": "code",
   "execution_count": 11,
   "metadata": {},
   "outputs": [],
   "source": [
    "l=[1,4,5,7]"
   ]
  },
  {
   "cell_type": "code",
   "execution_count": 12,
   "metadata": {},
   "outputs": [
    {
     "data": {
      "text/plain": [
       "array([1, 4, 5, 7])"
      ]
     },
     "execution_count": 12,
     "metadata": {},
     "output_type": "execute_result"
    }
   ],
   "source": [
    "np.array(l)"
   ]
  },
  {
   "cell_type": "code",
   "execution_count": 15,
   "metadata": {},
   "outputs": [],
   "source": [
    "x = np.arange(1,300,50)"
   ]
  },
  {
   "cell_type": "code",
   "execution_count": 16,
   "metadata": {},
   "outputs": [
    {
     "data": {
      "text/plain": [
       "(6,)"
      ]
     },
     "execution_count": 16,
     "metadata": {},
     "output_type": "execute_result"
    }
   ],
   "source": [
    "x.shape"
   ]
  },
  {
   "cell_type": "code",
   "execution_count": 17,
   "metadata": {},
   "outputs": [],
   "source": [
    "x = np.zeros((10,10))"
   ]
  },
  {
   "cell_type": "code",
   "execution_count": 18,
   "metadata": {},
   "outputs": [
    {
     "data": {
      "text/plain": [
       "(10, 10)"
      ]
     },
     "execution_count": 18,
     "metadata": {},
     "output_type": "execute_result"
    }
   ],
   "source": [
    "x.shape"
   ]
  },
  {
   "cell_type": "code",
   "execution_count": 19,
   "metadata": {},
   "outputs": [],
   "source": [
    "y = x.reshape(2,2,5,5)"
   ]
  },
  {
   "cell_type": "code",
   "execution_count": 20,
   "metadata": {},
   "outputs": [
    {
     "data": {
      "text/plain": [
       "array([[[[0., 0., 0., 0., 0.],\n",
       "         [0., 0., 0., 0., 0.],\n",
       "         [0., 0., 0., 0., 0.],\n",
       "         [0., 0., 0., 0., 0.],\n",
       "         [0., 0., 0., 0., 0.]],\n",
       "\n",
       "        [[0., 0., 0., 0., 0.],\n",
       "         [0., 0., 0., 0., 0.],\n",
       "         [0., 0., 0., 0., 0.],\n",
       "         [0., 0., 0., 0., 0.],\n",
       "         [0., 0., 0., 0., 0.]]],\n",
       "\n",
       "\n",
       "       [[[0., 0., 0., 0., 0.],\n",
       "         [0., 0., 0., 0., 0.],\n",
       "         [0., 0., 0., 0., 0.],\n",
       "         [0., 0., 0., 0., 0.],\n",
       "         [0., 0., 0., 0., 0.]],\n",
       "\n",
       "        [[0., 0., 0., 0., 0.],\n",
       "         [0., 0., 0., 0., 0.],\n",
       "         [0., 0., 0., 0., 0.],\n",
       "         [0., 0., 0., 0., 0.],\n",
       "         [0., 0., 0., 0., 0.]]]])"
      ]
     },
     "execution_count": 20,
     "metadata": {},
     "output_type": "execute_result"
    }
   ],
   "source": [
    "y"
   ]
  },
  {
   "cell_type": "code",
   "execution_count": 21,
   "metadata": {},
   "outputs": [
    {
     "data": {
      "text/plain": [
       "dtype('float64')"
      ]
     },
     "execution_count": 21,
     "metadata": {},
     "output_type": "execute_result"
    }
   ],
   "source": [
    "y.dtype"
   ]
  },
  {
   "cell_type": "code",
   "execution_count": 22,
   "metadata": {},
   "outputs": [
    {
     "data": {
      "text/plain": [
       "4"
      ]
     },
     "execution_count": 22,
     "metadata": {},
     "output_type": "execute_result"
    }
   ],
   "source": [
    "y.ndim"
   ]
  },
  {
   "cell_type": "code",
   "execution_count": 24,
   "metadata": {},
   "outputs": [],
   "source": [
    "a =np.random.randn((10))"
   ]
  },
  {
   "cell_type": "code",
   "execution_count": 25,
   "metadata": {},
   "outputs": [],
   "source": [
    "b= np.random.randn((10))"
   ]
  },
  {
   "cell_type": "code",
   "execution_count": 26,
   "metadata": {},
   "outputs": [
    {
     "data": {
      "text/plain": [
       "array([ 1.74464844,  0.1248125 , -1.38763747, -1.87419551,  0.56384912,\n",
       "       -0.18246354,  0.21770248, -0.0409943 , -1.57265695, -0.3292779 ])"
      ]
     },
     "execution_count": 26,
     "metadata": {},
     "output_type": "execute_result"
    }
   ],
   "source": [
    "a+b"
   ]
  },
  {
   "cell_type": "code",
   "execution_count": 27,
   "metadata": {},
   "outputs": [
    {
     "data": {
      "text/plain": [
       "array([ 0.20369966,  0.46559178,  0.26688116, -0.64563279,  1.34984913,\n",
       "       -1.49498689, -0.33938266, -2.02767446,  1.50183064,  0.9857486 ])"
      ]
     },
     "execution_count": 27,
     "metadata": {},
     "output_type": "execute_result"
    }
   ],
   "source": [
    "a-b"
   ]
  },
  {
   "cell_type": "code",
   "execution_count": 28,
   "metadata": {},
   "outputs": [
    {
     "data": {
      "text/plain": [
       "array([ 1.94834811,  0.59040428, -1.12075631, -2.5198283 ,  1.91369825,\n",
       "       -1.67745043, -0.12168018, -2.06866877, -0.0708263 ,  0.6564707 ])"
      ]
     },
     "execution_count": 28,
     "metadata": {},
     "output_type": "execute_result"
    }
   ],
   "source": [
    "2*a"
   ]
  },
  {
   "cell_type": "code",
   "execution_count": 30,
   "metadata": {},
   "outputs": [
    {
     "data": {
      "text/plain": [
       "array([  1.02651061,   3.38750931,  -1.78450925,  -0.79370487,\n",
       "         1.04509684,  -1.19228561, -16.43653072,  -0.96680534,\n",
       "       -28.23809733,   3.04659447])"
      ]
     },
     "execution_count": 30,
     "metadata": {},
     "output_type": "execute_result"
    }
   ],
   "source": [
    "1/a"
   ]
  },
  {
   "cell_type": "code",
   "execution_count": 31,
   "metadata": {},
   "outputs": [
    {
     "data": {
      "text/plain": [
       "array([ True,  True, False, False,  True, False, False, False, False,\n",
       "        True])"
      ]
     },
     "execution_count": 31,
     "metadata": {},
     "output_type": "execute_result"
    }
   ],
   "source": [
    "a>0"
   ]
  },
  {
   "cell_type": "code",
   "execution_count": 32,
   "metadata": {},
   "outputs": [
    {
     "data": {
      "text/plain": [
       "array([0.97417405, 0.29520214, 0.95684912, 0.32823535])"
      ]
     },
     "execution_count": 32,
     "metadata": {},
     "output_type": "execute_result"
    }
   ],
   "source": [
    "a[a>0]"
   ]
  },
  {
   "cell_type": "code",
   "execution_count": 35,
   "metadata": {},
   "outputs": [],
   "source": [
    "x =np.array([1,7,9,8,5])"
   ]
  },
  {
   "cell_type": "code",
   "execution_count": 37,
   "metadata": {},
   "outputs": [
    {
     "data": {
      "text/plain": [
       "5"
      ]
     },
     "execution_count": 37,
     "metadata": {},
     "output_type": "execute_result"
    }
   ],
   "source": [
    "x[4]"
   ]
  },
  {
   "cell_type": "code",
   "execution_count": 38,
   "metadata": {},
   "outputs": [
    {
     "data": {
      "text/plain": [
       "array([7, 9, 8])"
      ]
     },
     "execution_count": 38,
     "metadata": {},
     "output_type": "execute_result"
    }
   ],
   "source": [
    "x[x>5]"
   ]
  },
  {
   "cell_type": "code",
   "execution_count": 39,
   "metadata": {},
   "outputs": [
    {
     "data": {
      "text/plain": [
       "array([9, 7])"
      ]
     },
     "execution_count": 39,
     "metadata": {},
     "output_type": "execute_result"
    }
   ],
   "source": [
    "x[[2,1]]"
   ]
  },
  {
   "cell_type": "code",
   "execution_count": 41,
   "metadata": {},
   "outputs": [],
   "source": [
    "a =np.random.randn(10,10)"
   ]
  },
  {
   "cell_type": "code",
   "execution_count": 42,
   "metadata": {},
   "outputs": [
    {
     "data": {
      "text/plain": [
       "array([[-0.03264675,  0.1867417 ,  0.68030298,  0.13522251, -3.02866499,\n",
       "        -2.16868945, -0.95295012,  0.81208559, -0.60785252,  1.06266468],\n",
       "       [-0.86805378, -0.44803455, -0.77026585, -0.98315025,  2.07135261,\n",
       "        -0.74679237,  1.27608008, -0.52054273, -0.35406361, -0.64255893],\n",
       "       [-2.4952682 , -0.46466087, -0.69422692,  1.45292245, -0.84170702,\n",
       "         0.5212673 ,  1.94337083, -0.68777165, -0.87914632,  0.53970485],\n",
       "       [-0.08408834,  0.77273882, -0.2874737 ,  0.57252371, -1.13941074,\n",
       "        -0.3829486 , -0.93365513, -0.12220789, -1.57037377, -1.11744754],\n",
       "       [-0.26305222,  0.63871901, -1.74247519, -1.27009756,  0.36505608,\n",
       "        -0.91204287,  0.85377472, -1.07938644, -0.39476631, -0.4899723 ],\n",
       "       [ 1.21200453,  1.11474183, -0.42331261,  0.46482166, -0.6381695 ,\n",
       "        -0.5721926 ,  0.41646344,  0.47462581, -0.04379079, -0.55749419],\n",
       "       [-0.85852825, -1.50084378, -0.60520837,  0.88516986,  0.32391725,\n",
       "        -0.79553642,  1.00273953, -0.07408048, -1.69779191,  0.42272522],\n",
       "       [-0.80353758,  0.24558893,  0.96755293,  0.30540218,  0.86122268,\n",
       "         0.05955965, -0.82182962,  0.17076403,  1.21142132,  0.3532906 ],\n",
       "       [ 0.42956577,  1.22905281,  0.4726226 , -0.18005613,  1.39421211,\n",
       "        -0.31453689, -0.53576511,  0.7721687 ,  0.7153429 , -0.10042179],\n",
       "       [-0.97587693,  0.80111012,  0.40098432,  0.25594692, -0.26188077,\n",
       "        -1.08838218,  1.11336332,  0.22491522, -1.53250069, -0.96391371]])"
      ]
     },
     "execution_count": 42,
     "metadata": {},
     "output_type": "execute_result"
    }
   ],
   "source": [
    "a"
   ]
  },
  {
   "cell_type": "code",
   "execution_count": 43,
   "metadata": {},
   "outputs": [
    {
     "data": {
      "text/plain": [
       "array([-0.03264675,  0.1867417 ,  0.68030298,  0.13522251, -3.02866499,\n",
       "       -2.16868945, -0.95295012,  0.81208559, -0.60785252,  1.06266468])"
      ]
     },
     "execution_count": 43,
     "metadata": {},
     "output_type": "execute_result"
    }
   ],
   "source": [
    "a[0]"
   ]
  },
  {
   "cell_type": "code",
   "execution_count": 44,
   "metadata": {},
   "outputs": [
    {
     "data": {
      "text/plain": [
       "-3.028664993844604"
      ]
     },
     "execution_count": 44,
     "metadata": {},
     "output_type": "execute_result"
    }
   ],
   "source": [
    "a[0][4]"
   ]
  },
  {
   "cell_type": "code",
   "execution_count": 45,
   "metadata": {},
   "outputs": [
    {
     "data": {
      "text/plain": [
       "array([[-0.86805378, -0.44803455, -0.77026585, -0.98315025,  2.07135261,\n",
       "        -0.74679237,  1.27608008, -0.52054273, -0.35406361, -0.64255893],\n",
       "       [-0.08408834,  0.77273882, -0.2874737 ,  0.57252371, -1.13941074,\n",
       "        -0.3829486 , -0.93365513, -0.12220789, -1.57037377, -1.11744754],\n",
       "       [ 1.21200453,  1.11474183, -0.42331261,  0.46482166, -0.6381695 ,\n",
       "        -0.5721926 ,  0.41646344,  0.47462581, -0.04379079, -0.55749419],\n",
       "       [-0.80353758,  0.24558893,  0.96755293,  0.30540218,  0.86122268,\n",
       "         0.05955965, -0.82182962,  0.17076403,  1.21142132,  0.3532906 ],\n",
       "       [-0.97587693,  0.80111012,  0.40098432,  0.25594692, -0.26188077,\n",
       "        -1.08838218,  1.11336332,  0.22491522, -1.53250069, -0.96391371]])"
      ]
     },
     "execution_count": 45,
     "metadata": {},
     "output_type": "execute_result"
    }
   ],
   "source": [
    "a[1:10:2]"
   ]
  },
  {
   "cell_type": "code",
   "execution_count": 47,
   "metadata": {},
   "outputs": [
    {
     "data": {
      "text/plain": [
       "array([[-0.03264675,  0.1867417 ,  0.68030298,  0.13522251],\n",
       "       [-0.86805378, -0.44803455, -0.77026585, -0.98315025],\n",
       "       [-2.4952682 , -0.46466087, -0.69422692,  1.45292245],\n",
       "       [-0.08408834,  0.77273882, -0.2874737 ,  0.57252371],\n",
       "       [-0.26305222,  0.63871901, -1.74247519, -1.27009756],\n",
       "       [ 1.21200453,  1.11474183, -0.42331261,  0.46482166],\n",
       "       [-0.85852825, -1.50084378, -0.60520837,  0.88516986],\n",
       "       [-0.80353758,  0.24558893,  0.96755293,  0.30540218],\n",
       "       [ 0.42956577,  1.22905281,  0.4726226 , -0.18005613],\n",
       "       [-0.97587693,  0.80111012,  0.40098432,  0.25594692]])"
      ]
     },
     "execution_count": 47,
     "metadata": {},
     "output_type": "execute_result"
    }
   ],
   "source": [
    "a[::,0:4]"
   ]
  },
  {
   "cell_type": "code",
   "execution_count": 48,
   "metadata": {},
   "outputs": [],
   "source": [
    "z =np.ones((5,5))"
   ]
  },
  {
   "cell_type": "code",
   "execution_count": 49,
   "metadata": {},
   "outputs": [
    {
     "data": {
      "text/plain": [
       "array([[1., 1., 1., 1., 1.],\n",
       "       [1., 1., 1., 1., 1.],\n",
       "       [1., 1., 1., 1., 1.],\n",
       "       [1., 1., 1., 1., 1.],\n",
       "       [1., 1., 1., 1., 1.]])"
      ]
     },
     "execution_count": 49,
     "metadata": {},
     "output_type": "execute_result"
    }
   ],
   "source": [
    "z"
   ]
  },
  {
   "cell_type": "code",
   "execution_count": 50,
   "metadata": {},
   "outputs": [],
   "source": [
    "z[1:-1,1:-1]=0\n"
   ]
  },
  {
   "cell_type": "code",
   "execution_count": 51,
   "metadata": {},
   "outputs": [
    {
     "data": {
      "text/plain": [
       "array([[1., 1., 1., 1., 1.],\n",
       "       [1., 0., 0., 0., 1.],\n",
       "       [1., 0., 0., 0., 1.],\n",
       "       [1., 0., 0., 0., 1.],\n",
       "       [1., 1., 1., 1., 1.]])"
      ]
     },
     "execution_count": 51,
     "metadata": {},
     "output_type": "execute_result"
    }
   ],
   "source": [
    "z"
   ]
  },
  {
   "cell_type": "code",
   "execution_count": null,
   "metadata": {},
   "outputs": [],
   "source": []
  }
 ],
 "metadata": {
  "kernelspec": {
   "display_name": "Python 3",
   "language": "python",
   "name": "python3"
  },
  "language_info": {
   "codemirror_mode": {
    "name": "ipython",
    "version": 3
   },
   "file_extension": ".py",
   "mimetype": "text/x-python",
   "name": "python",
   "nbconvert_exporter": "python",
   "pygments_lexer": "ipython3",
   "version": "3.7.6"
  }
 },
 "nbformat": 4,
 "nbformat_minor": 4
}
