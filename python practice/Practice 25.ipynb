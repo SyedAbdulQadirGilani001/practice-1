{
 "cells": [
  {
   "cell_type": "code",
   "execution_count": 5,
   "metadata": {},
   "outputs": [],
   "source": [
    "with open(\"pakistan.txt\",\"w\") as h:\n",
    "    h.write(\"pakistan is our country\")\n",
    "    h.write(\"\\n reinstate in pakistan airforce from 14 july 2020\")"
   ]
  },
  {
   "cell_type": "code",
   "execution_count": 6,
   "metadata": {},
   "outputs": [
    {
     "name": "stdout",
     "output_type": "stream",
     "text": [
      "pakistan is our country\n",
      " reinstate in pakistan airforce from 14 july 2020\n"
     ]
    }
   ],
   "source": [
    "with open(\"pakistan.txt\",\"r\") as h1:\n",
    "    tf = h1.read()\n",
    "    print(tf)"
   ]
  },
  {
   "cell_type": "code",
   "execution_count": 8,
   "metadata": {},
   "outputs": [],
   "source": [
    "with open(\"pakistan.txt\",\"a\") as h:\n",
    "    h.write(\"sadaqat ali\")"
   ]
  },
  {
   "cell_type": "code",
   "execution_count": 9,
   "metadata": {},
   "outputs": [
    {
     "name": "stdout",
     "output_type": "stream",
     "text": [
      "pakistan is our country\n",
      " reinstate in pakistan airforce from 14 july 2020sadaqat ali\n"
     ]
    }
   ],
   "source": [
    "with open(\"pakistan.txt\",\"r\") as h1:\n",
    "    tf = h1.read()\n",
    "    print(tf)"
   ]
  },
  {
   "cell_type": "code",
   "execution_count": 13,
   "metadata": {},
   "outputs": [
    {
     "name": "stdout",
     "output_type": "stream",
     "text": [
      "district mianwali tehsil piplan\n"
     ]
    }
   ],
   "source": [
    "with open(\"file.txt\",\"w+\") as pak:\n",
    "    pak.write(\"district mianwali tehsil piplan\")\n",
    "    pak.seek(0)\n",
    "    print(pak.read())"
   ]
  },
  {
   "cell_type": "code",
   "execution_count": 16,
   "metadata": {},
   "outputs": [
    {
     "name": "stdout",
     "output_type": "stream",
     "text": [
      "district mianwali tehsil piplan\n"
     ]
    }
   ],
   "source": [
    "with open(\"file.txt\",\"r+\") as pak:\n",
    "    pak.write(\"district mianwali tehsil piplan\")\n",
    "    pak.seek(0)\n",
    "    print(pak.read())"
   ]
  },
  {
   "cell_type": "code",
   "execution_count": 17,
   "metadata": {},
   "outputs": [
    {
     "ename": "FileNotFoundError",
     "evalue": "[Errno 2] No such file or directory: 'file2.txt'",
     "output_type": "error",
     "traceback": [
      "\u001b[1;31m---------------------------------------------------------------------------\u001b[0m",
      "\u001b[1;31mFileNotFoundError\u001b[0m                         Traceback (most recent call last)",
      "\u001b[1;32m<ipython-input-17-4ead143b5ca7>\u001b[0m in \u001b[0;36m<module>\u001b[1;34m\u001b[0m\n\u001b[1;32m----> 1\u001b[1;33m \u001b[1;32mwith\u001b[0m \u001b[0mopen\u001b[0m\u001b[1;33m(\u001b[0m\u001b[1;34m\"file2.txt\"\u001b[0m\u001b[1;33m,\u001b[0m\u001b[1;34m\"r+\"\u001b[0m\u001b[1;33m)\u001b[0m \u001b[1;32mas\u001b[0m \u001b[0mpak\u001b[0m\u001b[1;33m:\u001b[0m\u001b[1;33m\u001b[0m\u001b[1;33m\u001b[0m\u001b[0m\n\u001b[0m\u001b[0;32m      2\u001b[0m     \u001b[0mpak\u001b[0m\u001b[1;33m.\u001b[0m\u001b[0mwrite\u001b[0m\u001b[1;33m(\u001b[0m\u001b[1;34m\"district mianwali tehsil piplan\"\u001b[0m\u001b[1;33m)\u001b[0m\u001b[1;33m\u001b[0m\u001b[1;33m\u001b[0m\u001b[0m\n\u001b[0;32m      3\u001b[0m     \u001b[0mpak\u001b[0m\u001b[1;33m.\u001b[0m\u001b[0mseek\u001b[0m\u001b[1;33m(\u001b[0m\u001b[1;36m0\u001b[0m\u001b[1;33m)\u001b[0m\u001b[1;33m\u001b[0m\u001b[1;33m\u001b[0m\u001b[0m\n\u001b[0;32m      4\u001b[0m     \u001b[0mprint\u001b[0m\u001b[1;33m(\u001b[0m\u001b[0mpak\u001b[0m\u001b[1;33m.\u001b[0m\u001b[0mread\u001b[0m\u001b[1;33m(\u001b[0m\u001b[1;33m)\u001b[0m\u001b[1;33m)\u001b[0m\u001b[1;33m\u001b[0m\u001b[1;33m\u001b[0m\u001b[0m\n",
      "\u001b[1;31mFileNotFoundError\u001b[0m: [Errno 2] No such file or directory: 'file2.txt'"
     ]
    }
   ],
   "source": [
    "with open(\"file2.txt\",\"r+\") as pak:\n",
    "    pak.write(\"district mianwali tehsil piplan\")\n",
    "    pak.seek(0)\n",
    "    print(pak.read())"
   ]
  },
  {
   "cell_type": "code",
   "execution_count": null,
   "metadata": {},
   "outputs": [],
   "source": [
    "# %load maths.py\n",
    "def add(a,b):\n",
    "    return a + b\n",
    "def sub(a,b):\n",
    "    return a - b\n",
    "def mul(a,b):\n",
    "    return a * b\n"
   ]
  },
  {
   "cell_type": "code",
   "execution_count": 1,
   "metadata": {},
   "outputs": [],
   "source": [
    "import maths as m"
   ]
  },
  {
   "cell_type": "code",
   "execution_count": 2,
   "metadata": {},
   "outputs": [
    {
     "data": {
      "text/plain": [
       "13"
      ]
     },
     "execution_count": 2,
     "metadata": {},
     "output_type": "execute_result"
    }
   ],
   "source": [
    "m.add(6,7)"
   ]
  },
  {
   "cell_type": "code",
   "execution_count": 3,
   "metadata": {},
   "outputs": [
    {
     "data": {
      "text/plain": [
       "20"
      ]
     },
     "execution_count": 3,
     "metadata": {},
     "output_type": "execute_result"
    }
   ],
   "source": [
    "m.mul(5,4)"
   ]
  },
  {
   "cell_type": "code",
   "execution_count": 5,
   "metadata": {},
   "outputs": [],
   "source": [
    "import csv"
   ]
  },
  {
   "cell_type": "code",
   "execution_count": 7,
   "metadata": {},
   "outputs": [],
   "source": [
    "with open(\"ad.csv\",\"w\",newline=\"\") as f:\n",
    "    n_v = csv.writer(f)\n",
    "    n_v.writerow([\"serial no\",\"name\",\"remarks\"])\n",
    "    n_v.writerow([1,\"sa\",\"good\"])\n",
    "    n_v.writerow([2,\"sad\",\"better\"])\n",
    "    "
   ]
  },
  {
   "cell_type": "code",
   "execution_count": 12,
   "metadata": {},
   "outputs": [
    {
     "name": "stdout",
     "output_type": "stream",
     "text": [
      "['serial no', 'name', 'remarks']\n",
      "['1', 'sa', 'good']\n",
      "['2', 'sad', 'better']\n"
     ]
    }
   ],
   "source": [
    "with open(\"ad.csv\") as f1:\n",
    "    pf = csv.reader(f1)\n",
    "    for pfs in pf:\n",
    "        print(pfs)"
   ]
  },
  {
   "cell_type": "code",
   "execution_count": 14,
   "metadata": {},
   "outputs": [],
   "source": [
    "with open(\"ad.csv\",\"a\") as f:\n",
    "    v=csv.writer(f)\n",
    "    v.writerow([3,\"abc\",\"xyz\"])"
   ]
  },
  {
   "cell_type": "code",
   "execution_count": 16,
   "metadata": {},
   "outputs": [
    {
     "name": "stdout",
     "output_type": "stream",
     "text": [
      "['serial no', 'name', 'remarks']\n",
      "['1', 'sa', 'good']\n",
      "['2', 'sad', 'better']\n",
      "['3', 'abc', 'xyz']\n"
     ]
    }
   ],
   "source": [
    "with open(\"ad.csv\") as f1:\n",
    "    pf = csv.reader(f1)\n",
    "    for pfs in pf:\n",
    "        print(pfs)"
   ]
  },
  {
   "cell_type": "code",
   "execution_count": 17,
   "metadata": {},
   "outputs": [],
   "source": [
    "import json"
   ]
  },
  {
   "cell_type": "code",
   "execution_count": 20,
   "metadata": {},
   "outputs": [],
   "source": [
    "with open(\"abc.json\",\"w\") as f:\n",
    "    json.dump({\"a\" :\"pak\",\"b\" : \"turkey\"},f)"
   ]
  },
  {
   "cell_type": "code",
   "execution_count": 21,
   "metadata": {},
   "outputs": [
    {
     "name": "stdout",
     "output_type": "stream",
     "text": [
      "{'a': 'pak', 'b': 'turkey'}\n"
     ]
    }
   ],
   "source": [
    "with open(\"abc.json\",\"r\") as f:\n",
    "    con =  json.load(f)\n",
    "    print(con)"
   ]
  },
  {
   "cell_type": "code",
   "execution_count": 24,
   "metadata": {},
   "outputs": [],
   "source": [
    "with open (\"xyz.txt\",\"w\") as f:\n",
    "    f.write(\"pakistan is our country\")"
   ]
  },
  {
   "cell_type": "code",
   "execution_count": 25,
   "metadata": {},
   "outputs": [
    {
     "name": "stdout",
     "output_type": "stream",
     "text": [
      "pakistan is our country\n"
     ]
    }
   ],
   "source": [
    "with open(\"xyz.txt\",\"r\") as f1:\n",
    "    x=f1.read()\n",
    "    print(x)"
   ]
  },
  {
   "cell_type": "code",
   "execution_count": 31,
   "metadata": {},
   "outputs": [],
   "source": [
    "with open(\"xyz.txt\",\"a\") as a:\n",
    "    a.write(\"pakistan is super power\")"
   ]
  },
  {
   "cell_type": "code",
   "execution_count": 33,
   "metadata": {},
   "outputs": [
    {
     "name": "stdout",
     "output_type": "stream",
     "text": [
      "pakistan is our countrypakistan is super power/npakistan is super powerpakistan is super power\n"
     ]
    }
   ],
   "source": [
    "with open(\"xyz.txt\",\"r\") as f:\n",
    "    x = f.read()\n",
    "    print(x)"
   ]
  },
  {
   "cell_type": "code",
   "execution_count": 41,
   "metadata": {},
   "outputs": [
    {
     "name": "stdout",
     "output_type": "stream",
     "text": [
      "pakistan zindabadpakistan zindabadpakistan zindabad\n"
     ]
    }
   ],
   "source": [
    "with open(\"asd.txt\",\"w+\") as v:\n",
    "    v.write(\"pakistan zindabad\")\n",
    "    v.write(\"pakistan zindabad\")\n",
    "    v.write(\"pakistan zindabad\")\n",
    "    v.seek(0)\n",
    "    print(v.read())"
   ]
  },
  {
   "cell_type": "code",
   "execution_count": 42,
   "metadata": {},
   "outputs": [
    {
     "name": "stdout",
     "output_type": "stream",
     "text": [
      "pakistan zindabadpakistan zindabadpakistan zindabad\n"
     ]
    }
   ],
   "source": [
    "with open (\"asd.txt\",\"r+\") as x:\n",
    "    x.write(\"pakistan\")\n",
    "    x.seek(0)\n",
    "    print(x.read())"
   ]
  },
  {
   "cell_type": "code",
   "execution_count": 43,
   "metadata": {},
   "outputs": [],
   "source": [
    "import csv"
   ]
  },
  {
   "cell_type": "code",
   "execution_count": 51,
   "metadata": {},
   "outputs": [],
   "source": [
    "with open(\"afg.csv\",\"w\",newline=\"\") as f:\n",
    "    ad = csv.writer(f)\n",
    "    ad.writerow([\"pakistan\"])"
   ]
  },
  {
   "cell_type": "code",
   "execution_count": 54,
   "metadata": {},
   "outputs": [
    {
     "name": "stdout",
     "output_type": "stream",
     "text": [
      "['pakistan']\n"
     ]
    }
   ],
   "source": [
    "with open(\"afg.csv\",\"r\") as f:\n",
    "    p = csv.reader(f)\n",
    "    for a in p:\n",
    "        print(a)"
   ]
  },
  {
   "cell_type": "code",
   "execution_count": 56,
   "metadata": {},
   "outputs": [],
   "source": [
    "import json\n",
    "pak = {}\n",
    "with open(\"abc.json\",\"w\") as g:\n",
    "        json.dump(pak,g)"
   ]
  },
  {
   "cell_type": "code",
   "execution_count": 57,
   "metadata": {},
   "outputs": [],
   "source": [
    "with open(\"abc.json\",\"r\") as g:\n",
    "    ad = json.load(g)"
   ]
  },
  {
   "cell_type": "code",
   "execution_count": 58,
   "metadata": {},
   "outputs": [
    {
     "data": {
      "text/plain": [
       "{}"
      ]
     },
     "execution_count": 58,
     "metadata": {},
     "output_type": "execute_result"
    }
   ],
   "source": [
    "ad"
   ]
  },
  {
   "cell_type": "code",
   "execution_count": null,
   "metadata": {},
   "outputs": [],
   "source": []
  }
 ],
 "metadata": {
  "kernelspec": {
   "display_name": "Python 3",
   "language": "python",
   "name": "python3"
  },
  "language_info": {
   "codemirror_mode": {
    "name": "ipython",
    "version": 3
   },
   "file_extension": ".py",
   "mimetype": "text/x-python",
   "name": "python",
   "nbconvert_exporter": "python",
   "pygments_lexer": "ipython3",
   "version": "3.7.6"
  }
 },
 "nbformat": 4,
 "nbformat_minor": 4
}
