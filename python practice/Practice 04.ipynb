{
 "cells": [
  {
   "cell_type": "code",
   "execution_count": 324,
   "metadata": {},
   "outputs": [
    {
     "name": "stdout",
     "output_type": "stream",
     "text": [
      "paksiatn\n",
      "paksiatn\n",
      "paksiatn\n",
      "paksiatn\n",
      "paksiatn\n",
      "paksiatn\n"
     ]
    }
   ],
   "source": [
    "for a in range(6):\n",
    "    print(\"paksiatn\")"
   ]
  },
  {
   "cell_type": "code",
   "execution_count": 325,
   "metadata": {},
   "outputs": [
    {
     "name": "stdout",
     "output_type": "stream",
     "text": [
      "0 paksiatn\n",
      "1 paksiatn\n",
      "2 paksiatn\n",
      "3 paksiatn\n",
      "4 paksiatn\n",
      "5 paksiatn\n"
     ]
    }
   ],
   "source": [
    "for a in range(6):\n",
    "    print(a,\"paksiatn\")"
   ]
  },
  {
   "cell_type": "code",
   "execution_count": 326,
   "metadata": {},
   "outputs": [
    {
     "name": "stdout",
     "output_type": "stream",
     "text": [
      "1\n",
      "2\n",
      "3\n",
      "4\n",
      "5\n",
      "6\n",
      "7\n",
      "8\n",
      "9\n"
     ]
    }
   ],
   "source": [
    "for number in range(1,10):\n",
    "    print(number)"
   ]
  },
  {
   "cell_type": "code",
   "execution_count": 327,
   "metadata": {},
   "outputs": [
    {
     "name": "stdout",
     "output_type": "stream",
     "text": [
      "1\n",
      "3\n",
      "5\n",
      "7\n",
      "9\n"
     ]
    }
   ],
   "source": [
    "for number in range(1,10,2):\n",
    "    print(number)"
   ]
  },
  {
   "cell_type": "code",
   "execution_count": 328,
   "metadata": {},
   "outputs": [
    {
     "name": "stdout",
     "output_type": "stream",
     "text": [
      "1\n",
      "4\n",
      "7\n"
     ]
    }
   ],
   "source": [
    "for number in range(1,10,3):\n",
    "    print(number)"
   ]
  },
  {
   "cell_type": "code",
   "execution_count": 329,
   "metadata": {},
   "outputs": [
    {
     "name": "stdout",
     "output_type": "stream",
     "text": [
      "10\n",
      "8\n",
      "6\n",
      "4\n",
      "2\n"
     ]
    }
   ],
   "source": [
    "for number in range(10,1,-2):\n",
    "    print(number)"
   ]
  },
  {
   "cell_type": "code",
   "execution_count": 330,
   "metadata": {},
   "outputs": [
    {
     "data": {
      "text/plain": [
       "['abc', 'asd', 'fgd', 'fsd']"
      ]
     },
     "execution_count": 330,
     "metadata": {},
     "output_type": "execute_result"
    }
   ],
   "source": [
    "cities=[\"abc\",\"asd\",\"fgd\",\"fsd\"]\n",
    "cities"
   ]
  },
  {
   "cell_type": "code",
   "execution_count": 331,
   "metadata": {},
   "outputs": [
    {
     "name": "stdout",
     "output_type": "stream",
     "text": [
      "the city is under consideration is  abc\n",
      "the city is under consideration is  asd\n",
      "the city is under consideration is  fgd\n",
      "the city is under consideration is  fsd\n"
     ]
    }
   ],
   "source": [
    "for city in cities:\n",
    "    print(f\"the city is under consideration is  {city}\")"
   ]
  },
  {
   "cell_type": "code",
   "execution_count": 332,
   "metadata": {},
   "outputs": [
    {
     "name": "stdout",
     "output_type": "stream",
     "text": [
      "11\n",
      "12\n",
      "13\n",
      "14\n",
      "15\n"
     ]
    }
   ],
   "source": [
    "for num in [11,12,13,14, 15 ]:\n",
    "    print(num)"
   ]
  },
  {
   "cell_type": "code",
   "execution_count": 333,
   "metadata": {},
   "outputs": [
    {
     "name": "stdout",
     "output_type": "stream",
     "text": [
      "p\n",
      "a\n",
      "k\n",
      "i\n",
      "s\n",
      "t\n",
      "a\n",
      "n\n"
     ]
    }
   ],
   "source": [
    "country = \"pakistan\"\n",
    "for char in country:\n",
    "    print(char)"
   ]
  },
  {
   "cell_type": "code",
   "execution_count": 334,
   "metadata": {},
   "outputs": [
    {
     "name": "stdout",
     "output_type": "stream",
     "text": [
      "pakistan\n",
      "germany\n"
     ]
    }
   ],
   "source": [
    "country = \"pakistan\" , \"germany\"\n",
    "for char in country:\n",
    "    print(char)"
   ]
  },
  {
   "cell_type": "code",
   "execution_count": 335,
   "metadata": {},
   "outputs": [
    {
     "name": "stdout",
     "output_type": "stream",
     "text": [
      "0\n"
     ]
    }
   ],
   "source": [
    "for number in range(10):\n",
    "    if number%3==1:\n",
    "        break\n",
    "    print(number)"
   ]
  },
  {
   "cell_type": "code",
   "execution_count": 336,
   "metadata": {},
   "outputs": [
    {
     "name": "stdout",
     "output_type": "stream",
     "text": [
      "5\n",
      "7\n",
      "11\n"
     ]
    }
   ],
   "source": [
    "for number in [5 , 7 , 11 , 90]:\n",
    "    if number%2==0:\n",
    "        break\n",
    "    print(number)"
   ]
  },
  {
   "cell_type": "code",
   "execution_count": 337,
   "metadata": {},
   "outputs": [
    {
     "name": "stdout",
     "output_type": "stream",
     "text": [
      "0\n",
      "1\n",
      "2\n",
      "3\n",
      "4\n",
      "5\n",
      "6\n",
      "7\n",
      "8\n",
      "9\n"
     ]
    }
   ],
   "source": [
    "for number in range(10):\n",
    "    if number <= 10:\n",
    "        print(number)"
   ]
  },
  {
   "cell_type": "code",
   "execution_count": 338,
   "metadata": {},
   "outputs": [
    {
     "name": "stdout",
     "output_type": "stream",
     "text": [
      "enter the range of table2\n",
      "1*1=1\n",
      "1*2=2\n",
      "1*3=3\n",
      "1*4=4\n",
      "1*5=5\n",
      "1*6=6\n",
      "1*7=7\n",
      "1*8=8\n",
      "1*9=9\n",
      "1*10=10\n",
      "2*1=2\n",
      "2*2=4\n",
      "2*3=6\n",
      "2*4=8\n",
      "2*5=10\n",
      "2*6=12\n",
      "2*7=14\n",
      "2*8=16\n",
      "2*9=18\n",
      "2*10=20\n"
     ]
    }
   ],
   "source": [
    "table = int(input(\"enter the range of table\"))\n",
    "for table in range(1,table+1):\n",
    "        for a in range(1,11):\n",
    "            print(f\"{table}*{a}={table*a}\")"
   ]
  },
  {
   "cell_type": "code",
   "execution_count": 339,
   "metadata": {},
   "outputs": [
    {
     "data": {
      "text/plain": [
       "['pakistan', '23', 'dret', 'sawe', 'rtyu']"
      ]
     },
     "execution_count": 339,
     "metadata": {},
     "output_type": "execute_result"
    }
   ],
   "source": [
    "list = [\"pakistan\" , \"23\" , \"dret\", \"sawe\" ,\"rtyu\"]\n",
    "list"
   ]
  },
  {
   "cell_type": "code",
   "execution_count": 340,
   "metadata": {},
   "outputs": [
    {
     "data": {
      "text/plain": [
       "['pakistan', '23', 'dret', 'sawe', 'rtyu', 'rtuiop']"
      ]
     },
     "execution_count": 340,
     "metadata": {},
     "output_type": "execute_result"
    }
   ],
   "source": [
    "list.append(\"rtuiop\")\n",
    "list"
   ]
  },
  {
   "cell_type": "code",
   "execution_count": 341,
   "metadata": {},
   "outputs": [
    {
     "data": {
      "text/plain": [
       "['sadaqat', 'pakistan', '23', 'dret', 'sawe', 'rtyu', 'rtuiop']"
      ]
     },
     "execution_count": 341,
     "metadata": {},
     "output_type": "execute_result"
    }
   ],
   "source": [
    "list.insert(0,\"sadaqat\")\n",
    "list"
   ]
  },
  {
   "cell_type": "code",
   "execution_count": 342,
   "metadata": {},
   "outputs": [
    {
     "data": {
      "text/plain": [
       "1"
      ]
     },
     "execution_count": 342,
     "metadata": {},
     "output_type": "execute_result"
    }
   ],
   "source": [
    "list.index(\"pakistan\")"
   ]
  },
  {
   "cell_type": "code",
   "execution_count": 343,
   "metadata": {},
   "outputs": [
    {
     "data": {
      "text/plain": [
       "0"
      ]
     },
     "execution_count": 343,
     "metadata": {},
     "output_type": "execute_result"
    }
   ],
   "source": [
    "list.count(23)"
   ]
  },
  {
   "cell_type": "code",
   "execution_count": 344,
   "metadata": {},
   "outputs": [
    {
     "data": {
      "text/plain": [
       "['sawe', 'sadaqat', 'rtyu', 'rtuiop', 'pakistan', 'dret', '23']"
      ]
     },
     "execution_count": 344,
     "metadata": {},
     "output_type": "execute_result"
    }
   ],
   "source": [
    "list.sort(reverse = True)\n",
    "list"
   ]
  },
  {
   "cell_type": "code",
   "execution_count": 345,
   "metadata": {},
   "outputs": [],
   "source": [
    "list.reverse()"
   ]
  },
  {
   "cell_type": "code",
   "execution_count": 346,
   "metadata": {},
   "outputs": [
    {
     "data": {
      "text/plain": [
       "['23', 'dret', 'pakistan', 'rtuiop', 'rtyu', 'sadaqat', 'sawe']"
      ]
     },
     "execution_count": 346,
     "metadata": {},
     "output_type": "execute_result"
    }
   ],
   "source": [
    "list"
   ]
  },
  {
   "cell_type": "code",
   "execution_count": 347,
   "metadata": {},
   "outputs": [
    {
     "data": {
      "text/plain": [
       "['23', 'dret', 'pakistan', 'rtuiop', 'rtyu', 'sadaqat', 'sawe']"
      ]
     },
     "execution_count": 347,
     "metadata": {},
     "output_type": "execute_result"
    }
   ],
   "source": [
    "war=list.copy()\n",
    "war"
   ]
  },
  {
   "cell_type": "code",
   "execution_count": 348,
   "metadata": {},
   "outputs": [
    {
     "data": {
      "text/plain": [
       "['23',\n",
       " 'dret',\n",
       " 'pakistan',\n",
       " 'rtuiop',\n",
       " 'rtyu',\n",
       " 'sadaqat',\n",
       " 'sawe',\n",
       " 'kiat',\n",
       " 'asia',\n",
       " 'gtyu',\n",
       " 'ahmed']"
      ]
     },
     "execution_count": 348,
     "metadata": {},
     "output_type": "execute_result"
    }
   ],
   "source": [
    "list.extend([\"kiat\",\"asia\",\"gtyu\",\"ahmed\"])\n",
    "list"
   ]
  },
  {
   "cell_type": "code",
   "execution_count": 349,
   "metadata": {},
   "outputs": [
    {
     "data": {
      "text/plain": [
       "['23',\n",
       " 'dret',\n",
       " 'pakistan',\n",
       " 'rtuiop',\n",
       " 'rtyu',\n",
       " 'sadaqat',\n",
       " 'sawe',\n",
       " 'kiat',\n",
       " 'gtyu',\n",
       " 'ahmed']"
      ]
     },
     "execution_count": 349,
     "metadata": {},
     "output_type": "execute_result"
    }
   ],
   "source": [
    "list.remove(\"asia\")\n",
    "list"
   ]
  },
  {
   "cell_type": "code",
   "execution_count": 350,
   "metadata": {},
   "outputs": [
    {
     "data": {
      "text/plain": [
       "['23', 'dret', 'pakistan', 'rtyu', 'sadaqat', 'sawe', 'kiat', 'gtyu', 'ahmed']"
      ]
     },
     "execution_count": 350,
     "metadata": {},
     "output_type": "execute_result"
    }
   ],
   "source": [
    "del list[3]\n",
    "list"
   ]
  },
  {
   "cell_type": "code",
   "execution_count": 351,
   "metadata": {},
   "outputs": [
    {
     "data": {
      "text/plain": [
       "['dret', 'pakistan', 'rtyu', 'sadaqat', 'sawe', 'kiat', 'gtyu', 'ahmed']"
      ]
     },
     "execution_count": 351,
     "metadata": {},
     "output_type": "execute_result"
    }
   ],
   "source": [
    "list.pop(0)\n",
    "list"
   ]
  },
  {
   "cell_type": "code",
   "execution_count": 352,
   "metadata": {},
   "outputs": [
    {
     "name": "stdout",
     "output_type": "stream",
     "text": [
      "the name is delete from ahmed\n",
      "the remaining htrer is ['dret', 'pakistan', 'rtyu', 'sadaqat', 'sawe', 'kiat', 'gtyu']\n"
     ]
    }
   ],
   "source": [
    "poppedrace=list.pop()\n",
    "print(f\"the name is delete from {poppedrace}\")\n",
    "print(f\"the remaining htrer is {list}\")"
   ]
  },
  {
   "cell_type": "code",
   "execution_count": 353,
   "metadata": {},
   "outputs": [
    {
     "data": {
      "text/plain": [
       "[]"
      ]
     },
     "execution_count": 353,
     "metadata": {},
     "output_type": "execute_result"
    }
   ],
   "source": [
    "list.clear()\n",
    "list"
   ]
  },
  {
   "cell_type": "code",
   "execution_count": 354,
   "metadata": {},
   "outputs": [
    {
     "data": {
      "text/plain": [
       "0"
      ]
     },
     "execution_count": 354,
     "metadata": {},
     "output_type": "execute_result"
    }
   ],
   "source": [
    "len(list)"
   ]
  },
  {
   "cell_type": "code",
   "execution_count": 355,
   "metadata": {},
   "outputs": [],
   "source": [
    "fox = (\"dare\",\"tyu\",345)  # tupples"
   ]
  },
  {
   "cell_type": "code",
   "execution_count": 356,
   "metadata": {},
   "outputs": [
    {
     "data": {
      "text/plain": [
       "('dare', 'tyu', 345)"
      ]
     },
     "execution_count": 356,
     "metadata": {},
     "output_type": "execute_result"
    }
   ],
   "source": [
    "fox\n"
   ]
  },
  {
   "cell_type": "code",
   "execution_count": 357,
   "metadata": {},
   "outputs": [
    {
     "ename": "TypeError",
     "evalue": "'tuple' object does not support item deletion",
     "output_type": "error",
     "traceback": [
      "\u001b[1;31m---------------------------------------------------------------------------\u001b[0m",
      "\u001b[1;31mTypeError\u001b[0m                                 Traceback (most recent call last)",
      "\u001b[1;32m<ipython-input-357-beac3f88ec26>\u001b[0m in \u001b[0;36m<module>\u001b[1;34m\u001b[0m\n\u001b[1;32m----> 1\u001b[1;33m \u001b[1;32mdel\u001b[0m \u001b[0mfox\u001b[0m\u001b[1;33m[\u001b[0m\u001b[1;34m\"dare\"\u001b[0m\u001b[1;33m]\u001b[0m\u001b[1;33m\u001b[0m\u001b[1;33m\u001b[0m\u001b[0m\n\u001b[0m",
      "\u001b[1;31mTypeError\u001b[0m: 'tuple' object does not support item deletion"
     ]
    }
   ],
   "source": [
    "del fox[\"dare\"]"
   ]
  },
  {
   "cell_type": "code",
   "execution_count": 358,
   "metadata": {},
   "outputs": [
    {
     "data": {
      "text/plain": [
       "1"
      ]
     },
     "execution_count": 358,
     "metadata": {},
     "output_type": "execute_result"
    }
   ],
   "source": [
    "fox.count(\"dare\")"
   ]
  },
  {
   "cell_type": "code",
   "execution_count": 359,
   "metadata": {},
   "outputs": [
    {
     "data": {
      "text/plain": [
       "0"
      ]
     },
     "execution_count": 359,
     "metadata": {},
     "output_type": "execute_result"
    }
   ],
   "source": [
    "fox.index(\"dare\")"
   ]
  },
  {
   "cell_type": "code",
   "execution_count": 360,
   "metadata": {},
   "outputs": [
    {
     "data": {
      "text/plain": [
       "[1, 2, 3, 4, 5, 6, 7, 8, 9, 10, 11, 12, 13, 14, 15, 16, 17, 18, 19, 20]"
      ]
     },
     "execution_count": 360,
     "metadata": {},
     "output_type": "execute_result"
    }
   ],
   "source": [
    "fox = [1,2,3,4,5,6,7,8,9,10,11,12,13,14,15,16,17,18,19,20]\n",
    "fox"
   ]
  },
  {
   "cell_type": "code",
   "execution_count": 361,
   "metadata": {},
   "outputs": [
    {
     "data": {
      "text/plain": [
       "[3, 5, 7, 9]"
      ]
     },
     "execution_count": 361,
     "metadata": {},
     "output_type": "execute_result"
    }
   ],
   "source": [
    "fox[2:9:2]    # slicing"
   ]
  },
  {
   "cell_type": "code",
   "execution_count": 362,
   "metadata": {},
   "outputs": [
    {
     "name": "stdout",
     "output_type": "stream",
     "text": [
      "enter the range of table2\n",
      "1*0=0\n",
      "1*1=1\n",
      "1*2=2\n",
      "1*3=3\n",
      "1*4=4\n",
      "1*5=5\n",
      "1*6=6\n",
      "1*7=7\n",
      "1*8=8\n",
      "1*9=9\n",
      "1*10=10\n",
      "2*0=0\n",
      "2*1=2\n",
      "2*2=4\n",
      "2*3=6\n",
      "2*4=8\n",
      "2*5=10\n",
      "2*6=12\n",
      "2*7=14\n",
      "2*8=16\n",
      "2*9=18\n",
      "2*10=20\n"
     ]
    }
   ],
   "source": [
    "table = int(input(\"enter the range of table\"))\n",
    "for table in range(1,table+1):\n",
    "        for a in range(11):\n",
    "            print(f\"{table}*{a}={table*a}\")"
   ]
  },
  {
   "cell_type": "code",
   "execution_count": 363,
   "metadata": {},
   "outputs": [
    {
     "name": "stdout",
     "output_type": "stream",
     "text": [
      "enter the range of time4\n",
      "1+1\n",
      "1+2\n",
      "1+3\n",
      "1+4\n",
      "1+5\n",
      "1+6\n",
      "1+7\n",
      "1+8\n",
      "1+9\n",
      "1+10\n",
      "1+11\n",
      "1+12\n",
      "1+13\n",
      "1+14\n",
      "1+15\n",
      "1+16\n",
      "1+17\n",
      "1+18\n",
      "1+19\n",
      "1+20\n",
      "1+21\n",
      "1+22\n",
      "1+23\n",
      "1+24\n",
      "1+25\n",
      "1+26\n",
      "1+27\n",
      "1+28\n",
      "1+29\n",
      "1+30\n",
      "1+31\n",
      "2+1\n",
      "2+2\n",
      "2+3\n",
      "2+4\n",
      "2+5\n",
      "2+6\n",
      "2+7\n",
      "2+8\n",
      "2+9\n",
      "2+10\n",
      "2+11\n",
      "2+12\n",
      "2+13\n",
      "2+14\n",
      "2+15\n",
      "2+16\n",
      "2+17\n",
      "2+18\n",
      "2+19\n",
      "2+20\n",
      "2+21\n",
      "2+22\n",
      "2+23\n",
      "2+24\n",
      "2+25\n",
      "2+26\n",
      "2+27\n",
      "2+28\n",
      "2+29\n",
      "2+30\n",
      "2+31\n",
      "3+1\n",
      "3+2\n",
      "3+3\n",
      "3+4\n",
      "3+5\n",
      "3+6\n",
      "3+7\n",
      "3+8\n",
      "3+9\n",
      "3+10\n",
      "3+11\n",
      "3+12\n",
      "3+13\n",
      "3+14\n",
      "3+15\n",
      "3+16\n",
      "3+17\n",
      "3+18\n",
      "3+19\n",
      "3+20\n",
      "3+21\n",
      "3+22\n",
      "3+23\n",
      "3+24\n",
      "3+25\n",
      "3+26\n",
      "3+27\n",
      "3+28\n",
      "3+29\n",
      "3+30\n",
      "3+31\n",
      "4+1\n",
      "4+2\n",
      "4+3\n",
      "4+4\n",
      "4+5\n",
      "4+6\n",
      "4+7\n",
      "4+8\n",
      "4+9\n",
      "4+10\n",
      "4+11\n",
      "4+12\n",
      "4+13\n",
      "4+14\n",
      "4+15\n",
      "4+16\n",
      "4+17\n",
      "4+18\n",
      "4+19\n",
      "4+20\n",
      "4+21\n",
      "4+22\n",
      "4+23\n",
      "4+24\n",
      "4+25\n",
      "4+26\n",
      "4+27\n",
      "4+28\n",
      "4+29\n",
      "4+30\n",
      "4+31\n"
     ]
    }
   ],
   "source": [
    "time = int(input(\"enter the range of time\"))\n",
    "for time in range (1,time+1):\n",
    "    for observation in range(1,32):\n",
    "        print(f\"{time}+{observation}\")"
   ]
  },
  {
   "cell_type": "code",
   "execution_count": 364,
   "metadata": {},
   "outputs": [
    {
     "name": "stdout",
     "output_type": "stream",
     "text": [
      "enter the range of table3\n",
      "1+0=1\n",
      "1+1=2\n",
      "1+2=3\n",
      "1+3=4\n",
      "1+4=5\n",
      "1+5=6\n",
      "1+6=7\n",
      "1+7=8\n",
      "1+8=9\n",
      "1+9=10\n",
      "1+10=11\n",
      "2+0=2\n",
      "2+1=3\n",
      "2+2=4\n",
      "2+3=5\n",
      "2+4=6\n",
      "2+5=7\n",
      "2+6=8\n",
      "2+7=9\n",
      "2+8=10\n",
      "2+9=11\n",
      "2+10=12\n"
     ]
    }
   ],
   "source": [
    "table = int(input(\"enter the range of table\"))\n",
    "for table in range(1,table):\n",
    "        for a in range(11):\n",
    "            if table == 4:\n",
    "                break\n",
    "                print(f\"{table}*{a}={table*a}\")\n",
    "            else:\n",
    "                    print(f\"{table}+{a}={table+a}\")"
   ]
  },
  {
   "cell_type": "code",
   "execution_count": 365,
   "metadata": {},
   "outputs": [
    {
     "name": "stdout",
     "output_type": "stream",
     "text": [
      "enter the range of table3\n",
      "1:3=  1\n",
      "1:3=  1\n",
      "1:3=  1\n",
      "1:3=  1\n",
      "1:3=  1\n",
      "1:3=  1\n",
      "1:3=  1\n",
      "1:3=  1\n",
      "1:3=  1\n",
      "1:3=  1\n",
      "1:3=  1\n",
      "2:3=  2\n",
      "2:3=  2\n",
      "2:3=  2\n",
      "2:3=  2\n",
      "2:3=  2\n",
      "2:3=  2\n",
      "2:3=  2\n",
      "2:3=  2\n",
      "2:3=  2\n",
      "2:3=  2\n",
      "2:3=  2\n"
     ]
    }
   ],
   "source": [
    "table = int(input(\"enter the range of table\"))\n",
    "for table in range(1,table):\n",
    "        for a in range(11):\n",
    "            if table != 4:\n",
    "                print(f\"{table}:{3}={table:3}\")\n",
    "            else:\n",
    "                    print(f\"{table}+{a}={table+a}\")\n",
    "                    \n",
    "                    "
   ]
  },
  {
   "cell_type": "code",
   "execution_count": 366,
   "metadata": {},
   "outputs": [
    {
     "name": "stdout",
     "output_type": "stream",
     "text": [
      "enter the range of table1\n"
     ]
    }
   ],
   "source": [
    "table =int(input(\"enter the range of table\"))\n",
    "for table in range(1,table):\n",
    "        for a in range(11):\n",
    "            print(f\"{table}+{a}={table+a}\")\n"
   ]
  },
  {
   "cell_type": "code",
   "execution_count": 367,
   "metadata": {},
   "outputs": [
    {
     "name": "stdout",
     "output_type": "stream",
     "text": [
      "12333\n"
     ]
    },
    {
     "data": {
      "text/plain": [
       "str"
      ]
     },
     "execution_count": 367,
     "metadata": {},
     "output_type": "execute_result"
    }
   ],
   "source": [
    "table = str(input(123))\n",
    "type(table)\n"
   ]
  },
  {
   "cell_type": "code",
   "execution_count": 368,
   "metadata": {},
   "outputs": [],
   "source": [
    "ghi = \"pakistan is our country \" "
   ]
  },
  {
   "cell_type": "code",
   "execution_count": 369,
   "metadata": {},
   "outputs": [
    {
     "data": {
      "text/plain": [
       "'PAKISTAN IS OUR COUNTRY '"
      ]
     },
     "execution_count": 369,
     "metadata": {},
     "output_type": "execute_result"
    }
   ],
   "source": [
    "ghi.upper()"
   ]
  },
  {
   "cell_type": "code",
   "execution_count": 370,
   "metadata": {},
   "outputs": [
    {
     "data": {
      "text/plain": [
       "'pakistan is our country '"
      ]
     },
     "execution_count": 370,
     "metadata": {},
     "output_type": "execute_result"
    }
   ],
   "source": [
    "ghi.lower()"
   ]
  },
  {
   "cell_type": "code",
   "execution_count": 371,
   "metadata": {},
   "outputs": [
    {
     "data": {
      "text/plain": [
       "'Pakistan Is Our Country '"
      ]
     },
     "execution_count": 371,
     "metadata": {},
     "output_type": "execute_result"
    }
   ],
   "source": [
    "ghi.title()"
   ]
  },
  {
   "cell_type": "code",
   "execution_count": 372,
   "metadata": {},
   "outputs": [
    {
     "name": "stdout",
     "output_type": "stream",
     "text": [
      "enter the country namepakistan is our country\n"
     ]
    },
    {
     "data": {
      "text/plain": [
       "'PAKISTAN IS OUR COUNTRY'"
      ]
     },
     "execution_count": 372,
     "metadata": {},
     "output_type": "execute_result"
    }
   ],
   "source": [
    "userinput = input(\"enter the country name\")\n",
    "userinput.upper()"
   ]
  },
  {
   "cell_type": "code",
   "execution_count": 373,
   "metadata": {},
   "outputs": [
    {
     "data": {
      "text/plain": [
       "{'country': 'pakistan', 'namne': 'ali', 'education': 'matric', 'age': 21}"
      ]
     },
     "execution_count": 373,
     "metadata": {},
     "output_type": "execute_result"
    }
   ],
   "source": [
    "students = {\"country\" : \"pakistan\",\"namne\" : \"ali\" ,\"education\": \"matric\",\"age\" :21}\n",
    "students"
   ]
  },
  {
   "cell_type": "code",
   "execution_count": 374,
   "metadata": {},
   "outputs": [],
   "source": [
    "#dicitionaries\n",
    "# key value is always in string ,float ,integer.\n",
    "#value is in string ,float ,integer , list, tupple ,dicitionary"
   ]
  },
  {
   "cell_type": "code",
   "execution_count": 375,
   "metadata": {},
   "outputs": [],
   "source": [
    "students[123]= list"
   ]
  },
  {
   "cell_type": "code",
   "execution_count": 376,
   "metadata": {},
   "outputs": [
    {
     "data": {
      "text/plain": [
       "{'country': 'pakistan',\n",
       " 'namne': 'ali',\n",
       " 'education': 'matric',\n",
       " 'age': 21,\n",
       " 123: []}"
      ]
     },
     "execution_count": 376,
     "metadata": {},
     "output_type": "execute_result"
    }
   ],
   "source": [
    "students"
   ]
  },
  {
   "cell_type": "code",
   "execution_count": 377,
   "metadata": {},
   "outputs": [
    {
     "data": {
      "text/plain": [
       "[]"
      ]
     },
     "execution_count": 377,
     "metadata": {},
     "output_type": "execute_result"
    }
   ],
   "source": [
    "list"
   ]
  },
  {
   "cell_type": "code",
   "execution_count": 378,
   "metadata": {},
   "outputs": [
    {
     "data": {
      "text/plain": [
       "[1, 2, 3, 4, 5, 6, 7, 8, 9, 10, 11, 12, 13, 14, 15, 16, 17, 18, 19, 20]"
      ]
     },
     "execution_count": 378,
     "metadata": {},
     "output_type": "execute_result"
    }
   ],
   "source": [
    "fox"
   ]
  },
  {
   "cell_type": "code",
   "execution_count": 379,
   "metadata": {},
   "outputs": [
    {
     "ename": "NameError",
     "evalue": "name 'pak' is not defined",
     "output_type": "error",
     "traceback": [
      "\u001b[1;31m---------------------------------------------------------------------------\u001b[0m",
      "\u001b[1;31mNameError\u001b[0m                                 Traceback (most recent call last)",
      "\u001b[1;32m<ipython-input-379-a9e1d75ea646>\u001b[0m in \u001b[0;36m<module>\u001b[1;34m\u001b[0m\n\u001b[1;32m----> 1\u001b[1;33m \u001b[0mstudents\u001b[0m\u001b[1;33m[\u001b[0m\u001b[0mpak\u001b[0m\u001b[1;33m]\u001b[0m\u001b[1;33m=\u001b[0m\u001b[0mfox\u001b[0m\u001b[1;33m\u001b[0m\u001b[1;33m\u001b[0m\u001b[0m\n\u001b[0m\u001b[0;32m      2\u001b[0m \u001b[0mstudents\u001b[0m\u001b[1;33m\u001b[0m\u001b[1;33m\u001b[0m\u001b[0m\n",
      "\u001b[1;31mNameError\u001b[0m: name 'pak' is not defined"
     ]
    }
   ],
   "source": [
    "students[pak]=fox\n",
    "students"
   ]
  },
  {
   "cell_type": "code",
   "execution_count": 380,
   "metadata": {},
   "outputs": [
    {
     "name": "stdout",
     "output_type": "stream",
     "text": [
      "21\n"
     ]
    }
   ],
   "source": [
    "print(students[\"age\"]) # accesing the dictionary"
   ]
  },
  {
   "cell_type": "code",
   "execution_count": 381,
   "metadata": {},
   "outputs": [
    {
     "data": {
      "text/plain": [
       "{'country': 'pakistan', 'namne': 'ali', 'education': 'matric', 123: []}"
      ]
     },
     "execution_count": 381,
     "metadata": {},
     "output_type": "execute_result"
    }
   ],
   "source": [
    "del students[\"age\"]         # deleteing the dictionaries\n",
    "students                                                     "
   ]
  },
  {
   "cell_type": "code",
   "execution_count": 383,
   "metadata": {},
   "outputs": [
    {
     "data": {
      "text/plain": [
       "True"
      ]
     },
     "execution_count": 383,
     "metadata": {},
     "output_type": "execute_result"
    }
   ],
   "source": [
    "\"country\" in students"
   ]
  },
  {
   "cell_type": "code",
   "execution_count": 384,
   "metadata": {},
   "outputs": [
    {
     "data": {
      "text/plain": [
       "False"
      ]
     },
     "execution_count": 384,
     "metadata": {},
     "output_type": "execute_result"
    }
   ],
   "source": [
    "\"pakistan\" in students"
   ]
  },
  {
   "cell_type": "code",
   "execution_count": 391,
   "metadata": {},
   "outputs": [
    {
     "name": "stdout",
     "output_type": "stream",
     "text": [
      "pakistan\n",
      "ali\n",
      "matric\n",
      "[]\n"
     ]
    }
   ],
   "source": [
    "for value in students.values():      # here display all value\n",
    "    print(value)"
   ]
  },
  {
   "cell_type": "code",
   "execution_count": 392,
   "metadata": {},
   "outputs": [
    {
     "name": "stdout",
     "output_type": "stream",
     "text": [
      "country\n",
      "namne\n",
      "education\n",
      "123\n"
     ]
    }
   ],
   "source": [
    "for key in students.keys():  #here display all key\n",
    "    print(key)"
   ]
  },
  {
   "cell_type": "code",
   "execution_count": 393,
   "metadata": {},
   "outputs": [
    {
     "name": "stdout",
     "output_type": "stream",
     "text": [
      "('country', 'pakistan')\n",
      "('namne', 'ali')\n",
      "('education', 'matric')\n",
      "(123, [])\n"
     ]
    }
   ],
   "source": [
    "for item in students.items():      # here key & value both \n",
    "    print(item)"
   ]
  },
  {
   "cell_type": "code",
   "execution_count": 405,
   "metadata": {},
   "outputs": [
    {
     "ename": "SyntaxError",
     "evalue": "unexpected EOF while parsing (<ipython-input-405-92526ad2d07d>, line 1)",
     "output_type": "error",
     "traceback": [
      "\u001b[1;36m  File \u001b[1;32m\"<ipython-input-405-92526ad2d07d>\"\u001b[1;36m, line \u001b[1;32m1\u001b[0m\n\u001b[1;33m    students = [\u001b[0m\n\u001b[1;37m                ^\u001b[0m\n\u001b[1;31mSyntaxError\u001b[0m\u001b[1;31m:\u001b[0m unexpected EOF while parsing\n"
     ]
    }
   ],
   "source": [
    "students = ["
   ]
  },
  {
   "cell_type": "code",
   "execution_count": 409,
   "metadata": {},
   "outputs": [
    {
     "ename": "SyntaxError",
     "evalue": "invalid syntax (<ipython-input-409-3ec16ea7a8a1>, line 2)",
     "output_type": "error",
     "traceback": [
      "\u001b[1;36m  File \u001b[1;32m\"<ipython-input-409-3ec16ea7a8a1>\"\u001b[1;36m, line \u001b[1;32m2\u001b[0m\n\u001b[1;33m    for student in students:\u001b[0m\n\u001b[1;37m      ^\u001b[0m\n\u001b[1;31mSyntaxError\u001b[0m\u001b[1;31m:\u001b[0m invalid syntax\n"
     ]
    }
   ],
   "source": [
    "students.append({\"names\":\"ali\",\"pakistan\":\"islambad\"\n",
    "for student in students:\n",
    "    print(student)\n"
   ]
  },
  {
   "cell_type": "code",
   "execution_count": 411,
   "metadata": {},
   "outputs": [
    {
     "ename": "SyntaxError",
     "evalue": "unexpected EOF while parsing (<ipython-input-411-d8f87e5e739e>, line 2)",
     "output_type": "error",
     "traceback": [
      "\u001b[1;36m  File \u001b[1;32m\"<ipython-input-411-d8f87e5e739e>\"\u001b[1;36m, line \u001b[1;32m2\u001b[0m\n\u001b[1;33m    print(student\u001b[0m\n\u001b[1;37m                 ^\u001b[0m\n\u001b[1;31mSyntaxError\u001b[0m\u001b[1;31m:\u001b[0m unexpected EOF while parsing\n"
     ]
    }
   ],
   "source": [
    "for student in students:\n",
    "    print(student"
   ]
  },
  {
   "cell_type": "code",
   "execution_count": 414,
   "metadata": {},
   "outputs": [
    {
     "data": {
      "text/plain": [
       "{'country': 'pakistan', 'namne': 'ali', 'education': 'matric', 'age': 21}"
      ]
     },
     "execution_count": 414,
     "metadata": {},
     "output_type": "execute_result"
    }
   ],
   "source": [
    "students = {\"country\" : \"pakistan\",\"namne\" : \"ali\" ,\"education\": \"matric\",\"age\" :21}\n",
    "students"
   ]
  },
  {
   "cell_type": "code",
   "execution_count": 416,
   "metadata": {},
   "outputs": [
    {
     "name": "stdout",
     "output_type": "stream",
     "text": [
      "21\n"
     ]
    }
   ],
   "source": [
    "print(students.get(\"age\"))"
   ]
  },
  {
   "cell_type": "code",
   "execution_count": null,
   "metadata": {},
   "outputs": [],
   "source": []
  }
 ],
 "metadata": {
  "kernelspec": {
   "display_name": "Python 3",
   "language": "python",
   "name": "python3"
  },
  "language_info": {
   "codemirror_mode": {
    "name": "ipython",
    "version": 3
   },
   "file_extension": ".py",
   "mimetype": "text/x-python",
   "name": "python",
   "nbconvert_exporter": "python",
   "pygments_lexer": "ipython3",
   "version": "3.7.6"
  }
 },
 "nbformat": 4,
 "nbformat_minor": 4
}
